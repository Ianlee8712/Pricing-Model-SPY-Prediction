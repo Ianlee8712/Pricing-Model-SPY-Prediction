{
  "nbformat": 4,
  "nbformat_minor": 0,
  "metadata": {
    "colab": {
      "provenance": [],
      "toc_visible": true
    },
    "kernelspec": {
      "name": "python3",
      "display_name": "Python 3"
    },
    "language_info": {
      "name": "python"
    }
  },
  "cells": [
    {
      "cell_type": "markdown",
      "source": [
        "\n",
        "<h1>\n",
        "<center></center>\n",
        "</h1>\n",
        "\n",
        "\n",
        "\n",
        "\n",
        "\n",
        "<h1>\n",
        "<center>Trading Strategy - SPY Price Prediction Based on Regressors</center>\n",
        "</h1>\n",
        "\n",
        "<h1>\n",
        "<center>Ian Lee</center>\n",
        "</h1>"
      ],
      "metadata": {
        "id": "k39P5JYWZKEF"
      }
    },
    {
      "cell_type": "markdown",
      "source": [
        "# Introduction"
      ],
      "metadata": {
        "id": "shBiHcJwJZa5"
      }
    },
    {
      "cell_type": "markdown",
      "source": [
        "**Propose**\n",
        "\n",
        "In this project, the goal is to predict the closing price of the SPY ETF, which tracks the S&P 500, a key indicator of the US stock market. Machine learning methods, specifically random forest regression, and linear regression, are used. By making accurate predictions, it is possible to decide whether to take long or short positions on the SPY, enabling the implementation of this trading strategy in the equity market.\n",
        "\n"
      ],
      "metadata": {
        "id": "bb3OLKctZLlK"
      }
    },
    {
      "cell_type": "markdown",
      "source": [
        "**Summary**\n",
        "\n",
        "Assumption:\n",
        "It is assumed that the SPY ETF reflects the S&P 500, so variables related to the US stock market can be used as feature variables to efficiently predict the SPY closing price.\n",
        "\n",
        "Hypothesis Test:\n",
        "The hypothesis of this trading strategy is that the feature variable has a significant effect on predicting the target variable (the closing price of SPY). To validate this hypothesis, P-value and correlation tests will be used to determine if the assumption is strong enough to deploy this trading strategy.\n",
        "\n",
        "Indicator:\n",
        "To evaluate whether the model provides better predictions, the mean squared error (MSE) is used as an indicator. Specifically, the MSE of the model is compared to the MSE of a simple prediction method, where the predicted price is assumed to be equal to the previous price. In this simple prediction method, the price at t=1 is assumed to be the same as the price at t=0, which is already known. If the MSE of the model is lower than that of the simple prediction, the model is considered to have better predictive performance.\n",
        "\n",
        "Signal Process and Rule:\n",
        "The linear regression model is used to determine the p-value of each variable. If the p-value is small (less than 0.1), it indicates that the variable is significant for the prediction. Additionally, a simple correlation analysis is performed; if the absolute value of the correlation is higher than 0.5, the variable is considered for use in the model.\n",
        "\n",
        "\n",
        "\n"
      ],
      "metadata": {
        "id": "2WT0uAb_cuCg"
      }
    },
    {
      "cell_type": "markdown",
      "source": [
        "**Strategy**\n",
        "\n",
        "Objectives of Strategy:\n",
        "The strategy aims to use feature variables to make daily predictions of the SPY ETF closing price. Based on these predictions, long or short positions are taken, and then closed within the same day to generate returns. This process is repeated daily with the goal of accurately predicting market directions (long or short) to consistently make a profit.\n",
        "\n",
        "Constraints:\n",
        "Positions are limited to daily trades, meaning no positions are held overnight. This approach simplifies the model, making it easier to build, monitor, and modify, and it also reduces some transaction costs. For example, taking short positions incurs borrowing costs, which are difficult to approximate during backtesting. Additionally, positions are closed when the price reaches the predicted level. While this might potentially reduce profits, it also mitigates drawdown risk. For instance, if the predicted price is 96, the open price is 95, the highest price of the day is 97, but it quickly drops and closes at 92, this constraint ensures a profit when the price declines.\n",
        "\n",
        "Benchmarks:\n",
        "The SPY itself serves as the benchmark since it represents investing in the US equity market. The benchmark return is calculated by holding a long position at the beginning of the day, when our trading strategy is deployed in backtesting, and closing it (selling it) at the end of the day, when our trading strategy is not used in backtesting. The performance of our trading strategy is evaluated by comparing its annualized return, volatility, and Sharpe ratio against this benchmark."
      ],
      "metadata": {
        "id": "RBognIB6i71Z"
      }
    },
    {
      "cell_type": "markdown",
      "source": [
        "**Data**\n",
        "\n",
        "In this project, the variables used are the SPY's closing price, trading volume, and the yield rate of the ten-year Treasury bond, which is considered the risk-free rate of the market and is widely used in financial models as a fundamental element. The yield rate shows the current risk-free return from the market, representing the basic return for investments. Therefore, it is an important indicator for measuring the US equity market, which is correlated with the SPY."
      ],
      "metadata": {
        "id": "EUIiU9sYn2t2"
      }
    },
    {
      "cell_type": "markdown",
      "source": [
        "# Hypothesis Testing"
      ],
      "metadata": {
        "id": "1A5YEBm6KP0c"
      }
    },
    {
      "cell_type": "markdown",
      "source": [
        "**Concept**\n",
        "\n",
        "\n",
        "In hypothesis testing, linear regression and correlation tests are conducted to determine if the potential feature variables have a correlation with the target variable (the daily closing price of SPY)."
      ],
      "metadata": {
        "id": "JLnZeMWQveOW"
      }
    },
    {
      "cell_type": "markdown",
      "source": [
        "**Data Process**\n",
        "\n",
        "\n",
        "Download financial data individually from the Yahoo Finance API, fill in any missing data with the mean, and finally organize it into a DataFrame."
      ],
      "metadata": {
        "id": "PXGexo-mu8kQ"
      }
    },
    {
      "cell_type": "code",
      "source": [
        "# Import packages\n",
        "import yfinance as yf\n",
        "import pandas as pd\n",
        "import numpy as np\n",
        "import statsmodels.api as sm\n",
        "import matplotlib.pyplot as plt\n",
        "from matplotlib.dates import DateFormatter, DayLocator\n",
        "from sklearn.model_selection import TimeSeriesSplit\n",
        "from sklearn.model_selection import train_test_split\n",
        "from sklearn.ensemble import RandomForestRegressor\n",
        "from sklearn.linear_model import LinearRegression\n",
        "from sklearn.metrics import mean_squared_error"
      ],
      "metadata": {
        "id": "QmQpqCLAwNfJ"
      },
      "execution_count": null,
      "outputs": []
    },
    {
      "cell_type": "code",
      "execution_count": null,
      "metadata": {
        "colab": {
          "base_uri": "https://localhost:8080/",
          "height": 507
        },
        "id": "55XAWnaxHKtn",
        "outputId": "905f6e76-129a-4869-ef03-a819c82fd3bf"
      },
      "outputs": [
        {
          "output_type": "stream",
          "name": "stderr",
          "text": [
            "[*********************100%%**********************]  1 of 1 completed\n",
            "[*********************100%%**********************]  1 of 1 completed\n",
            "[*********************100%%**********************]  1 of 1 completed\n"
          ]
        },
        {
          "output_type": "execute_result",
          "data": {
            "text/plain": [
              "                  Open        High         Low       Close   Adj Close  \\\n",
              "Date                                                                     \n",
              "1993-01-29   43.968750   43.968750   43.750000   43.937500   24.763739   \n",
              "1993-02-01   43.968750   44.250000   43.968750   44.250000   24.939867   \n",
              "1993-02-02   44.218750   44.375000   44.125000   44.343750   24.992710   \n",
              "1993-02-03   44.406250   44.843750   44.375000   44.812500   25.256897   \n",
              "1993-02-04   44.968750   45.093750   44.468750   45.000000   25.362576   \n",
              "...                ...         ...         ...         ...         ...   \n",
              "2024-05-20  529.570007  531.559998  529.169983  530.059998  530.059998   \n",
              "2024-05-21  529.280029  531.520020  529.070007  531.359985  531.359985   \n",
              "2024-05-22  530.650024  531.380005  527.599976  529.830017  529.830017   \n",
              "2024-05-23  532.960022  533.070007  524.719971  525.960022  525.960022   \n",
              "2024-05-24  527.849976  530.270020  526.880005  529.440002  529.440002   \n",
              "\n",
              "              Volume  Risk_Free_Close  SP500_Close  \n",
              "Date                                                \n",
              "1993-01-29   1003200          0.06390   438.779999  \n",
              "1993-02-01    480500          0.06380   442.519989  \n",
              "1993-02-02    201300          0.06460   442.549988  \n",
              "1993-02-03    529400          0.06450   447.200012  \n",
              "1993-02-04    531500          0.06390   449.559998  \n",
              "...              ...              ...          ...  \n",
              "2024-05-20  37764200          0.04437  5308.129883  \n",
              "2024-05-21  33437000          0.04414  5321.410156  \n",
              "2024-05-22  48390000          0.04434  5307.009766  \n",
              "2024-05-23  57211200          0.04475  5267.839844  \n",
              "2024-05-24  41258400          0.04467  5304.720215  \n",
              "\n",
              "[7887 rows x 8 columns]"
            ],
            "text/html": [
              "\n",
              "  <div id=\"df-231b6492-dd51-49cf-95e8-9f27a33972c1\" class=\"colab-df-container\">\n",
              "    <div>\n",
              "<style scoped>\n",
              "    .dataframe tbody tr th:only-of-type {\n",
              "        vertical-align: middle;\n",
              "    }\n",
              "\n",
              "    .dataframe tbody tr th {\n",
              "        vertical-align: top;\n",
              "    }\n",
              "\n",
              "    .dataframe thead th {\n",
              "        text-align: right;\n",
              "    }\n",
              "</style>\n",
              "<table border=\"1\" class=\"dataframe\">\n",
              "  <thead>\n",
              "    <tr style=\"text-align: right;\">\n",
              "      <th></th>\n",
              "      <th>Open</th>\n",
              "      <th>High</th>\n",
              "      <th>Low</th>\n",
              "      <th>Close</th>\n",
              "      <th>Adj Close</th>\n",
              "      <th>Volume</th>\n",
              "      <th>Risk_Free_Close</th>\n",
              "      <th>SP500_Close</th>\n",
              "    </tr>\n",
              "    <tr>\n",
              "      <th>Date</th>\n",
              "      <th></th>\n",
              "      <th></th>\n",
              "      <th></th>\n",
              "      <th></th>\n",
              "      <th></th>\n",
              "      <th></th>\n",
              "      <th></th>\n",
              "      <th></th>\n",
              "    </tr>\n",
              "  </thead>\n",
              "  <tbody>\n",
              "    <tr>\n",
              "      <th>1993-01-29</th>\n",
              "      <td>43.968750</td>\n",
              "      <td>43.968750</td>\n",
              "      <td>43.750000</td>\n",
              "      <td>43.937500</td>\n",
              "      <td>24.763739</td>\n",
              "      <td>1003200</td>\n",
              "      <td>0.06390</td>\n",
              "      <td>438.779999</td>\n",
              "    </tr>\n",
              "    <tr>\n",
              "      <th>1993-02-01</th>\n",
              "      <td>43.968750</td>\n",
              "      <td>44.250000</td>\n",
              "      <td>43.968750</td>\n",
              "      <td>44.250000</td>\n",
              "      <td>24.939867</td>\n",
              "      <td>480500</td>\n",
              "      <td>0.06380</td>\n",
              "      <td>442.519989</td>\n",
              "    </tr>\n",
              "    <tr>\n",
              "      <th>1993-02-02</th>\n",
              "      <td>44.218750</td>\n",
              "      <td>44.375000</td>\n",
              "      <td>44.125000</td>\n",
              "      <td>44.343750</td>\n",
              "      <td>24.992710</td>\n",
              "      <td>201300</td>\n",
              "      <td>0.06460</td>\n",
              "      <td>442.549988</td>\n",
              "    </tr>\n",
              "    <tr>\n",
              "      <th>1993-02-03</th>\n",
              "      <td>44.406250</td>\n",
              "      <td>44.843750</td>\n",
              "      <td>44.375000</td>\n",
              "      <td>44.812500</td>\n",
              "      <td>25.256897</td>\n",
              "      <td>529400</td>\n",
              "      <td>0.06450</td>\n",
              "      <td>447.200012</td>\n",
              "    </tr>\n",
              "    <tr>\n",
              "      <th>1993-02-04</th>\n",
              "      <td>44.968750</td>\n",
              "      <td>45.093750</td>\n",
              "      <td>44.468750</td>\n",
              "      <td>45.000000</td>\n",
              "      <td>25.362576</td>\n",
              "      <td>531500</td>\n",
              "      <td>0.06390</td>\n",
              "      <td>449.559998</td>\n",
              "    </tr>\n",
              "    <tr>\n",
              "      <th>...</th>\n",
              "      <td>...</td>\n",
              "      <td>...</td>\n",
              "      <td>...</td>\n",
              "      <td>...</td>\n",
              "      <td>...</td>\n",
              "      <td>...</td>\n",
              "      <td>...</td>\n",
              "      <td>...</td>\n",
              "    </tr>\n",
              "    <tr>\n",
              "      <th>2024-05-20</th>\n",
              "      <td>529.570007</td>\n",
              "      <td>531.559998</td>\n",
              "      <td>529.169983</td>\n",
              "      <td>530.059998</td>\n",
              "      <td>530.059998</td>\n",
              "      <td>37764200</td>\n",
              "      <td>0.04437</td>\n",
              "      <td>5308.129883</td>\n",
              "    </tr>\n",
              "    <tr>\n",
              "      <th>2024-05-21</th>\n",
              "      <td>529.280029</td>\n",
              "      <td>531.520020</td>\n",
              "      <td>529.070007</td>\n",
              "      <td>531.359985</td>\n",
              "      <td>531.359985</td>\n",
              "      <td>33437000</td>\n",
              "      <td>0.04414</td>\n",
              "      <td>5321.410156</td>\n",
              "    </tr>\n",
              "    <tr>\n",
              "      <th>2024-05-22</th>\n",
              "      <td>530.650024</td>\n",
              "      <td>531.380005</td>\n",
              "      <td>527.599976</td>\n",
              "      <td>529.830017</td>\n",
              "      <td>529.830017</td>\n",
              "      <td>48390000</td>\n",
              "      <td>0.04434</td>\n",
              "      <td>5307.009766</td>\n",
              "    </tr>\n",
              "    <tr>\n",
              "      <th>2024-05-23</th>\n",
              "      <td>532.960022</td>\n",
              "      <td>533.070007</td>\n",
              "      <td>524.719971</td>\n",
              "      <td>525.960022</td>\n",
              "      <td>525.960022</td>\n",
              "      <td>57211200</td>\n",
              "      <td>0.04475</td>\n",
              "      <td>5267.839844</td>\n",
              "    </tr>\n",
              "    <tr>\n",
              "      <th>2024-05-24</th>\n",
              "      <td>527.849976</td>\n",
              "      <td>530.270020</td>\n",
              "      <td>526.880005</td>\n",
              "      <td>529.440002</td>\n",
              "      <td>529.440002</td>\n",
              "      <td>41258400</td>\n",
              "      <td>0.04467</td>\n",
              "      <td>5304.720215</td>\n",
              "    </tr>\n",
              "  </tbody>\n",
              "</table>\n",
              "<p>7887 rows × 8 columns</p>\n",
              "</div>\n",
              "    <div class=\"colab-df-buttons\">\n",
              "\n",
              "  <div class=\"colab-df-container\">\n",
              "    <button class=\"colab-df-convert\" onclick=\"convertToInteractive('df-231b6492-dd51-49cf-95e8-9f27a33972c1')\"\n",
              "            title=\"Convert this dataframe to an interactive table.\"\n",
              "            style=\"display:none;\">\n",
              "\n",
              "  <svg xmlns=\"http://www.w3.org/2000/svg\" height=\"24px\" viewBox=\"0 -960 960 960\">\n",
              "    <path d=\"M120-120v-720h720v720H120Zm60-500h600v-160H180v160Zm220 220h160v-160H400v160Zm0 220h160v-160H400v160ZM180-400h160v-160H180v160Zm440 0h160v-160H620v160ZM180-180h160v-160H180v160Zm440 0h160v-160H620v160Z\"/>\n",
              "  </svg>\n",
              "    </button>\n",
              "\n",
              "  <style>\n",
              "    .colab-df-container {\n",
              "      display:flex;\n",
              "      gap: 12px;\n",
              "    }\n",
              "\n",
              "    .colab-df-convert {\n",
              "      background-color: #E8F0FE;\n",
              "      border: none;\n",
              "      border-radius: 50%;\n",
              "      cursor: pointer;\n",
              "      display: none;\n",
              "      fill: #1967D2;\n",
              "      height: 32px;\n",
              "      padding: 0 0 0 0;\n",
              "      width: 32px;\n",
              "    }\n",
              "\n",
              "    .colab-df-convert:hover {\n",
              "      background-color: #E2EBFA;\n",
              "      box-shadow: 0px 1px 2px rgba(60, 64, 67, 0.3), 0px 1px 3px 1px rgba(60, 64, 67, 0.15);\n",
              "      fill: #174EA6;\n",
              "    }\n",
              "\n",
              "    .colab-df-buttons div {\n",
              "      margin-bottom: 4px;\n",
              "    }\n",
              "\n",
              "    [theme=dark] .colab-df-convert {\n",
              "      background-color: #3B4455;\n",
              "      fill: #D2E3FC;\n",
              "    }\n",
              "\n",
              "    [theme=dark] .colab-df-convert:hover {\n",
              "      background-color: #434B5C;\n",
              "      box-shadow: 0px 1px 3px 1px rgba(0, 0, 0, 0.15);\n",
              "      filter: drop-shadow(0px 1px 2px rgba(0, 0, 0, 0.3));\n",
              "      fill: #FFFFFF;\n",
              "    }\n",
              "  </style>\n",
              "\n",
              "    <script>\n",
              "      const buttonEl =\n",
              "        document.querySelector('#df-231b6492-dd51-49cf-95e8-9f27a33972c1 button.colab-df-convert');\n",
              "      buttonEl.style.display =\n",
              "        google.colab.kernel.accessAllowed ? 'block' : 'none';\n",
              "\n",
              "      async function convertToInteractive(key) {\n",
              "        const element = document.querySelector('#df-231b6492-dd51-49cf-95e8-9f27a33972c1');\n",
              "        const dataTable =\n",
              "          await google.colab.kernel.invokeFunction('convertToInteractive',\n",
              "                                                    [key], {});\n",
              "        if (!dataTable) return;\n",
              "\n",
              "        const docLinkHtml = 'Like what you see? Visit the ' +\n",
              "          '<a target=\"_blank\" href=https://colab.research.google.com/notebooks/data_table.ipynb>data table notebook</a>'\n",
              "          + ' to learn more about interactive tables.';\n",
              "        element.innerHTML = '';\n",
              "        dataTable['output_type'] = 'display_data';\n",
              "        await google.colab.output.renderOutput(dataTable, element);\n",
              "        const docLink = document.createElement('div');\n",
              "        docLink.innerHTML = docLinkHtml;\n",
              "        element.appendChild(docLink);\n",
              "      }\n",
              "    </script>\n",
              "  </div>\n",
              "\n",
              "\n",
              "<div id=\"df-8c03b85a-a6bf-43f6-9c6d-14feeb10c8fa\">\n",
              "  <button class=\"colab-df-quickchart\" onclick=\"quickchart('df-8c03b85a-a6bf-43f6-9c6d-14feeb10c8fa')\"\n",
              "            title=\"Suggest charts\"\n",
              "            style=\"display:none;\">\n",
              "\n",
              "<svg xmlns=\"http://www.w3.org/2000/svg\" height=\"24px\"viewBox=\"0 0 24 24\"\n",
              "     width=\"24px\">\n",
              "    <g>\n",
              "        <path d=\"M19 3H5c-1.1 0-2 .9-2 2v14c0 1.1.9 2 2 2h14c1.1 0 2-.9 2-2V5c0-1.1-.9-2-2-2zM9 17H7v-7h2v7zm4 0h-2V7h2v10zm4 0h-2v-4h2v4z\"/>\n",
              "    </g>\n",
              "</svg>\n",
              "  </button>\n",
              "\n",
              "<style>\n",
              "  .colab-df-quickchart {\n",
              "      --bg-color: #E8F0FE;\n",
              "      --fill-color: #1967D2;\n",
              "      --hover-bg-color: #E2EBFA;\n",
              "      --hover-fill-color: #174EA6;\n",
              "      --disabled-fill-color: #AAA;\n",
              "      --disabled-bg-color: #DDD;\n",
              "  }\n",
              "\n",
              "  [theme=dark] .colab-df-quickchart {\n",
              "      --bg-color: #3B4455;\n",
              "      --fill-color: #D2E3FC;\n",
              "      --hover-bg-color: #434B5C;\n",
              "      --hover-fill-color: #FFFFFF;\n",
              "      --disabled-bg-color: #3B4455;\n",
              "      --disabled-fill-color: #666;\n",
              "  }\n",
              "\n",
              "  .colab-df-quickchart {\n",
              "    background-color: var(--bg-color);\n",
              "    border: none;\n",
              "    border-radius: 50%;\n",
              "    cursor: pointer;\n",
              "    display: none;\n",
              "    fill: var(--fill-color);\n",
              "    height: 32px;\n",
              "    padding: 0;\n",
              "    width: 32px;\n",
              "  }\n",
              "\n",
              "  .colab-df-quickchart:hover {\n",
              "    background-color: var(--hover-bg-color);\n",
              "    box-shadow: 0 1px 2px rgba(60, 64, 67, 0.3), 0 1px 3px 1px rgba(60, 64, 67, 0.15);\n",
              "    fill: var(--button-hover-fill-color);\n",
              "  }\n",
              "\n",
              "  .colab-df-quickchart-complete:disabled,\n",
              "  .colab-df-quickchart-complete:disabled:hover {\n",
              "    background-color: var(--disabled-bg-color);\n",
              "    fill: var(--disabled-fill-color);\n",
              "    box-shadow: none;\n",
              "  }\n",
              "\n",
              "  .colab-df-spinner {\n",
              "    border: 2px solid var(--fill-color);\n",
              "    border-color: transparent;\n",
              "    border-bottom-color: var(--fill-color);\n",
              "    animation:\n",
              "      spin 1s steps(1) infinite;\n",
              "  }\n",
              "\n",
              "  @keyframes spin {\n",
              "    0% {\n",
              "      border-color: transparent;\n",
              "      border-bottom-color: var(--fill-color);\n",
              "      border-left-color: var(--fill-color);\n",
              "    }\n",
              "    20% {\n",
              "      border-color: transparent;\n",
              "      border-left-color: var(--fill-color);\n",
              "      border-top-color: var(--fill-color);\n",
              "    }\n",
              "    30% {\n",
              "      border-color: transparent;\n",
              "      border-left-color: var(--fill-color);\n",
              "      border-top-color: var(--fill-color);\n",
              "      border-right-color: var(--fill-color);\n",
              "    }\n",
              "    40% {\n",
              "      border-color: transparent;\n",
              "      border-right-color: var(--fill-color);\n",
              "      border-top-color: var(--fill-color);\n",
              "    }\n",
              "    60% {\n",
              "      border-color: transparent;\n",
              "      border-right-color: var(--fill-color);\n",
              "    }\n",
              "    80% {\n",
              "      border-color: transparent;\n",
              "      border-right-color: var(--fill-color);\n",
              "      border-bottom-color: var(--fill-color);\n",
              "    }\n",
              "    90% {\n",
              "      border-color: transparent;\n",
              "      border-bottom-color: var(--fill-color);\n",
              "    }\n",
              "  }\n",
              "</style>\n",
              "\n",
              "  <script>\n",
              "    async function quickchart(key) {\n",
              "      const quickchartButtonEl =\n",
              "        document.querySelector('#' + key + ' button');\n",
              "      quickchartButtonEl.disabled = true;  // To prevent multiple clicks.\n",
              "      quickchartButtonEl.classList.add('colab-df-spinner');\n",
              "      try {\n",
              "        const charts = await google.colab.kernel.invokeFunction(\n",
              "            'suggestCharts', [key], {});\n",
              "      } catch (error) {\n",
              "        console.error('Error during call to suggestCharts:', error);\n",
              "      }\n",
              "      quickchartButtonEl.classList.remove('colab-df-spinner');\n",
              "      quickchartButtonEl.classList.add('colab-df-quickchart-complete');\n",
              "    }\n",
              "    (() => {\n",
              "      let quickchartButtonEl =\n",
              "        document.querySelector('#df-8c03b85a-a6bf-43f6-9c6d-14feeb10c8fa button');\n",
              "      quickchartButtonEl.style.display =\n",
              "        google.colab.kernel.accessAllowed ? 'block' : 'none';\n",
              "    })();\n",
              "  </script>\n",
              "</div>\n",
              "\n",
              "  <div id=\"id_6c5515c3-5eb1-4ac5-9773-a7883a37400e\">\n",
              "    <style>\n",
              "      .colab-df-generate {\n",
              "        background-color: #E8F0FE;\n",
              "        border: none;\n",
              "        border-radius: 50%;\n",
              "        cursor: pointer;\n",
              "        display: none;\n",
              "        fill: #1967D2;\n",
              "        height: 32px;\n",
              "        padding: 0 0 0 0;\n",
              "        width: 32px;\n",
              "      }\n",
              "\n",
              "      .colab-df-generate:hover {\n",
              "        background-color: #E2EBFA;\n",
              "        box-shadow: 0px 1px 2px rgba(60, 64, 67, 0.3), 0px 1px 3px 1px rgba(60, 64, 67, 0.15);\n",
              "        fill: #174EA6;\n",
              "      }\n",
              "\n",
              "      [theme=dark] .colab-df-generate {\n",
              "        background-color: #3B4455;\n",
              "        fill: #D2E3FC;\n",
              "      }\n",
              "\n",
              "      [theme=dark] .colab-df-generate:hover {\n",
              "        background-color: #434B5C;\n",
              "        box-shadow: 0px 1px 3px 1px rgba(0, 0, 0, 0.15);\n",
              "        filter: drop-shadow(0px 1px 2px rgba(0, 0, 0, 0.3));\n",
              "        fill: #FFFFFF;\n",
              "      }\n",
              "    </style>\n",
              "    <button class=\"colab-df-generate\" onclick=\"generateWithVariable('combined_df')\"\n",
              "            title=\"Generate code using this dataframe.\"\n",
              "            style=\"display:none;\">\n",
              "\n",
              "  <svg xmlns=\"http://www.w3.org/2000/svg\" height=\"24px\"viewBox=\"0 0 24 24\"\n",
              "       width=\"24px\">\n",
              "    <path d=\"M7,19H8.4L18.45,9,17,7.55,7,17.6ZM5,21V16.75L18.45,3.32a2,2,0,0,1,2.83,0l1.4,1.43a1.91,1.91,0,0,1,.58,1.4,1.91,1.91,0,0,1-.58,1.4L9.25,21ZM18.45,9,17,7.55Zm-12,3A5.31,5.31,0,0,0,4.9,8.1,5.31,5.31,0,0,0,1,6.5,5.31,5.31,0,0,0,4.9,4.9,5.31,5.31,0,0,0,6.5,1,5.31,5.31,0,0,0,8.1,4.9,5.31,5.31,0,0,0,12,6.5,5.46,5.46,0,0,0,6.5,12Z\"/>\n",
              "  </svg>\n",
              "    </button>\n",
              "    <script>\n",
              "      (() => {\n",
              "      const buttonEl =\n",
              "        document.querySelector('#id_6c5515c3-5eb1-4ac5-9773-a7883a37400e button.colab-df-generate');\n",
              "      buttonEl.style.display =\n",
              "        google.colab.kernel.accessAllowed ? 'block' : 'none';\n",
              "\n",
              "      buttonEl.onclick = () => {\n",
              "        google.colab.notebook.generateWithVariable('combined_df');\n",
              "      }\n",
              "      })();\n",
              "    </script>\n",
              "  </div>\n",
              "\n",
              "    </div>\n",
              "  </div>\n"
            ],
            "application/vnd.google.colaboratory.intrinsic+json": {
              "type": "dataframe",
              "variable_name": "combined_df",
              "summary": "{\n  \"name\": \"combined_df\",\n  \"rows\": 7887,\n  \"fields\": [\n    {\n      \"column\": \"Date\",\n      \"properties\": {\n        \"dtype\": \"date\",\n        \"min\": \"1993-01-29 00:00:00\",\n        \"max\": \"2024-05-24 00:00:00\",\n        \"num_unique_values\": 7887,\n        \"samples\": [\n          \"1998-08-18 00:00:00\",\n          \"2018-11-12 00:00:00\",\n          \"2014-03-07 00:00:00\"\n        ],\n        \"semantic_type\": \"\",\n        \"description\": \"\"\n      }\n    },\n    {\n      \"column\": \"Open\",\n      \"properties\": {\n        \"dtype\": \"number\",\n        \"std\": 112.43457372081616,\n        \"min\": 43.34375,\n        \"max\": 532.9600219726562,\n        \"num_unique_values\": 6419,\n        \"samples\": [\n          57.90625,\n          138.578125,\n          361.79998779296875\n        ],\n        \"semantic_type\": \"\",\n        \"description\": \"\"\n      }\n    },\n    {\n      \"column\": \"High\",\n      \"properties\": {\n        \"dtype\": \"number\",\n        \"std\": 113.00716853651448,\n        \"min\": 43.53125,\n        \"max\": 533.0700073242188,\n        \"num_unique_values\": 6449,\n        \"samples\": [\n          110.37000274658203,\n          135.8699951171875,\n          237.75\n        ],\n        \"semantic_type\": \"\",\n        \"description\": \"\"\n      }\n    },\n    {\n      \"column\": \"Low\",\n      \"properties\": {\n        \"dtype\": \"number\",\n        \"std\": 111.82345122186622,\n        \"min\": 42.8125,\n        \"max\": 529.1699829101562,\n        \"num_unique_values\": 6419,\n        \"samples\": [\n          58.125,\n          141.515625,\n          357.6700134277344\n        ],\n        \"semantic_type\": \"\",\n        \"description\": \"\"\n      }\n    },\n    {\n      \"column\": \"Close\",\n      \"properties\": {\n        \"dtype\": \"number\",\n        \"std\": 112.46234809735863,\n        \"min\": 43.40625,\n        \"max\": 531.3599853515625,\n        \"num_unique_values\": 6460,\n        \"samples\": [\n          122.23999786376953,\n          430.42999267578125,\n          184.24000549316406\n        ],\n        \"semantic_type\": \"\",\n        \"description\": \"\"\n      }\n    },\n    {\n      \"column\": \"Adj Close\",\n      \"properties\": {\n        \"dtype\": \"number\",\n        \"std\": 118.59925539598032,\n        \"min\": 24.464313507080078,\n        \"max\": 531.3599853515625,\n        \"num_unique_values\": 7455,\n        \"samples\": [\n          211.32562255859375,\n          60.09888458251953,\n          73.25074005126953\n        ],\n        \"semantic_type\": \"\",\n        \"description\": \"\"\n      }\n    },\n    {\n      \"column\": \"Volume\",\n      \"properties\": {\n        \"dtype\": \"number\",\n        \"std\": 91779655,\n        \"min\": 5200,\n        \"max\": 871026300,\n        \"num_unique_values\": 7812,\n        \"samples\": [\n          417679400,\n          85023700,\n          55050400\n        ],\n        \"semantic_type\": \"\",\n        \"description\": \"\"\n      }\n    },\n    {\n      \"column\": \"Risk_Free_Close\",\n      \"properties\": {\n        \"dtype\": \"number\",\n        \"std\": 0.017091912370605887,\n        \"min\": 0.004990000128746033,\n        \"max\": 0.0802299976348877,\n        \"num_unique_values\": 4293,\n        \"samples\": [\n          0.016699999570846558,\n          0.01912999987602234,\n          0.01906000018119812\n        ],\n        \"semantic_type\": \"\",\n        \"description\": \"\"\n      }\n    },\n    {\n      \"column\": \"SP500_Close\",\n      \"properties\": {\n        \"dtype\": \"number\",\n        \"std\": 1128.4587160380406,\n        \"min\": 431.8999938964844,\n        \"max\": 5321.41015625,\n        \"num_unique_values\": 7700,\n        \"samples\": [\n          1005.75,\n          2440.68994140625,\n          2444.239990234375\n        ],\n        \"semantic_type\": \"\",\n        \"description\": \"\"\n      }\n    }\n  ]\n}"
            }
          },
          "metadata": {},
          "execution_count": 2
        }
      ],
      "source": [
        "# Download the daily price data for SPY\n",
        "spy_data = yf.download('SPY', start='1900-01-01', end='2024-12-31', interval='1d')\n",
        "risk_free_data=yf.download(\"^TNX\", start='1900-01-01', end='2024-12-31', interval='1d')\n",
        "SP500_data=yf.download(\"^GSPC\", start='1900-01-01', end='2024-12-31', interval='1d')\n",
        "\n",
        "# Meaure time as index\n",
        "spy_data.index = pd.to_datetime(spy_data.index)\n",
        "risk_free_data.index = pd.to_datetime(risk_free_data.index)\n",
        "SP500_data.index = pd.to_datetime(SP500_data.index)\n",
        "\n",
        "# Select the 'Close' column from risk_free_data and rename it\n",
        "risk_free_data_close = risk_free_data[['Close']].rename(columns={'Close': 'Risk_Free_Close'})\n",
        "SP500_data_close = SP500_data[['Close']].rename(columns={'Close': 'SP500_Close'})\n",
        "\n",
        "# Merge the dataframes on the index (Date)\n",
        "combined_df = pd.merge(spy_data, risk_free_data_close/100, left_index=True, right_index=True, how='left')\n",
        "combined_df = pd.merge(combined_df , SP500_data_close, left_index=True, right_index=True, how='left')\n",
        "\n",
        "# Fill NaN value in risk free rate data set\n",
        "def fill_na_with_avg(series):\n",
        "    for i in range(1, len(series) - 1):\n",
        "        if pd.isna(series[i]):\n",
        "            series[i] = (series[i - 1] + series[i + 1]) / 2\n",
        "    return series\n",
        "\n",
        "combined_df['Risk_Free_Close'] = fill_na_with_avg(combined_df['Risk_Free_Close'].values)\n",
        "\n",
        "# Display the combined dataframe\n",
        "combined_df"
      ]
    },
    {
      "cell_type": "markdown",
      "source": [
        "**Fundamental Assumption Test**\n",
        "\n",
        "In this test, linear regression is used to determine if SPY is highly related to the S&P 500 index. The results below indicate a high correlation between them, thus confirming the basic assumption."
      ],
      "metadata": {
        "id": "GzaIvN0IvwF5"
      }
    },
    {
      "cell_type": "code",
      "source": [
        "# Fit linear regression model\n",
        "model = sm.OLS(combined_df['Close'], combined_df['SP500_Close']).fit()\n",
        "# View model summary\n",
        "print(model.summary())"
      ],
      "metadata": {
        "colab": {
          "base_uri": "https://localhost:8080/"
        },
        "id": "PWjInw49t-5d",
        "outputId": "d43f12da-d481-4d6a-c884-95c5d790ab6e"
      },
      "execution_count": null,
      "outputs": [
        {
          "output_type": "stream",
          "name": "stdout",
          "text": [
            "                                 OLS Regression Results                                \n",
            "=======================================================================================\n",
            "Dep. Variable:                  Close   R-squared (uncentered):                   1.000\n",
            "Model:                            OLS   Adj. R-squared (uncentered):              1.000\n",
            "Method:                 Least Squares   F-statistic:                          1.524e+09\n",
            "Date:                Sun, 26 May 2024   Prob (F-statistic):                        0.00\n",
            "Time:                        17:41:38   Log-Likelihood:                         -5281.9\n",
            "No. Observations:                7887   AIC:                                  1.057e+04\n",
            "Df Residuals:                    7886   BIC:                                  1.057e+04\n",
            "Df Model:                           1                                                  \n",
            "Covariance Type:            nonrobust                                                  \n",
            "===============================================================================\n",
            "                  coef    std err          t      P>|t|      [0.025      0.975]\n",
            "-------------------------------------------------------------------------------\n",
            "SP500_Close     0.0999   2.56e-06    3.9e+04      0.000       0.100       0.100\n",
            "==============================================================================\n",
            "Omnibus:                     1379.746   Durbin-Watson:                   0.353\n",
            "Prob(Omnibus):                  0.000   Jarque-Bera (JB):             2731.068\n",
            "Skew:                          -1.062   Prob(JB):                         0.00\n",
            "Kurtosis:                       4.950   Cond. No.                         1.00\n",
            "==============================================================================\n",
            "\n",
            "Notes:\n",
            "[1] R² is computed without centering (uncentered) since the model does not contain a constant.\n",
            "[2] Standard Errors assume that the covariance matrix of the errors is correctly specified.\n"
          ]
        }
      ]
    },
    {
      "cell_type": "markdown",
      "source": [
        "**Feature Variable Test**\n",
        "\n",
        "\n",
        "In this test, linear regression is used to determine if the feature variables are highly related to the SPY closing price. The results below indicate that the previous day's closing price and the risk-free rate have a high correlation with the SPY closing price. However, the volume may not be significant for the prediction. Correlation analysis was also performed, confirming the results of the linear regression. Therefore, the use of volume is eliminated from the models."
      ],
      "metadata": {
        "id": "Qt2mKhPGxGMa"
      }
    },
    {
      "cell_type": "code",
      "source": [
        "# Shift the 'Close' column by one period to use it as a feature\n",
        "combined_df['Close_Shifted'] = combined_df['Close'].shift(1)\n",
        "\n",
        "# Drop rows with NaN values created by the shift\n",
        "combined_df = combined_df.dropna()\n",
        "\n",
        "# Create x and y\n",
        "x = combined_df[['Close_Shifted', 'Volume', 'Risk_Free_Close']].values\n",
        "y = combined_df['Close'].values\n",
        "\n",
        "# Ensure matching lengths\n",
        "print(f\"x shape: {x.shape}\")\n",
        "print(f\"y shape: {y.shape}\")\n",
        "\n",
        "# Fit linear regression model\n",
        "model = sm.OLS(y, x).fit()\n",
        "\n",
        "# View model summary\n",
        "print(model.summary())"
      ],
      "metadata": {
        "colab": {
          "base_uri": "https://localhost:8080/"
        },
        "id": "c1DuZFvjqFGI",
        "outputId": "da9ae768-ad38-429f-baee-f3bd32551535"
      },
      "execution_count": null,
      "outputs": [
        {
          "output_type": "stream",
          "name": "stdout",
          "text": [
            "x shape: (7886, 3)\n",
            "y shape: (7886,)\n",
            "                                 OLS Regression Results                                \n",
            "=======================================================================================\n",
            "Dep. Variable:                      y   R-squared (uncentered):                   1.000\n",
            "Model:                            OLS   Adj. R-squared (uncentered):              1.000\n",
            "Method:                 Least Squares   F-statistic:                          2.186e+07\n",
            "Date:                Sun, 26 May 2024   Prob (F-statistic):                        0.00\n",
            "Time:                        17:41:42   Log-Likelihood:                         -17683.\n",
            "No. Observations:                7886   AIC:                                  3.537e+04\n",
            "Df Residuals:                    7883   BIC:                                  3.539e+04\n",
            "Df Model:                           3                                                  \n",
            "Covariance Type:            nonrobust                                                  \n",
            "==============================================================================\n",
            "                 coef    std err          t      P>|t|      [0.025      0.975]\n",
            "------------------------------------------------------------------------------\n",
            "x1             1.0009      0.000   5563.685      0.000       1.001       1.001\n",
            "x2         -1.814e-09    2.6e-10     -6.974      0.000   -2.32e-09    -1.3e-09\n",
            "x3             0.6349      0.800      0.794      0.427      -0.932       2.202\n",
            "==============================================================================\n",
            "Omnibus:                     2344.037   Durbin-Watson:                   2.147\n",
            "Prob(Omnibus):                  0.000   Jarque-Bera (JB):            98523.678\n",
            "Skew:                          -0.700   Prob(JB):                         0.00\n",
            "Kurtosis:                      20.259   Cond. No.                     3.88e+09\n",
            "==============================================================================\n",
            "\n",
            "Notes:\n",
            "[1] R² is computed without centering (uncentered) since the model does not contain a constant.\n",
            "[2] Standard Errors assume that the covariance matrix of the errors is correctly specified.\n",
            "[3] The condition number is large, 3.88e+09. This might indicate that there are\n",
            "strong multicollinearity or other numerical problems.\n"
          ]
        }
      ]
    },
    {
      "cell_type": "code",
      "source": [
        "# Caculate and print the correlation\n",
        "print(\"Correlation with itself:\",np.corrcoef(combined_df['Close'],combined_df['Close'])[0,1])\n",
        "print(\"Correlation with Volume:\",np.corrcoef(combined_df['Close'],combined_df['Volume'])[0,1])\n",
        "print(\"Correlation with Risk Free Rate:\",np.corrcoef(combined_df['Close'],combined_df['Risk_Free_Close'])[0,1])"
      ],
      "metadata": {
        "colab": {
          "base_uri": "https://localhost:8080/"
        },
        "id": "MEocKISmqeIB",
        "outputId": "8aa38dbd-8418-4918-a22d-db3297b438e0"
      },
      "execution_count": null,
      "outputs": [
        {
          "output_type": "stream",
          "name": "stdout",
          "text": [
            "Correlation with itself: 1.0\n",
            "Correlation with Volume: 0.0762568947305569\n",
            "Correlation with Risk Free Rate: -0.5665547460182592\n"
          ]
        }
      ]
    },
    {
      "cell_type": "markdown",
      "source": [
        "**Summary**\n",
        "\n",
        "Based on the results of the linear regression and correlation analysis, it is evident that volume may not be a suitable feature variable. In contrast, SPY and the risk-free rate appear to be strong feature variables. Therefore, for the models intended to be built, only SPY and the risk-free rate will be used as feature variables (parameters)."
      ],
      "metadata": {
        "id": "UnWLWHtuubSt"
      }
    },
    {
      "cell_type": "markdown",
      "source": [
        "# Regressors - Random Forest Regression"
      ],
      "metadata": {
        "id": "Jg65BMBgJfHQ"
      }
    },
    {
      "cell_type": "markdown",
      "source": [
        "\n",
        "\n",
        "**Concept**\n",
        "\n",
        "In this model, a function is created to select the best hyperparameters by evaluating the MSE of the validation set after training the model on the training set. Ultimately, this function measures the accuracy on the test set.\n",
        "\n",
        "\n",
        "\n"
      ],
      "metadata": {
        "id": "e57JN-mP1mRd"
      }
    },
    {
      "cell_type": "markdown",
      "source": [
        "\n",
        "**Overfitting Issue**\n",
        "\n",
        "By creating separate training, validation, and test sets, the issue of overfitting is avoided. The best hyperparameters are selected based on the performance on the validation set, which does not overlap with the test set. This ensures that the model is not overfitted to the test data."
      ],
      "metadata": {
        "id": "cMHNUyXnErKF"
      }
    },
    {
      "cell_type": "code",
      "source": [
        "# Define data\n",
        "data=combined_df\n",
        "series_len = data[\"Close\"].size\n",
        "tscv = TimeSeriesSplit(n_splits=3)\n",
        "\n",
        "# Hyperparamter combinations\n",
        "ccp_alpha_list = [10**-1, 10**-3, 10**-5, 10**-7]\n",
        "n_estimators_list = [200,400,600]\n",
        "\n",
        "# Create function to do data spliting and testing\n",
        "def time_series_valid_test(X, y, n_split, valid_or_test, optimal_par=None):\n",
        "    tscv = TimeSeriesSplit(n_splits=n_split)\n",
        "    rf_mse = []\n",
        "    currentval_mse = []\n",
        "    i = 0\n",
        "    for train_index, test_index in tscv.split(X):\n",
        "        i += 1\n",
        "        # Break test set into 50% validation set, 50% test set\n",
        "        break_test_ind = int(test_index[0] + 0.5*(test_index[-1]-test_index[0]))\n",
        "        valid_index = np.array(list(range(test_index[0],break_test_ind)))\n",
        "        test_index = np.array(list(range(break_test_ind,test_index[-1])))\n",
        "\n",
        "        # Split\n",
        "        X_train, X_valid, X_test = X[train_index], X[valid_index], X[test_index]\n",
        "        y_train, y_valid, y_test = y[train_index], y[valid_index], y[test_index]\n",
        "\n",
        "        # Tuning\n",
        "        if valid_or_test == \"valid\":\n",
        "            X_train_red, X_train_rest, y_train_red, y_test_red = train_test_split(\n",
        "                X_train, y_train, test_size=0.1, random_state=42)\n",
        "            for ccp_alpha in ccp_alpha_list:\n",
        "                for n_estimators in n_estimators_list:\n",
        "                    model_rf = RandomForestRegressor(random_state=42, n_jobs=-1,\n",
        "                               ccp_alpha=ccp_alpha, n_estimators=n_estimators)\n",
        "                    model_rf.fit(X_train_red, y_train_red.ravel())\n",
        "                    y_val_rf = model_rf.predict(X_valid)\n",
        "                    rf_mse.append(np.sqrt(mean_squared_error(y_valid, y_val_rf)))\n",
        "\n",
        "        # Evalulate on test set\n",
        "        if valid_or_test == \"test\":\n",
        "            model_rf = RandomForestRegressor(random_state=42, n_jobs=-1,\n",
        "                       ccp_alpha=optimal_par[0], n_estimators=optimal_par[1])\n",
        "            model_rf.fit(X_train, y_train.ravel())\n",
        "            y_test_rf = model_rf.predict(X_test)\n",
        "            rf_mse.append(np.sqrt(mean_squared_error(y_test, y_test_rf)))\n",
        "\n",
        "            # Predicting as next value as the current value\n",
        "            y_test_currentval = y[test_index-1]\n",
        "            currentval_mse.append(np.sqrt(mean_squared_error(y_test, y_test_currentval)))\n",
        "\n",
        "            # Plot the prediction for the last CV fold\n",
        "            if i == n_split:\n",
        "                plt.figure(figsize=(10, 5))\n",
        "                plt.plot(range(series_len-test_index.size,series_len),\n",
        "                         y_test, \"r--\", label=\"Actual Close Price\", )\n",
        "                plt.plot(range(series_len-test_index.size,series_len),\n",
        "                         y_test_rf, label=\"Predicted Close Price\")\n",
        "                plt.legend()\n",
        "\n",
        "    # Average MSE over CV folds\n",
        "    if valid_or_test == \"valid\":\n",
        "        rf_mse = np.mean(np.array(rf_mse).reshape(\n",
        "            n_split, len(ccp_alpha_list)*len(n_estimators_list)), axis=0)\n",
        "        return rf_mse\n",
        "    if valid_or_test == \"test\":\n",
        "        rf_mse = np.mean(rf_mse)\n",
        "        currentval_mse = np.mean(currentval_mse)\n",
        "\n",
        "        #Returns: RF MSE, Current value prediction MSE, best fitted RF model\n",
        "        return rf_mse, currentval_mse, model_rf"
      ],
      "metadata": {
        "id": "twEdUjlBge9e"
      },
      "execution_count": null,
      "outputs": []
    },
    {
      "cell_type": "markdown",
      "source": [
        "\n",
        "**Walk Forward Analysis**\n",
        "\n",
        "In walk forward analysis, the model is tested on the validation set to find the best hyperparameters. The objective function is the minimum MSE, as increasing the accuracy of the prediction model is our primary goal. Therefore, reducing MSE is our primary objective. The results below show the best hyperparameters based on the MSE values."
      ],
      "metadata": {
        "id": "o0AmxDLX37y7"
      }
    },
    {
      "cell_type": "code",
      "source": [
        "# Pick the best hyperparameters\n",
        "rf_mse = time_series_valid_test(X, y, 3, \"valid\")\n",
        "print(rf_mse)\n",
        "ind = 0\n",
        "for ccp_alpha in ccp_alpha_list:\n",
        "        for n_estimators in n_estimators_list:\n",
        "            if ind == np.argmin(rf_mse):\n",
        "                optimal_par = [ccp_alpha, n_estimators]\n",
        "                print([\"(ccp_alpha, n_estimators):\",[ccp_alpha, n_estimators]])\n",
        "                print(rf_mse[ind])\n",
        "            ind += 1"
      ],
      "metadata": {
        "colab": {
          "base_uri": "https://localhost:8080/"
        },
        "id": "7uwCVSO3gxtm",
        "outputId": "3391ad99-6ef0-4914-b780-af26b04a483d"
      },
      "execution_count": null,
      "outputs": [
        {
          "output_type": "stream",
          "name": "stdout",
          "text": [
            "[21.82329091 21.82248169 21.81803559 20.07091098 20.07175151 20.08003959\n",
            " 19.86797382 19.87423932 19.88185408 19.86242429 19.86791672 19.87561041]\n",
            "['(ccp_alpha, n_estimators):', [1e-07, 200]]\n",
            "19.862424285841215\n"
          ]
        }
      ]
    },
    {
      "cell_type": "markdown",
      "source": [
        "**Plot**\n",
        "\n",
        "In the plot, it is evident that the predicted closing price is highly inaccurate."
      ],
      "metadata": {
        "id": "XsnlyjLCE8NQ"
      }
    },
    {
      "cell_type": "code",
      "source": [
        "# Results - plot\n",
        "rf_mse, currentval_mse, model_rf = time_series_valid_test(X, y, 3, \"test\", optimal_par)"
      ],
      "metadata": {
        "colab": {
          "base_uri": "https://localhost:8080/",
          "height": 445
        },
        "id": "Ufm58QFcg615",
        "outputId": "4703cfc9-d9d1-4256-d126-fdc829cb4aa3"
      },
      "execution_count": null,
      "outputs": [
        {
          "output_type": "display_data",
          "data": {
            "text/plain": [
              "<Figure size 1000x500 with 1 Axes>"
            ],
            "image/png": "[encoded data removed]"
          },
          "metadata": {}
        }
      ]
    },
    {
      "cell_type": "markdown",
      "source": [
        "**MSE Evaluation**\n",
        "\n",
        "The MSE of this model is approximately 35 times higher than the MSE of the simple prediction. This aligns with the results shown in the plot, confirming the model's poor performance."
      ],
      "metadata": {
        "id": "ugTqiRKlHIQY"
      }
    },
    {
      "cell_type": "code",
      "source": [
        "# Print MSE\n",
        "print(\"Model MSE:\",rf_mse)\n",
        "print(\"Simple Prediction MSE:\",currentval_mse)"
      ],
      "metadata": {
        "colab": {
          "base_uri": "https://localhost:8080/"
        },
        "id": "gTIPxx3PFCT1",
        "outputId": "cf4b4b2a-f766-4fc6-f777-fad39a57bf7c"
      },
      "execution_count": null,
      "outputs": [
        {
          "output_type": "stream",
          "name": "stdout",
          "text": [
            "Model MSE: 81.52448645786613\n",
            "Simple Prediction MSE: 2.39306944987178\n"
          ]
        }
      ]
    },
    {
      "cell_type": "markdown",
      "source": [
        "**Summary**\n",
        "\n",
        "From the results, it can be inferred that the random forest regressor is not effective at predicting the SPY price, as indicated by the very high MSE and the inaccuracies shown in the plot. In future work, more hyperparameters could be optimized, and feature variables could be scaled to improve the accuracy of the predictions.\n",
        "\n"
      ],
      "metadata": {
        "id": "KQmXqyMX3hvi"
      }
    },
    {
      "cell_type": "markdown",
      "source": [
        "# Regressors - Linear Regression"
      ],
      "metadata": {
        "id": "jJXjc6KVJ4Qw"
      }
    },
    {
      "cell_type": "markdown",
      "source": [
        "\n",
        "\n",
        "**Concept**\n",
        "\n",
        "Since the random forest regressor is not as efficient compared to the simple prediction, the focus shifted to improving the simple prediction model. While the simple prediction is accurate, it does not aid in developing a trading strategy. Assuming that tomorrow's closing price will be the same as today's can lead to certain losses when the market trend is upward. If the price rises tomorrow, the simple prediction (being the same as today's price) would trigger the model to short the stock, as the predicted price is lower than the open price.\n",
        "\n",
        "The SPY price tends to have an upward trend due to its connection to the US economy, which experiences economic growth and inflation, causing prices to naturally rise in the long term. This results in certain losses with the simple prediction approach. Therefore, the goal is to improve the simple prediction model and reduce its MSE to be better or at least close to that of the simple prediction, thereby avoiding these certain losses."
      ],
      "metadata": {
        "id": "eZLYuf7g3b5s"
      }
    },
    {
      "cell_type": "markdown",
      "source": [
        "**Optimization of Parameters**\n",
        "\n",
        "\n",
        "In this process, walk-forward analysis is applied to optimize the parameters (feature variables) rather than the hyperparameters used in the function. Different observation periods (ranging from 1 day to 21 days) in the training set are compared to see how they affect the model's MSE in the validation set. The evaluation metric is the difference in MSE between the model and the simple prediction in the validation set, calculated as the simple prediction MSE minus the model MSE. The results indicate that a 3-day observation period has the best MSE, as it has the largest positive difference, demonstrating that the model performs better than the simple prediction in the validation set."
      ],
      "metadata": {
        "id": "q97R-Wn9KEev"
      }
    },
    {
      "cell_type": "code",
      "source": [
        "# Find the best number of feature\n",
        "data=combined_df\n",
        "improvement_list=[]\n",
        "for j in range(1,22):\n",
        "  number_of_feature=j\n",
        "  n=len(data['Close'])\n",
        "  x=[]\n",
        "  y=[]\n",
        "  for i in range(n-number_of_feature):\n",
        "    x.append(list(data['Close'].iloc[i:i+number_of_feature])+\n",
        "             list(data['Risk_Free_Close'].iloc[i:i+number_of_feature]))\n",
        "    y.append(data['Close'].iloc[i+number_of_feature])\n",
        "  X=np.array(x)\n",
        "  y=np.array(y)\n",
        "\n",
        "  # Split data into different sets\n",
        "  X_train, X_valid, X_test=X[:int(6*n/12)], X[int(6*n/12):int(9*n/12)], X[int(9*n/12):]\n",
        "  y_train, y_valid, y_test=y[:int(6*n/12)], y[int(6*n/12):int(9*n/12)], y[int(9*n/12):]\n",
        "\n",
        "  # Run linear Regression\n",
        "  reg = LinearRegression().fit(X_train, y_train)\n",
        "  pred=reg.predict(X_valid)\n",
        "\n",
        "  #Calculate difference\n",
        "  mse_improvement=mean_squared_error(y[int(6*n/12)-1:int(9*n/12)-1], y_valid)-mean_squared_error(pred, y_valid)\n",
        "  improvement_list.append([j,mse_improvement])\n",
        "\n",
        "# Show the difference of MSE in different choice of period\n",
        "improvement_list"
      ],
      "metadata": {
        "colab": {
          "base_uri": "https://localhost:8080/"
        },
        "id": "EPFc7ILtSf6C",
        "outputId": "1952d921-77c8-4d6b-ea36-efe6b61837b9"
      },
      "execution_count": null,
      "outputs": [
        {
          "output_type": "execute_result",
          "data": {
            "text/plain": [
              "[[1, 0.0014141770939657405],\n",
              " [2, 0.00126756482268231],\n",
              " [3, 0.007839941454258703],\n",
              " [4, -0.0004988721115326555],\n",
              " [5, -0.003318482384119026],\n",
              " [6, -0.00034609443783395477],\n",
              " [7, -0.0041689719574753425],\n",
              " [8, -0.0058923482321966425],\n",
              " [9, -0.007986061350839346],\n",
              " [10, 0.00153962084546988],\n",
              " [11, 0.0005943155426719748],\n",
              " [12, -0.0019601074454640433],\n",
              " [13, -0.009828307699227157],\n",
              " [14, -0.01690316766733746],\n",
              " [15, -0.013307519980135574],\n",
              " [16, -0.03036293468072282],\n",
              " [17, -0.031888400171535825],\n",
              " [18, -0.03029233201229342],\n",
              " [19, -0.02781815298944368],\n",
              " [20, -0.029325337027809262],\n",
              " [21, -0.053619778866083934]]"
            ]
          },
          "metadata": {},
          "execution_count": 19
        }
      ]
    },
    {
      "cell_type": "markdown",
      "source": [
        "**Plot**\n",
        "\n",
        "The plot demonstrates how the 3-day period model performs in the test set. It is evident that this model's predictions are much closer to the actual closing prices compared to the random forest regressor."
      ],
      "metadata": {
        "id": "FVCbKP-NMOE2"
      }
    },
    {
      "cell_type": "code",
      "source": [
        "#Choose 3 as the best number of feature\n",
        "data=combined_df\n",
        "number_of_feature=3\n",
        "n=len(data['Close'])\n",
        "x=[]\n",
        "y=[]\n",
        "for i in range(n-number_of_feature):\n",
        "  x.append(list(data['Close'].iloc[i:i+number_of_feature])+\n",
        "             list(data['Risk_Free_Close'].iloc[i:i+number_of_feature]))\n",
        "  y.append(data['Close'].iloc[i+number_of_feature])\n",
        "X=np.array(x)\n",
        "y=np.array(y)\n",
        "\n",
        "# Split data into different sets\n",
        "X_train, X_valid, X_test=X[:int(6*n/12)], X[int(6*n/12):int(9*n/12)], X[int(9*n/12):]\n",
        "y_train, y_valid, y_test=y[:int(6*n/12)], y[int(6*n/12):int(9*n/12)], y[int(9*n/12):]\n",
        "\n",
        "# Run linear Regression\n",
        "reg = LinearRegression().fit(X_train, y_train)\n",
        "pred=reg.predict(X_test)\n",
        "\n",
        "# Plot\n",
        "plt.figure(figsize=(10, 5))\n",
        "plt.plot(y_test, label=\"Actual Close Price\")\n",
        "plt.plot(pred, \"r--\", label=\"Predicted Close Price\")\n",
        "plt.legend()"
      ],
      "metadata": {
        "colab": {
          "base_uri": "https://localhost:8080/",
          "height": 462
        },
        "id": "71T2QNPzPdlX",
        "outputId": "1daf51bc-0476-4784-cab4-129e7a12829d"
      },
      "execution_count": null,
      "outputs": [
        {
          "output_type": "execute_result",
          "data": {
            "text/plain": [
              "<matplotlib.legend.Legend at 0x7c5cddf05e10>"
            ]
          },
          "metadata": {},
          "execution_count": 11
        },
        {
          "output_type": "display_data",
          "data": {
            "text/plain": [
              "<Figure size 1000x500 with 1 Axes>"
            ],
            "image/png": "[encoded data removed]"
          },
          "metadata": {}
        }
      ]
    },
    {
      "cell_type": "markdown",
      "source": [
        "**MSE Evaluation**\n",
        "\n",
        "The following MSE values show that while this model does not have a better MSE than the simple prediction model, it is very close to the MSE of the simple prediction model."
      ],
      "metadata": {
        "id": "y7Q2-isiMaa6"
      }
    },
    {
      "cell_type": "code",
      "source": [
        "# Print MSE\n",
        "print(\"Model MSE:\",mean_squared_error(pred, y_test))\n",
        "print(\"Simple Prediction MSE:\",mean_squared_error(y[int(9*n/12)-1:len(y)-1], y_test))"
      ],
      "metadata": {
        "colab": {
          "base_uri": "https://localhost:8080/"
        },
        "id": "aXfMFG9BMet3",
        "outputId": "36a02f30-b44f-4398-9b3f-365ef30461cc"
      },
      "execution_count": null,
      "outputs": [
        {
          "output_type": "stream",
          "name": "stdout",
          "text": [
            "Model MSE: 15.293951170074202\n",
            "Simple Prediction MSE: 15.15898054866974\n"
          ]
        }
      ]
    },
    {
      "cell_type": "markdown",
      "source": [
        "**Summary**\n",
        "\n",
        "From the plot and MSE values, it is evident that the model based on linear regression performs better than the random forest regressor. Additionally, its performance is close to that of the simple prediction model. Therefore, the linear regression model has been selected for use in the trading strategy."
      ],
      "metadata": {
        "id": "Xx-POXnoMkhZ"
      }
    },
    {
      "cell_type": "markdown",
      "source": [
        "# Backtesting"
      ],
      "metadata": {
        "id": "ahnlkF_UKKXk"
      }
    },
    {
      "cell_type": "markdown",
      "source": [
        "**Concept**\n",
        "\n",
        "After selecting the model for our trading strategy, the next step is to deploy it. Backtesting is a crucial tool for evaluating the performance of the trading strategy, as it applies the strategy to historical data to assess its past performance. For detailed information on the trading strategy, please refer to the \"Strategy\" section in the Introduction.\n"
      ],
      "metadata": {
        "id": "24jtXYTDIG-T"
      }
    },
    {
      "cell_type": "markdown",
      "source": [
        "**Training Period**\n",
        "\n",
        "\n",
        "The length of the test set is chosen as the test period to help avoid overfitting, as the best model was not selected based on its performance on the test set. Furthermore, the training set does not include any data from the test set. The period for the test set spans from July 29, 2016, to May 24, 2024, constituting approximately one-third of the entire dataset."
      ],
      "metadata": {
        "id": "doXpJ_yit9W-"
      }
    },
    {
      "cell_type": "code",
      "source": [
        "#Choose 3 as the best number of feature\n",
        "data=combined_df\n",
        "number_of_feature=3\n",
        "n=len(data['Close'])\n",
        "x=[]\n",
        "y=[]\n",
        "for i in range(n-number_of_feature):\n",
        "  x.append(list(data['Close'].iloc[i:i+number_of_feature])+\n",
        "             list(data['Risk_Free_Close'].iloc[i:i+number_of_feature]))\n",
        "  y.append(data['Close'].iloc[i+number_of_feature])\n",
        "X=np.array(x)\n",
        "y=np.array(y)\n",
        "\n",
        "# Split data into different sets\n",
        "X_train, X_valid, X_test=X[:int(6*n/12)], X[int(6*n/12):int(9*n/12)], X[int(9*n/12):]\n",
        "y_train, y_valid, y_test=y[:int(6*n/12)], y[int(6*n/12):int(9*n/12)], y[int(9*n/12):]\n",
        "\n",
        "# Run linear Regression\n",
        "reg = LinearRegression().fit(X_train, y_train)\n",
        "pred=reg.predict(X_test)"
      ],
      "metadata": {
        "id": "9SozX7UKx0Kl"
      },
      "execution_count": null,
      "outputs": []
    },
    {
      "cell_type": "markdown",
      "source": [
        "**Trade Rules**\n",
        "\n",
        "\n",
        "\n",
        "Based on these predictions, long or short positions are taken and then closed within the same day to generate returns. This process is repeated daily with the goal of accurately predicting market directions (long or short) to consistently make a profit.\n",
        "\n",
        "Positions are limited to daily trades, meaning no positions are held overnight. This approach simplifies the model, making it easier to build, monitor, and modify, and it also reduces some transaction costs. Additionally, positions are closed when the price reaches the predicted level. If the price does not reach the predicted level, the position is still closed by the end of the day.\n"
      ],
      "metadata": {
        "id": "z6yTmM5XzeRL"
      }
    },
    {
      "cell_type": "code",
      "source": [
        "# Update data\n",
        "test_length=len(y_test)\n",
        "open_prices=np.array(list(data['Open'].iloc[-test_length:]))\n",
        "high_prices=np.array(list(data['High'].iloc[-test_length:]))\n",
        "low_prices=np.array(list(data['Low'].iloc[-test_length:]))\n",
        "action_series=[]\n",
        "returns=[]\n",
        "\n",
        "# Run through everyday trading data\n",
        "for i in range(len(open_prices)):\n",
        "  close_price=y_test[i]\n",
        "  predict_price=pred[i]\n",
        "  open_price=open_prices[i]\n",
        "  high_price=high_prices[i]\n",
        "  low_price=low_prices[i]\n",
        "\n",
        "  # Condition of taking long position\n",
        "  if predict_price>open_price:\n",
        "    final_price=close_price\n",
        "    # Set constraints of reaching the predicted price\n",
        "    if predict_price<high_price:\n",
        "      final_price=predict_price\n",
        "    # Record dailly data: Open price, close price, Deal price, Predicted action, Return\n",
        "    action_series.append([open_price,close_price,final_price,\"Long\",final_price/open_price-1])\n",
        "    # Record returns individually (easier to calculate)\n",
        "    returns.append(final_price/open_price)\n",
        "\n",
        "  # Condition of taking long position\n",
        "  elif predict_price<open_price:\n",
        "    final_price=close_price\n",
        "    # Set constraints of reaching the predicted price\n",
        "    if predict_price>low_price:\n",
        "      final_price=predict_price\n",
        "    # Record dailly data: Open price, close price, Deal price, Predicted action, Return\n",
        "    action_series.append([open_price,close_price,final_price,\"Short\",open_price/final_price-1])\n",
        "    # Record returns individually (easier to calculate)\n",
        "    returns.append(open_price/final_price)\n",
        "\n",
        "  # Condition of taking hold position when open price is equal to predict price\n",
        "  else:\n",
        "    action_series.append([open_price,close_price,final_price,\"Hold\",0])\n",
        "    returns.append(1)"
      ],
      "metadata": {
        "id": "86lCoxDIdM52"
      },
      "execution_count": null,
      "outputs": []
    },
    {
      "cell_type": "markdown",
      "source": [
        "**Plot**\n",
        "\n",
        "This plot shows the open price and the predicted close price. It is evident that there is potential for profit by buying or selling at the open price and closing the position at the end of the day."
      ],
      "metadata": {
        "id": "LQ91weG13CKH"
      }
    },
    {
      "cell_type": "code",
      "source": [
        "# Plot\n",
        "plt.figure(figsize=(10, 5))\n",
        "plt.plot(data.index[-test_length:],np.array(list(data['Open'].iloc[-test_length:])), label=\"Open Price\")\n",
        "plt.plot(data.index[-test_length:],pred, \"r--\", label=\"Predicted Close price\")\n",
        "plt.legend()"
      ],
      "metadata": {
        "colab": {
          "base_uri": "https://localhost:8080/",
          "height": 462
        },
        "id": "S2m7r3jOpET6",
        "outputId": "c0480a4f-1ccc-4a33-ddcb-4a94afc8b15f"
      },
      "execution_count": null,
      "outputs": [
        {
          "output_type": "execute_result",
          "data": {
            "text/plain": [
              "<matplotlib.legend.Legend at 0x7c5cdfe47be0>"
            ]
          },
          "metadata": {},
          "execution_count": 7
        },
        {
          "output_type": "display_data",
          "data": {
            "text/plain": [
              "<Figure size 1000x500 with 1 Axes>"
            ],
            "image/png": "[encoded data removed]"
          },
          "metadata": {}
        }
      ]
    },
    {
      "cell_type": "markdown",
      "source": [
        "**Table**\n",
        "\n",
        "This table shows the daily trading details."
      ],
      "metadata": {
        "id": "zfZ4ueWD35KC"
      }
    },
    {
      "cell_type": "code",
      "source": [
        "# Display the trading strategy dataframe\n",
        "df=pd.DataFrame(action_series)\n",
        "df.columns=['Open price', 'Close price', 'Final price', 'Action', 'Return']\n",
        "df.insert(0, \"Date\", data.index[-test_length:], True)\n",
        "df"
      ],
      "metadata": {
        "colab": {
          "base_uri": "https://localhost:8080/",
          "height": 424
        },
        "id": "lX963RL-rYJu",
        "outputId": "40ed6651-e6cb-40b7-91a3-04decd3249c8"
      },
      "execution_count": null,
      "outputs": [
        {
          "output_type": "execute_result",
          "data": {
            "text/plain": [
              "           Date  Open price  Close price  Final price Action    Return\n",
              "0    2016-07-29  216.460007   217.119995   216.713258   Long  0.001170\n",
              "1    2016-08-01  217.190002   216.940002   217.063536  Short  0.000583\n",
              "2    2016-08-02  216.649994   215.550003   215.550003   Long -0.005077\n",
              "3    2016-08-03  215.479996   216.179993   215.539231   Long  0.000275\n",
              "4    2016-08-04  216.309998   216.410004   216.142362  Short  0.000776\n",
              "...         ...         ...          ...          ...    ...       ...\n",
              "1964 2024-05-20  529.570007   530.059998   530.059998  Short -0.000924\n",
              "1965 2024-05-21  529.280029   531.359985   529.468332   Long  0.000356\n",
              "1966 2024-05-22  530.650024   529.830017   530.767462   Long  0.000221\n",
              "1967 2024-05-23  532.960022   525.960022   529.332735  Short  0.006853\n",
              "1968 2024-05-24  527.849976   529.440002   529.440002  Short -0.003003\n",
              "\n",
              "[1969 rows x 6 columns]"
            ],
            "text/html": [
              "\n",
              "  <div id=\"df-1f8b49bc-ecc3-49aa-a7be-1c029d32fe06\" class=\"colab-df-container\">\n",
              "    <div>\n",
              "<style scoped>\n",
              "    .dataframe tbody tr th:only-of-type {\n",
              "        vertical-align: middle;\n",
              "    }\n",
              "\n",
              "    .dataframe tbody tr th {\n",
              "        vertical-align: top;\n",
              "    }\n",
              "\n",
              "    .dataframe thead th {\n",
              "        text-align: right;\n",
              "    }\n",
              "</style>\n",
              "<table border=\"1\" class=\"dataframe\">\n",
              "  <thead>\n",
              "    <tr style=\"text-align: right;\">\n",
              "      <th></th>\n",
              "      <th>Date</th>\n",
              "      <th>Open price</th>\n",
              "      <th>Close price</th>\n",
              "      <th>Final price</th>\n",
              "      <th>Action</th>\n",
              "      <th>Return</th>\n",
              "    </tr>\n",
              "  </thead>\n",
              "  <tbody>\n",
              "    <tr>\n",
              "      <th>0</th>\n",
              "      <td>2016-07-29</td>\n",
              "      <td>216.460007</td>\n",
              "      <td>217.119995</td>\n",
              "      <td>216.713258</td>\n",
              "      <td>Long</td>\n",
              "      <td>0.001170</td>\n",
              "    </tr>\n",
              "    <tr>\n",
              "      <th>1</th>\n",
              "      <td>2016-08-01</td>\n",
              "      <td>217.190002</td>\n",
              "      <td>216.940002</td>\n",
              "      <td>217.063536</td>\n",
              "      <td>Short</td>\n",
              "      <td>0.000583</td>\n",
              "    </tr>\n",
              "    <tr>\n",
              "      <th>2</th>\n",
              "      <td>2016-08-02</td>\n",
              "      <td>216.649994</td>\n",
              "      <td>215.550003</td>\n",
              "      <td>215.550003</td>\n",
              "      <td>Long</td>\n",
              "      <td>-0.005077</td>\n",
              "    </tr>\n",
              "    <tr>\n",
              "      <th>3</th>\n",
              "      <td>2016-08-03</td>\n",
              "      <td>215.479996</td>\n",
              "      <td>216.179993</td>\n",
              "      <td>215.539231</td>\n",
              "      <td>Long</td>\n",
              "      <td>0.000275</td>\n",
              "    </tr>\n",
              "    <tr>\n",
              "      <th>4</th>\n",
              "      <td>2016-08-04</td>\n",
              "      <td>216.309998</td>\n",
              "      <td>216.410004</td>\n",
              "      <td>216.142362</td>\n",
              "      <td>Short</td>\n",
              "      <td>0.000776</td>\n",
              "    </tr>\n",
              "    <tr>\n",
              "      <th>...</th>\n",
              "      <td>...</td>\n",
              "      <td>...</td>\n",
              "      <td>...</td>\n",
              "      <td>...</td>\n",
              "      <td>...</td>\n",
              "      <td>...</td>\n",
              "    </tr>\n",
              "    <tr>\n",
              "      <th>1964</th>\n",
              "      <td>2024-05-20</td>\n",
              "      <td>529.570007</td>\n",
              "      <td>530.059998</td>\n",
              "      <td>530.059998</td>\n",
              "      <td>Short</td>\n",
              "      <td>-0.000924</td>\n",
              "    </tr>\n",
              "    <tr>\n",
              "      <th>1965</th>\n",
              "      <td>2024-05-21</td>\n",
              "      <td>529.280029</td>\n",
              "      <td>531.359985</td>\n",
              "      <td>529.468332</td>\n",
              "      <td>Long</td>\n",
              "      <td>0.000356</td>\n",
              "    </tr>\n",
              "    <tr>\n",
              "      <th>1966</th>\n",
              "      <td>2024-05-22</td>\n",
              "      <td>530.650024</td>\n",
              "      <td>529.830017</td>\n",
              "      <td>530.767462</td>\n",
              "      <td>Long</td>\n",
              "      <td>0.000221</td>\n",
              "    </tr>\n",
              "    <tr>\n",
              "      <th>1967</th>\n",
              "      <td>2024-05-23</td>\n",
              "      <td>532.960022</td>\n",
              "      <td>525.960022</td>\n",
              "      <td>529.332735</td>\n",
              "      <td>Short</td>\n",
              "      <td>0.006853</td>\n",
              "    </tr>\n",
              "    <tr>\n",
              "      <th>1968</th>\n",
              "      <td>2024-05-24</td>\n",
              "      <td>527.849976</td>\n",
              "      <td>529.440002</td>\n",
              "      <td>529.440002</td>\n",
              "      <td>Short</td>\n",
              "      <td>-0.003003</td>\n",
              "    </tr>\n",
              "  </tbody>\n",
              "</table>\n",
              "<p>1969 rows × 6 columns</p>\n",
              "</div>\n",
              "    <div class=\"colab-df-buttons\">\n",
              "\n",
              "  <div class=\"colab-df-container\">\n",
              "    <button class=\"colab-df-convert\" onclick=\"convertToInteractive('df-1f8b49bc-ecc3-49aa-a7be-1c029d32fe06')\"\n",
              "            title=\"Convert this dataframe to an interactive table.\"\n",
              "            style=\"display:none;\">\n",
              "\n",
              "  <svg xmlns=\"http://www.w3.org/2000/svg\" height=\"24px\" viewBox=\"0 -960 960 960\">\n",
              "    <path d=\"M120-120v-720h720v720H120Zm60-500h600v-160H180v160Zm220 220h160v-160H400v160Zm0 220h160v-160H400v160ZM180-400h160v-160H180v160Zm440 0h160v-160H620v160ZM180-180h160v-160H180v160Zm440 0h160v-160H620v160Z\"/>\n",
              "  </svg>\n",
              "    </button>\n",
              "\n",
              "  <style>\n",
              "    .colab-df-container {\n",
              "      display:flex;\n",
              "      gap: 12px;\n",
              "    }\n",
              "\n",
              "    .colab-df-convert {\n",
              "      background-color: #E8F0FE;\n",
              "      border: none;\n",
              "      border-radius: 50%;\n",
              "      cursor: pointer;\n",
              "      display: none;\n",
              "      fill: #1967D2;\n",
              "      height: 32px;\n",
              "      padding: 0 0 0 0;\n",
              "      width: 32px;\n",
              "    }\n",
              "\n",
              "    .colab-df-convert:hover {\n",
              "      background-color: #E2EBFA;\n",
              "      box-shadow: 0px 1px 2px rgba(60, 64, 67, 0.3), 0px 1px 3px 1px rgba(60, 64, 67, 0.15);\n",
              "      fill: #174EA6;\n",
              "    }\n",
              "\n",
              "    .colab-df-buttons div {\n",
              "      margin-bottom: 4px;\n",
              "    }\n",
              "\n",
              "    [theme=dark] .colab-df-convert {\n",
              "      background-color: #3B4455;\n",
              "      fill: #D2E3FC;\n",
              "    }\n",
              "\n",
              "    [theme=dark] .colab-df-convert:hover {\n",
              "      background-color: #434B5C;\n",
              "      box-shadow: 0px 1px 3px 1px rgba(0, 0, 0, 0.15);\n",
              "      filter: drop-shadow(0px 1px 2px rgba(0, 0, 0, 0.3));\n",
              "      fill: #FFFFFF;\n",
              "    }\n",
              "  </style>\n",
              "\n",
              "    <script>\n",
              "      const buttonEl =\n",
              "        document.querySelector('#df-1f8b49bc-ecc3-49aa-a7be-1c029d32fe06 button.colab-df-convert');\n",
              "      buttonEl.style.display =\n",
              "        google.colab.kernel.accessAllowed ? 'block' : 'none';\n",
              "\n",
              "      async function convertToInteractive(key) {\n",
              "        const element = document.querySelector('#df-1f8b49bc-ecc3-49aa-a7be-1c029d32fe06');\n",
              "        const dataTable =\n",
              "          await google.colab.kernel.invokeFunction('convertToInteractive',\n",
              "                                                    [key], {});\n",
              "        if (!dataTable) return;\n",
              "\n",
              "        const docLinkHtml = 'Like what you see? Visit the ' +\n",
              "          '<a target=\"_blank\" href=https://colab.research.google.com/notebooks/data_table.ipynb>data table notebook</a>'\n",
              "          + ' to learn more about interactive tables.';\n",
              "        element.innerHTML = '';\n",
              "        dataTable['output_type'] = 'display_data';\n",
              "        await google.colab.output.renderOutput(dataTable, element);\n",
              "        const docLink = document.createElement('div');\n",
              "        docLink.innerHTML = docLinkHtml;\n",
              "        element.appendChild(docLink);\n",
              "      }\n",
              "    </script>\n",
              "  </div>\n",
              "\n",
              "\n",
              "<div id=\"df-60332c2d-6b2d-481d-b81d-e2229b9194e6\">\n",
              "  <button class=\"colab-df-quickchart\" onclick=\"quickchart('df-60332c2d-6b2d-481d-b81d-e2229b9194e6')\"\n",
              "            title=\"Suggest charts\"\n",
              "            style=\"display:none;\">\n",
              "\n",
              "<svg xmlns=\"http://www.w3.org/2000/svg\" height=\"24px\"viewBox=\"0 0 24 24\"\n",
              "     width=\"24px\">\n",
              "    <g>\n",
              "        <path d=\"M19 3H5c-1.1 0-2 .9-2 2v14c0 1.1.9 2 2 2h14c1.1 0 2-.9 2-2V5c0-1.1-.9-2-2-2zM9 17H7v-7h2v7zm4 0h-2V7h2v10zm4 0h-2v-4h2v4z\"/>\n",
              "    </g>\n",
              "</svg>\n",
              "  </button>\n",
              "\n",
              "<style>\n",
              "  .colab-df-quickchart {\n",
              "      --bg-color: #E8F0FE;\n",
              "      --fill-color: #1967D2;\n",
              "      --hover-bg-color: #E2EBFA;\n",
              "      --hover-fill-color: #174EA6;\n",
              "      --disabled-fill-color: #AAA;\n",
              "      --disabled-bg-color: #DDD;\n",
              "  }\n",
              "\n",
              "  [theme=dark] .colab-df-quickchart {\n",
              "      --bg-color: #3B4455;\n",
              "      --fill-color: #D2E3FC;\n",
              "      --hover-bg-color: #434B5C;\n",
              "      --hover-fill-color: #FFFFFF;\n",
              "      --disabled-bg-color: #3B4455;\n",
              "      --disabled-fill-color: #666;\n",
              "  }\n",
              "\n",
              "  .colab-df-quickchart {\n",
              "    background-color: var(--bg-color);\n",
              "    border: none;\n",
              "    border-radius: 50%;\n",
              "    cursor: pointer;\n",
              "    display: none;\n",
              "    fill: var(--fill-color);\n",
              "    height: 32px;\n",
              "    padding: 0;\n",
              "    width: 32px;\n",
              "  }\n",
              "\n",
              "  .colab-df-quickchart:hover {\n",
              "    background-color: var(--hover-bg-color);\n",
              "    box-shadow: 0 1px 2px rgba(60, 64, 67, 0.3), 0 1px 3px 1px rgba(60, 64, 67, 0.15);\n",
              "    fill: var(--button-hover-fill-color);\n",
              "  }\n",
              "\n",
              "  .colab-df-quickchart-complete:disabled,\n",
              "  .colab-df-quickchart-complete:disabled:hover {\n",
              "    background-color: var(--disabled-bg-color);\n",
              "    fill: var(--disabled-fill-color);\n",
              "    box-shadow: none;\n",
              "  }\n",
              "\n",
              "  .colab-df-spinner {\n",
              "    border: 2px solid var(--fill-color);\n",
              "    border-color: transparent;\n",
              "    border-bottom-color: var(--fill-color);\n",
              "    animation:\n",
              "      spin 1s steps(1) infinite;\n",
              "  }\n",
              "\n",
              "  @keyframes spin {\n",
              "    0% {\n",
              "      border-color: transparent;\n",
              "      border-bottom-color: var(--fill-color);\n",
              "      border-left-color: var(--fill-color);\n",
              "    }\n",
              "    20% {\n",
              "      border-color: transparent;\n",
              "      border-left-color: var(--fill-color);\n",
              "      border-top-color: var(--fill-color);\n",
              "    }\n",
              "    30% {\n",
              "      border-color: transparent;\n",
              "      border-left-color: var(--fill-color);\n",
              "      border-top-color: var(--fill-color);\n",
              "      border-right-color: var(--fill-color);\n",
              "    }\n",
              "    40% {\n",
              "      border-color: transparent;\n",
              "      border-right-color: var(--fill-color);\n",
              "      border-top-color: var(--fill-color);\n",
              "    }\n",
              "    60% {\n",
              "      border-color: transparent;\n",
              "      border-right-color: var(--fill-color);\n",
              "    }\n",
              "    80% {\n",
              "      border-color: transparent;\n",
              "      border-right-color: var(--fill-color);\n",
              "      border-bottom-color: var(--fill-color);\n",
              "    }\n",
              "    90% {\n",
              "      border-color: transparent;\n",
              "      border-bottom-color: var(--fill-color);\n",
              "    }\n",
              "  }\n",
              "</style>\n",
              "\n",
              "  <script>\n",
              "    async function quickchart(key) {\n",
              "      const quickchartButtonEl =\n",
              "        document.querySelector('#' + key + ' button');\n",
              "      quickchartButtonEl.disabled = true;  // To prevent multiple clicks.\n",
              "      quickchartButtonEl.classList.add('colab-df-spinner');\n",
              "      try {\n",
              "        const charts = await google.colab.kernel.invokeFunction(\n",
              "            'suggestCharts', [key], {});\n",
              "      } catch (error) {\n",
              "        console.error('Error during call to suggestCharts:', error);\n",
              "      }\n",
              "      quickchartButtonEl.classList.remove('colab-df-spinner');\n",
              "      quickchartButtonEl.classList.add('colab-df-quickchart-complete');\n",
              "    }\n",
              "    (() => {\n",
              "      let quickchartButtonEl =\n",
              "        document.querySelector('#df-60332c2d-6b2d-481d-b81d-e2229b9194e6 button');\n",
              "      quickchartButtonEl.style.display =\n",
              "        google.colab.kernel.accessAllowed ? 'block' : 'none';\n",
              "    })();\n",
              "  </script>\n",
              "</div>\n",
              "\n",
              "  <div id=\"id_09bde751-3609-4245-bd1d-d8d1ac2ae2aa\">\n",
              "    <style>\n",
              "      .colab-df-generate {\n",
              "        background-color: #E8F0FE;\n",
              "        border: none;\n",
              "        border-radius: 50%;\n",
              "        cursor: pointer;\n",
              "        display: none;\n",
              "        fill: #1967D2;\n",
              "        height: 32px;\n",
              "        padding: 0 0 0 0;\n",
              "        width: 32px;\n",
              "      }\n",
              "\n",
              "      .colab-df-generate:hover {\n",
              "        background-color: #E2EBFA;\n",
              "        box-shadow: 0px 1px 2px rgba(60, 64, 67, 0.3), 0px 1px 3px 1px rgba(60, 64, 67, 0.15);\n",
              "        fill: #174EA6;\n",
              "      }\n",
              "\n",
              "      [theme=dark] .colab-df-generate {\n",
              "        background-color: #3B4455;\n",
              "        fill: #D2E3FC;\n",
              "      }\n",
              "\n",
              "      [theme=dark] .colab-df-generate:hover {\n",
              "        background-color: #434B5C;\n",
              "        box-shadow: 0px 1px 3px 1px rgba(0, 0, 0, 0.15);\n",
              "        filter: drop-shadow(0px 1px 2px rgba(0, 0, 0, 0.3));\n",
              "        fill: #FFFFFF;\n",
              "      }\n",
              "    </style>\n",
              "    <button class=\"colab-df-generate\" onclick=\"generateWithVariable('df')\"\n",
              "            title=\"Generate code using this dataframe.\"\n",
              "            style=\"display:none;\">\n",
              "\n",
              "  <svg xmlns=\"http://www.w3.org/2000/svg\" height=\"24px\"viewBox=\"0 0 24 24\"\n",
              "       width=\"24px\">\n",
              "    <path d=\"M7,19H8.4L18.45,9,17,7.55,7,17.6ZM5,21V16.75L18.45,3.32a2,2,0,0,1,2.83,0l1.4,1.43a1.91,1.91,0,0,1,.58,1.4,1.91,1.91,0,0,1-.58,1.4L9.25,21ZM18.45,9,17,7.55Zm-12,3A5.31,5.31,0,0,0,4.9,8.1,5.31,5.31,0,0,0,1,6.5,5.31,5.31,0,0,0,4.9,4.9,5.31,5.31,0,0,0,6.5,1,5.31,5.31,0,0,0,8.1,4.9,5.31,5.31,0,0,0,12,6.5,5.46,5.46,0,0,0,6.5,12Z\"/>\n",
              "  </svg>\n",
              "    </button>\n",
              "    <script>\n",
              "      (() => {\n",
              "      const buttonEl =\n",
              "        document.querySelector('#id_09bde751-3609-4245-bd1d-d8d1ac2ae2aa button.colab-df-generate');\n",
              "      buttonEl.style.display =\n",
              "        google.colab.kernel.accessAllowed ? 'block' : 'none';\n",
              "\n",
              "      buttonEl.onclick = () => {\n",
              "        google.colab.notebook.generateWithVariable('df');\n",
              "      }\n",
              "      })();\n",
              "    </script>\n",
              "  </div>\n",
              "\n",
              "    </div>\n",
              "  </div>\n"
            ],
            "application/vnd.google.colaboratory.intrinsic+json": {
              "type": "dataframe",
              "variable_name": "df",
              "summary": "{\n  \"name\": \"df\",\n  \"rows\": 1969,\n  \"fields\": [\n    {\n      \"column\": \"Date\",\n      \"properties\": {\n        \"dtype\": \"date\",\n        \"min\": \"2016-07-29 00:00:00\",\n        \"max\": \"2024-05-24 00:00:00\",\n        \"num_unique_values\": 1969,\n        \"samples\": [\n          \"2019-07-26 00:00:00\",\n          \"2019-08-14 00:00:00\",\n          \"2023-02-24 00:00:00\"\n        ],\n        \"semantic_type\": \"\",\n        \"description\": \"\"\n      }\n    },\n    {\n      \"column\": \"Open price\",\n      \"properties\": {\n        \"dtype\": \"number\",\n        \"std\": 85.2402724121623,\n        \"min\": 208.5500030517578,\n        \"max\": 532.9600219726562,\n        \"num_unique_values\": 1893,\n        \"samples\": [\n          364.8999938964844,\n          277.70001220703125,\n          325.8999938964844\n        ],\n        \"semantic_type\": \"\",\n        \"description\": \"\"\n      }\n    },\n    {\n      \"column\": \"Close price\",\n      \"properties\": {\n        \"dtype\": \"number\",\n        \"std\": 85.26942430104022,\n        \"min\": 208.5500030517578,\n        \"max\": 531.3599853515625,\n        \"num_unique_values\": 1895,\n        \"samples\": [\n          469.75,\n          278.4100036621094,\n          330.05999755859375\n        ],\n        \"semantic_type\": \"\",\n        \"description\": \"\"\n      }\n    },\n    {\n      \"column\": \"Final price\",\n      \"properties\": {\n        \"dtype\": \"number\",\n        \"std\": 85.26616151740987,\n        \"min\": 208.56980484014287,\n        \"max\": 530.7674621196012,\n        \"num_unique_values\": 1962,\n        \"samples\": [\n          366.6716391822871,\n          280.4404545746809,\n          272.239990234375\n        ],\n        \"semantic_type\": \"\",\n        \"description\": \"\"\n      }\n    },\n    {\n      \"column\": \"Action\",\n      \"properties\": {\n        \"dtype\": \"category\",\n        \"num_unique_values\": 2,\n        \"samples\": [\n          \"Short\",\n          \"Long\"\n        ],\n        \"semantic_type\": \"\",\n        \"description\": \"\"\n      }\n    },\n    {\n      \"column\": \"Return\",\n      \"properties\": {\n        \"dtype\": \"number\",\n        \"std\": 0.006272886998191757,\n        \"min\": -0.04471672047745756,\n        \"max\": 0.05208463683876352,\n        \"num_unique_values\": 1965,\n        \"samples\": [\n          0.001567521283050377,\n          -0.0002181253203180633\n        ],\n        \"semantic_type\": \"\",\n        \"description\": \"\"\n      }\n    }\n  ]\n}"
            }
          },
          "metadata": {},
          "execution_count": 18
        }
      ]
    },
    {
      "cell_type": "markdown",
      "source": [
        "**Evaluation**\n",
        "\n",
        "To evaluate the model's performance statistically, both the accuracy of the model in predicting the correct action and the average positive and negative returns are examined. The accuracy is approximately 70%, with an average positive return of 0.3% and an average negative return of -0.6%. Although it appears that losses are greater than gains, the 70% accuracy helps achieve a positive return overall. A simple calculation demonstrates this: 0.3% $\\times$0.7 - 0.6% $\\times$ 0.3 = 0.03%. The possible annualized return might be calculated as 0.03% $\\times$ 252 = 7.56%"
      ],
      "metadata": {
        "id": "0q8oodXi4zh2"
      }
    },
    {
      "cell_type": "code",
      "source": [
        "# Calculate and print the accuracy of the model in guessing the correct action\n",
        "right_decision = len([x for x in returns if x >= 1])/len(returns)\n",
        "\n",
        "# Count the number of positive returns\n",
        "positive_returns = df[df['Return'] > 0]\n",
        "negative_returns = df[df['Return'] < 0]\n",
        "\n",
        "# Print results\n",
        "print(\"Average return:\", np.mean(df['Return']))\n",
        "print(\"Direction Accuracy:\",right_decision)\n",
        "print(\"Average positive return\",np.mean(positive_returns['Return']))\n",
        "print(\"Average negative return\",np.mean(negative_returns['Return']))"
      ],
      "metadata": {
        "colab": {
          "base_uri": "https://localhost:8080/"
        },
        "id": "oEMXnS35NEJQ",
        "outputId": "0f31bbc7-c366-4161-fcc5-3e362a5c9dc5"
      },
      "execution_count": null,
      "outputs": [
        {
          "output_type": "stream",
          "name": "stdout",
          "text": [
            "Average return: 0.0002618505102566489\n",
            "Direction Accuracy: 0.6866429659725749\n",
            "Average positive return 0.003155496494973808\n",
            "Average negative return -0.006053274107024923\n"
          ]
        }
      ]
    },
    {
      "cell_type": "markdown",
      "source": [
        "**Performance**\n",
        "\n",
        "The performance of the trading strategy is evaluated based on its annualized return, volatility, and Sharpe ratio. These metrics are then compared to the benchmark return, which is calculated by holding a long position at the beginning of the day (when our trading strategy is deployed in backtesting) and closing it at the end of the day (when our trading strategy is not used in backtesting).\n",
        "\n",
        "As shown in the results below, although our trading strategy's annualized return is almost half of the benchmark's annualized return, its volatility is also nearly half of that of the benchmark strategy. The Sharpe ratio is almost equal between the two strategies. Therefore, there is a trade-off between taking volatility risk and achieving returns."
      ],
      "metadata": {
        "id": "-IYZdLFc4wUj"
      }
    },
    {
      "cell_type": "code",
      "source": [
        "# Calculate return, volatility and Sharpe ratio\n",
        "total_return=np.prod(returns)\n",
        "volatility=np.std(returns)*np.sqrt(252)\n",
        "yearly_return=(np.prod(returns)**(1/len(returns)))**252-1\n",
        "sharpe_ratio=yearly_return/volatility\n",
        "\n",
        "# Print results\n",
        "print(\"Total return:\",total_return)\n",
        "print(\"Annual return:\",yearly_return)\n",
        "print(\"Volatility:\", volatility)\n",
        "print(\"Sharpe ratio:\",sharpe_ratio)"
      ],
      "metadata": {
        "colab": {
          "base_uri": "https://localhost:8080/"
        },
        "id": "cQVPHicIq4-e",
        "outputId": "c59feb90-22a7-40f7-ef50-9cdf1fd15817"
      },
      "execution_count": null,
      "outputs": [
        {
          "output_type": "stream",
          "name": "stdout",
          "text": [
            "Total return: 1.610995484942795\n",
            "Annual return: 0.06293010524350673\n",
            "Volatility: 0.09939889245619678\n",
            "Sharpe ratio: 0.6331067045967221\n"
          ]
        }
      ]
    },
    {
      "cell_type": "code",
      "source": [
        "# Calculate return, volatility and Sharpe ratio\n",
        "actual_return=np.diff(y_test) / y_test[:-1]+1\n",
        "total_return=np.prod(actual_return)\n",
        "volatility=np.std(actual_return)*np.sqrt(252)\n",
        "yearly_return=(np.prod(actual_return)**(1/len(actual_return)))**252-1\n",
        "sharpe_ratio=yearly_return/volatility\n",
        "\n",
        "# Print results\n",
        "print(\"Total return:\",total_return)\n",
        "print(\"Annual return:\",yearly_return)\n",
        "print(\"Volatility:\", volatility)\n",
        "print(\"Sharpe ratio:\",sharpe_ratio)"
      ],
      "metadata": {
        "colab": {
          "base_uri": "https://localhost:8080/"
        },
        "id": "38H88uwCoN9K",
        "outputId": "a19284bf-3359-449c-d5f0-14cbc8b91934"
      },
      "execution_count": null,
      "outputs": [
        {
          "output_type": "stream",
          "name": "stdout",
          "text": [
            "Total return: 2.438467273157616\n",
            "Annual return: 0.12090769593146278\n",
            "Volatility: 0.18390730851741635\n",
            "Sharpe ratio: 0.6574382329129275\n"
          ]
        }
      ]
    },
    {
      "cell_type": "markdown",
      "source": [
        "**Drawdown Risk**\n",
        "\n",
        "Backtesting during drawdown periods provides deeper insights into the performance of the trading strategy under conditions of significant loss. This analysis helps determine whether the strategy is more risk-averse or more inclined to take on risk, offering valuable information for strategic adjustments."
      ],
      "metadata": {
        "id": "XFkHj5mND6DS"
      }
    },
    {
      "cell_type": "markdown",
      "source": [
        "**Drawdown Risk - 2018**\n",
        "\n",
        "The return and volatility during the 2018 drawdown were tested to evaluate the performance of the trading strategy. The results indicate that this strategy effectively minimized losses during this period. The average daily return is close to zero, which is better than the benchmark, as the benchmark's return was negative during this period. Additionally, the strategy exhibited reduced volatility, a feature that may be favored by risk-averse investors.\n"
      ],
      "metadata": {
        "id": "uVdcgKw_JdSH"
      }
    },
    {
      "cell_type": "code",
      "source": [
        "# Select period\n",
        "drawdown_2018_df = df[(df['Date'] >= '2018-06-01') & (df['Date'] <= '2019-02-01')]\n",
        "\n",
        "# Find the low and peak piont\n",
        "low_point_index = drawdown_2018_df['Close price'].argmin()\n",
        "peak_point_index = drawdown_2018_df['Close price'].argmax()\n",
        "\n",
        "# Narrow the data based on the low and peak point\n",
        "drawdown_2018_return=drawdown_2018_df.iloc[peak_point_index:low_point_index]\n",
        "drawdown_2018_return"
      ],
      "metadata": {
        "colab": {
          "base_uri": "https://localhost:8080/",
          "height": 424
        },
        "id": "F3rA5m0eGIGy",
        "outputId": "1bfa8cbd-63e4-4c1f-a352-6329cd6fa691"
      },
      "execution_count": null,
      "outputs": [
        {
          "output_type": "execute_result",
          "data": {
            "text/plain": [
              "          Date  Open price  Close price  Final price Action    Return\n",
              "540 2018-09-20  292.640015   293.579987   293.579987  Short -0.003202\n",
              "541 2018-09-21  293.089996   291.989990   291.989990   Long -0.003753\n",
              "542 2018-09-24  291.339996   291.019989   291.019989   Long -0.001098\n",
              "543 2018-09-25  291.529999   290.750000   290.960429  Short  0.001958\n",
              "544 2018-09-26  290.910004   289.880005   290.611552  Short  0.001027\n",
              "..         ...         ...          ...          ...    ...       ...\n",
              "600 2018-12-17  259.399994   255.360001   260.608968   Long  0.004661\n",
              "601 2018-12-18  257.200012   255.080002   255.759634  Short  0.005632\n",
              "602 2018-12-19  255.169998   251.259995   255.232743   Long  0.000246\n",
              "603 2018-12-20  249.860001   247.169998   251.386379   Long  0.006109\n",
              "604 2018-12-21  246.740005   240.699997   247.447522   Long  0.002867\n",
              "\n",
              "[65 rows x 6 columns]"
            ],
            "text/html": [
              "\n",
              "  <div id=\"df-aa8d0d4d-97ae-468b-9535-36a8eb533430\" class=\"colab-df-container\">\n",
              "    <div>\n",
              "<style scoped>\n",
              "    .dataframe tbody tr th:only-of-type {\n",
              "        vertical-align: middle;\n",
              "    }\n",
              "\n",
              "    .dataframe tbody tr th {\n",
              "        vertical-align: top;\n",
              "    }\n",
              "\n",
              "    .dataframe thead th {\n",
              "        text-align: right;\n",
              "    }\n",
              "</style>\n",
              "<table border=\"1\" class=\"dataframe\">\n",
              "  <thead>\n",
              "    <tr style=\"text-align: right;\">\n",
              "      <th></th>\n",
              "      <th>Date</th>\n",
              "      <th>Open price</th>\n",
              "      <th>Close price</th>\n",
              "      <th>Final price</th>\n",
              "      <th>Action</th>\n",
              "      <th>Return</th>\n",
              "    </tr>\n",
              "  </thead>\n",
              "  <tbody>\n",
              "    <tr>\n",
              "      <th>540</th>\n",
              "      <td>2018-09-20</td>\n",
              "      <td>292.640015</td>\n",
              "      <td>293.579987</td>\n",
              "      <td>293.579987</td>\n",
              "      <td>Short</td>\n",
              "      <td>-0.003202</td>\n",
              "    </tr>\n",
              "    <tr>\n",
              "      <th>541</th>\n",
              "      <td>2018-09-21</td>\n",
              "      <td>293.089996</td>\n",
              "      <td>291.989990</td>\n",
              "      <td>291.989990</td>\n",
              "      <td>Long</td>\n",
              "      <td>-0.003753</td>\n",
              "    </tr>\n",
              "    <tr>\n",
              "      <th>542</th>\n",
              "      <td>2018-09-24</td>\n",
              "      <td>291.339996</td>\n",
              "      <td>291.019989</td>\n",
              "      <td>291.019989</td>\n",
              "      <td>Long</td>\n",
              "      <td>-0.001098</td>\n",
              "    </tr>\n",
              "    <tr>\n",
              "      <th>543</th>\n",
              "      <td>2018-09-25</td>\n",
              "      <td>291.529999</td>\n",
              "      <td>290.750000</td>\n",
              "      <td>290.960429</td>\n",
              "      <td>Short</td>\n",
              "      <td>0.001958</td>\n",
              "    </tr>\n",
              "    <tr>\n",
              "      <th>544</th>\n",
              "      <td>2018-09-26</td>\n",
              "      <td>290.910004</td>\n",
              "      <td>289.880005</td>\n",
              "      <td>290.611552</td>\n",
              "      <td>Short</td>\n",
              "      <td>0.001027</td>\n",
              "    </tr>\n",
              "    <tr>\n",
              "      <th>...</th>\n",
              "      <td>...</td>\n",
              "      <td>...</td>\n",
              "      <td>...</td>\n",
              "      <td>...</td>\n",
              "      <td>...</td>\n",
              "      <td>...</td>\n",
              "    </tr>\n",
              "    <tr>\n",
              "      <th>600</th>\n",
              "      <td>2018-12-17</td>\n",
              "      <td>259.399994</td>\n",
              "      <td>255.360001</td>\n",
              "      <td>260.608968</td>\n",
              "      <td>Long</td>\n",
              "      <td>0.004661</td>\n",
              "    </tr>\n",
              "    <tr>\n",
              "      <th>601</th>\n",
              "      <td>2018-12-18</td>\n",
              "      <td>257.200012</td>\n",
              "      <td>255.080002</td>\n",
              "      <td>255.759634</td>\n",
              "      <td>Short</td>\n",
              "      <td>0.005632</td>\n",
              "    </tr>\n",
              "    <tr>\n",
              "      <th>602</th>\n",
              "      <td>2018-12-19</td>\n",
              "      <td>255.169998</td>\n",
              "      <td>251.259995</td>\n",
              "      <td>255.232743</td>\n",
              "      <td>Long</td>\n",
              "      <td>0.000246</td>\n",
              "    </tr>\n",
              "    <tr>\n",
              "      <th>603</th>\n",
              "      <td>2018-12-20</td>\n",
              "      <td>249.860001</td>\n",
              "      <td>247.169998</td>\n",
              "      <td>251.386379</td>\n",
              "      <td>Long</td>\n",
              "      <td>0.006109</td>\n",
              "    </tr>\n",
              "    <tr>\n",
              "      <th>604</th>\n",
              "      <td>2018-12-21</td>\n",
              "      <td>246.740005</td>\n",
              "      <td>240.699997</td>\n",
              "      <td>247.447522</td>\n",
              "      <td>Long</td>\n",
              "      <td>0.002867</td>\n",
              "    </tr>\n",
              "  </tbody>\n",
              "</table>\n",
              "<p>65 rows × 6 columns</p>\n",
              "</div>\n",
              "    <div class=\"colab-df-buttons\">\n",
              "\n",
              "  <div class=\"colab-df-container\">\n",
              "    <button class=\"colab-df-convert\" onclick=\"convertToInteractive('df-aa8d0d4d-97ae-468b-9535-36a8eb533430')\"\n",
              "            title=\"Convert this dataframe to an interactive table.\"\n",
              "            style=\"display:none;\">\n",
              "\n",
              "  <svg xmlns=\"http://www.w3.org/2000/svg\" height=\"24px\" viewBox=\"0 -960 960 960\">\n",
              "    <path d=\"M120-120v-720h720v720H120Zm60-500h600v-160H180v160Zm220 220h160v-160H400v160Zm0 220h160v-160H400v160ZM180-400h160v-160H180v160Zm440 0h160v-160H620v160ZM180-180h160v-160H180v160Zm440 0h160v-160H620v160Z\"/>\n",
              "  </svg>\n",
              "    </button>\n",
              "\n",
              "  <style>\n",
              "    .colab-df-container {\n",
              "      display:flex;\n",
              "      gap: 12px;\n",
              "    }\n",
              "\n",
              "    .colab-df-convert {\n",
              "      background-color: #E8F0FE;\n",
              "      border: none;\n",
              "      border-radius: 50%;\n",
              "      cursor: pointer;\n",
              "      display: none;\n",
              "      fill: #1967D2;\n",
              "      height: 32px;\n",
              "      padding: 0 0 0 0;\n",
              "      width: 32px;\n",
              "    }\n",
              "\n",
              "    .colab-df-convert:hover {\n",
              "      background-color: #E2EBFA;\n",
              "      box-shadow: 0px 1px 2px rgba(60, 64, 67, 0.3), 0px 1px 3px 1px rgba(60, 64, 67, 0.15);\n",
              "      fill: #174EA6;\n",
              "    }\n",
              "\n",
              "    .colab-df-buttons div {\n",
              "      margin-bottom: 4px;\n",
              "    }\n",
              "\n",
              "    [theme=dark] .colab-df-convert {\n",
              "      background-color: #3B4455;\n",
              "      fill: #D2E3FC;\n",
              "    }\n",
              "\n",
              "    [theme=dark] .colab-df-convert:hover {\n",
              "      background-color: #434B5C;\n",
              "      box-shadow: 0px 1px 3px 1px rgba(0, 0, 0, 0.15);\n",
              "      filter: drop-shadow(0px 1px 2px rgba(0, 0, 0, 0.3));\n",
              "      fill: #FFFFFF;\n",
              "    }\n",
              "  </style>\n",
              "\n",
              "    <script>\n",
              "      const buttonEl =\n",
              "        document.querySelector('#df-aa8d0d4d-97ae-468b-9535-36a8eb533430 button.colab-df-convert');\n",
              "      buttonEl.style.display =\n",
              "        google.colab.kernel.accessAllowed ? 'block' : 'none';\n",
              "\n",
              "      async function convertToInteractive(key) {\n",
              "        const element = document.querySelector('#df-aa8d0d4d-97ae-468b-9535-36a8eb533430');\n",
              "        const dataTable =\n",
              "          await google.colab.kernel.invokeFunction('convertToInteractive',\n",
              "                                                    [key], {});\n",
              "        if (!dataTable) return;\n",
              "\n",
              "        const docLinkHtml = 'Like what you see? Visit the ' +\n",
              "          '<a target=\"_blank\" href=https://colab.research.google.com/notebooks/data_table.ipynb>data table notebook</a>'\n",
              "          + ' to learn more about interactive tables.';\n",
              "        element.innerHTML = '';\n",
              "        dataTable['output_type'] = 'display_data';\n",
              "        await google.colab.output.renderOutput(dataTable, element);\n",
              "        const docLink = document.createElement('div');\n",
              "        docLink.innerHTML = docLinkHtml;\n",
              "        element.appendChild(docLink);\n",
              "      }\n",
              "    </script>\n",
              "  </div>\n",
              "\n",
              "\n",
              "<div id=\"df-b70f7688-eca1-4ed7-8df8-c83f37d4eaa0\">\n",
              "  <button class=\"colab-df-quickchart\" onclick=\"quickchart('df-b70f7688-eca1-4ed7-8df8-c83f37d4eaa0')\"\n",
              "            title=\"Suggest charts\"\n",
              "            style=\"display:none;\">\n",
              "\n",
              "<svg xmlns=\"http://www.w3.org/2000/svg\" height=\"24px\"viewBox=\"0 0 24 24\"\n",
              "     width=\"24px\">\n",
              "    <g>\n",
              "        <path d=\"M19 3H5c-1.1 0-2 .9-2 2v14c0 1.1.9 2 2 2h14c1.1 0 2-.9 2-2V5c0-1.1-.9-2-2-2zM9 17H7v-7h2v7zm4 0h-2V7h2v10zm4 0h-2v-4h2v4z\"/>\n",
              "    </g>\n",
              "</svg>\n",
              "  </button>\n",
              "\n",
              "<style>\n",
              "  .colab-df-quickchart {\n",
              "      --bg-color: #E8F0FE;\n",
              "      --fill-color: #1967D2;\n",
              "      --hover-bg-color: #E2EBFA;\n",
              "      --hover-fill-color: #174EA6;\n",
              "      --disabled-fill-color: #AAA;\n",
              "      --disabled-bg-color: #DDD;\n",
              "  }\n",
              "\n",
              "  [theme=dark] .colab-df-quickchart {\n",
              "      --bg-color: #3B4455;\n",
              "      --fill-color: #D2E3FC;\n",
              "      --hover-bg-color: #434B5C;\n",
              "      --hover-fill-color: #FFFFFF;\n",
              "      --disabled-bg-color: #3B4455;\n",
              "      --disabled-fill-color: #666;\n",
              "  }\n",
              "\n",
              "  .colab-df-quickchart {\n",
              "    background-color: var(--bg-color);\n",
              "    border: none;\n",
              "    border-radius: 50%;\n",
              "    cursor: pointer;\n",
              "    display: none;\n",
              "    fill: var(--fill-color);\n",
              "    height: 32px;\n",
              "    padding: 0;\n",
              "    width: 32px;\n",
              "  }\n",
              "\n",
              "  .colab-df-quickchart:hover {\n",
              "    background-color: var(--hover-bg-color);\n",
              "    box-shadow: 0 1px 2px rgba(60, 64, 67, 0.3), 0 1px 3px 1px rgba(60, 64, 67, 0.15);\n",
              "    fill: var(--button-hover-fill-color);\n",
              "  }\n",
              "\n",
              "  .colab-df-quickchart-complete:disabled,\n",
              "  .colab-df-quickchart-complete:disabled:hover {\n",
              "    background-color: var(--disabled-bg-color);\n",
              "    fill: var(--disabled-fill-color);\n",
              "    box-shadow: none;\n",
              "  }\n",
              "\n",
              "  .colab-df-spinner {\n",
              "    border: 2px solid var(--fill-color);\n",
              "    border-color: transparent;\n",
              "    border-bottom-color: var(--fill-color);\n",
              "    animation:\n",
              "      spin 1s steps(1) infinite;\n",
              "  }\n",
              "\n",
              "  @keyframes spin {\n",
              "    0% {\n",
              "      border-color: transparent;\n",
              "      border-bottom-color: var(--fill-color);\n",
              "      border-left-color: var(--fill-color);\n",
              "    }\n",
              "    20% {\n",
              "      border-color: transparent;\n",
              "      border-left-color: var(--fill-color);\n",
              "      border-top-color: var(--fill-color);\n",
              "    }\n",
              "    30% {\n",
              "      border-color: transparent;\n",
              "      border-left-color: var(--fill-color);\n",
              "      border-top-color: var(--fill-color);\n",
              "      border-right-color: var(--fill-color);\n",
              "    }\n",
              "    40% {\n",
              "      border-color: transparent;\n",
              "      border-right-color: var(--fill-color);\n",
              "      border-top-color: var(--fill-color);\n",
              "    }\n",
              "    60% {\n",
              "      border-color: transparent;\n",
              "      border-right-color: var(--fill-color);\n",
              "    }\n",
              "    80% {\n",
              "      border-color: transparent;\n",
              "      border-right-color: var(--fill-color);\n",
              "      border-bottom-color: var(--fill-color);\n",
              "    }\n",
              "    90% {\n",
              "      border-color: transparent;\n",
              "      border-bottom-color: var(--fill-color);\n",
              "    }\n",
              "  }\n",
              "</style>\n",
              "\n",
              "  <script>\n",
              "    async function quickchart(key) {\n",
              "      const quickchartButtonEl =\n",
              "        document.querySelector('#' + key + ' button');\n",
              "      quickchartButtonEl.disabled = true;  // To prevent multiple clicks.\n",
              "      quickchartButtonEl.classList.add('colab-df-spinner');\n",
              "      try {\n",
              "        const charts = await google.colab.kernel.invokeFunction(\n",
              "            'suggestCharts', [key], {});\n",
              "      } catch (error) {\n",
              "        console.error('Error during call to suggestCharts:', error);\n",
              "      }\n",
              "      quickchartButtonEl.classList.remove('colab-df-spinner');\n",
              "      quickchartButtonEl.classList.add('colab-df-quickchart-complete');\n",
              "    }\n",
              "    (() => {\n",
              "      let quickchartButtonEl =\n",
              "        document.querySelector('#df-b70f7688-eca1-4ed7-8df8-c83f37d4eaa0 button');\n",
              "      quickchartButtonEl.style.display =\n",
              "        google.colab.kernel.accessAllowed ? 'block' : 'none';\n",
              "    })();\n",
              "  </script>\n",
              "</div>\n",
              "\n",
              "  <div id=\"id_4cf01aa9-e698-44cd-911a-d09637671b82\">\n",
              "    <style>\n",
              "      .colab-df-generate {\n",
              "        background-color: #E8F0FE;\n",
              "        border: none;\n",
              "        border-radius: 50%;\n",
              "        cursor: pointer;\n",
              "        display: none;\n",
              "        fill: #1967D2;\n",
              "        height: 32px;\n",
              "        padding: 0 0 0 0;\n",
              "        width: 32px;\n",
              "      }\n",
              "\n",
              "      .colab-df-generate:hover {\n",
              "        background-color: #E2EBFA;\n",
              "        box-shadow: 0px 1px 2px rgba(60, 64, 67, 0.3), 0px 1px 3px 1px rgba(60, 64, 67, 0.15);\n",
              "        fill: #174EA6;\n",
              "      }\n",
              "\n",
              "      [theme=dark] .colab-df-generate {\n",
              "        background-color: #3B4455;\n",
              "        fill: #D2E3FC;\n",
              "      }\n",
              "\n",
              "      [theme=dark] .colab-df-generate:hover {\n",
              "        background-color: #434B5C;\n",
              "        box-shadow: 0px 1px 3px 1px rgba(0, 0, 0, 0.15);\n",
              "        filter: drop-shadow(0px 1px 2px rgba(0, 0, 0, 0.3));\n",
              "        fill: #FFFFFF;\n",
              "      }\n",
              "    </style>\n",
              "    <button class=\"colab-df-generate\" onclick=\"generateWithVariable('drawdown_2018_return')\"\n",
              "            title=\"Generate code using this dataframe.\"\n",
              "            style=\"display:none;\">\n",
              "\n",
              "  <svg xmlns=\"http://www.w3.org/2000/svg\" height=\"24px\"viewBox=\"0 0 24 24\"\n",
              "       width=\"24px\">\n",
              "    <path d=\"M7,19H8.4L18.45,9,17,7.55,7,17.6ZM5,21V16.75L18.45,3.32a2,2,0,0,1,2.83,0l1.4,1.43a1.91,1.91,0,0,1,.58,1.4,1.91,1.91,0,0,1-.58,1.4L9.25,21ZM18.45,9,17,7.55Zm-12,3A5.31,5.31,0,0,0,4.9,8.1,5.31,5.31,0,0,0,1,6.5,5.31,5.31,0,0,0,4.9,4.9,5.31,5.31,0,0,0,6.5,1,5.31,5.31,0,0,0,8.1,4.9,5.31,5.31,0,0,0,12,6.5,5.46,5.46,0,0,0,6.5,12Z\"/>\n",
              "  </svg>\n",
              "    </button>\n",
              "    <script>\n",
              "      (() => {\n",
              "      const buttonEl =\n",
              "        document.querySelector('#id_4cf01aa9-e698-44cd-911a-d09637671b82 button.colab-df-generate');\n",
              "      buttonEl.style.display =\n",
              "        google.colab.kernel.accessAllowed ? 'block' : 'none';\n",
              "\n",
              "      buttonEl.onclick = () => {\n",
              "        google.colab.notebook.generateWithVariable('drawdown_2018_return');\n",
              "      }\n",
              "      })();\n",
              "    </script>\n",
              "  </div>\n",
              "\n",
              "    </div>\n",
              "  </div>\n"
            ],
            "application/vnd.google.colaboratory.intrinsic+json": {
              "type": "dataframe",
              "variable_name": "drawdown_2018_return",
              "summary": "{\n  \"name\": \"drawdown_2018_return\",\n  \"rows\": 65,\n  \"fields\": [\n    {\n      \"column\": \"Date\",\n      \"properties\": {\n        \"dtype\": \"date\",\n        \"min\": \"2018-09-20 00:00:00\",\n        \"max\": \"2018-12-21 00:00:00\",\n        \"num_unique_values\": 65,\n        \"samples\": [\n          \"2018-12-06 00:00:00\",\n          \"2018-12-17 00:00:00\",\n          \"2018-09-20 00:00:00\"\n        ],\n        \"semantic_type\": \"\",\n        \"description\": \"\"\n      }\n    },\n    {\n      \"column\": \"Open price\",\n      \"properties\": {\n        \"dtype\": \"number\",\n        \"std\": 10.997953187235359,\n        \"min\": 246.74000549316406,\n        \"max\": 293.0899963378906,\n        \"num_unique_values\": 64,\n        \"samples\": [\n          278.3699951171875,\n          262.9599914550781,\n          292.6400146484375\n        ],\n        \"semantic_type\": \"\",\n        \"description\": \"\"\n      }\n    },\n    {\n      \"column\": \"Close price\",\n      \"properties\": {\n        \"dtype\": \"number\",\n        \"std\": 11.548561506267339,\n        \"min\": 240.6999969482422,\n        \"max\": 293.5799865722656,\n        \"num_unique_values\": 64,\n        \"samples\": [\n          269.8399963378906,\n          260.4700012207031,\n          293.5799865722656\n        ],\n        \"semantic_type\": \"\",\n        \"description\": \"\"\n      }\n    },\n    {\n      \"column\": \"Final price\",\n      \"properties\": {\n        \"dtype\": \"number\",\n        \"std\": 10.813340263445703,\n        \"min\": 247.44752215976553,\n        \"max\": 293.5799865722656,\n        \"num_unique_values\": 65,\n        \"samples\": [\n          269.8399963378906,\n          260.6089680451775,\n          293.5799865722656\n        ],\n        \"semantic_type\": \"\",\n        \"description\": \"\"\n      }\n    },\n    {\n      \"column\": \"Action\",\n      \"properties\": {\n        \"dtype\": \"category\",\n        \"num_unique_values\": 2,\n        \"samples\": [\n          \"Long\",\n          \"Short\"\n        ],\n        \"semantic_type\": \"\",\n        \"description\": \"\"\n      }\n    },\n    {\n      \"column\": \"Return\",\n      \"properties\": {\n        \"dtype\": \"number\",\n        \"std\": 0.008744298315260355,\n        \"min\": -0.029738866850128942,\n        \"max\": 0.015578488978086336,\n        \"num_unique_values\": 65,\n        \"samples\": [\n          0.014741210560375917,\n          0.004660656041401312\n        ],\n        \"semantic_type\": \"\",\n        \"description\": \"\"\n      }\n    }\n  ]\n}"
            }
          },
          "metadata": {},
          "execution_count": 144
        }
      ]
    },
    {
      "cell_type": "code",
      "source": [
        "# Plot the trend of close price\n",
        "fig, ax = plt.subplots(figsize=(10, 5))\n",
        "plt.plot(drawdown_2018_return['Date'],drawdown_2018_return['Close price'],label=\"Close price\")\n",
        "ax.xaxis.set_major_locator(DayLocator(interval=21))\n",
        "plt.legend()"
      ],
      "metadata": {
        "colab": {
          "base_uri": "https://localhost:8080/",
          "height": 462
        },
        "id": "0CmHyuDmIUjo",
        "outputId": "1cc78857-4936-4718-d457-2e4723007cb7"
      },
      "execution_count": null,
      "outputs": [
        {
          "output_type": "execute_result",
          "data": {
            "text/plain": [
              "<matplotlib.legend.Legend at 0x7c5ccd713880>"
            ]
          },
          "metadata": {},
          "execution_count": 145
        },
        {
          "output_type": "display_data",
          "data": {
            "text/plain": [
              "<Figure size 1000x500 with 1 Axes>"
            ],
            "image/png": "[encoded data removed]"
          },
          "metadata": {}
        }
      ]
    },
    {
      "cell_type": "code",
      "source": [
        "# Calculate return, volatility and Sharpe ratio\n",
        "returns=drawdown_2018_return['Return']+1\n",
        "total_return=np.prod(returns)\n",
        "volatility=np.std(returns)*np.sqrt(252)\n",
        "yearly_return=(np.prod(returns)**(1/len(returns)))**252-1\n",
        "sharpe_ratio=yearly_return/volatility\n",
        "\n",
        "# Print results\n",
        "print(\"Total return:\",total_return)\n",
        "print(\"Annual return:\",yearly_return)\n",
        "print(\"Volatility:\", volatility)\n",
        "print(\"Sharpe ratio:\",sharpe_ratio)"
      ],
      "metadata": {
        "colab": {
          "base_uri": "https://localhost:8080/"
        },
        "id": "q-dgvH1TI-MD",
        "outputId": "20a0b02b-1187-4695-a373-ac9e0536e844"
      },
      "execution_count": null,
      "outputs": [
        {
          "output_type": "stream",
          "name": "stdout",
          "text": [
            "Total return: 0.9911987689374891\n",
            "Annual return: -0.033692081329734114\n",
            "Volatility: 0.13773951339715923\n",
            "Sharpe ratio: -0.2446072336017777\n"
          ]
        }
      ]
    },
    {
      "cell_type": "code",
      "source": [
        "# Plot the daily returns of the strategy\n",
        "fig, ax = plt.subplots(figsize=(10, 5))\n",
        "plt.plot(drawdown_2018_return['Date'],returns-1,label=\"Return\")\n",
        "mean_value = (returns-1).mean()\n",
        "plt.axhline(mean_value, color='red', linestyle='--', label='Mean of Return')\n",
        "ax.xaxis.set_major_locator(DayLocator(interval=21))\n",
        "plt.legend()"
      ],
      "metadata": {
        "colab": {
          "base_uri": "https://localhost:8080/",
          "height": 462
        },
        "id": "DiVuxA_lPQxa",
        "outputId": "f664e7cd-ea01-4a9a-ac04-d93c70660a56"
      },
      "execution_count": null,
      "outputs": [
        {
          "output_type": "execute_result",
          "data": {
            "text/plain": [
              "<matplotlib.legend.Legend at 0x7c5ccd6d1cf0>"
            ]
          },
          "metadata": {},
          "execution_count": 148
        },
        {
          "output_type": "display_data",
          "data": {
            "text/plain": [
              "<Figure size 1000x500 with 1 Axes>"
            ],
            "image/png": "[encoded data removed]"
          },
          "metadata": {}
        }
      ]
    },
    {
      "cell_type": "code",
      "source": [
        "# Calculate return, volatility and Sharpe ratio\n",
        "actual_return=np.diff(drawdown_2018_return['Close price']) / drawdown_2018_return['Close price'][:-1]+1\n",
        "total_return=np.prod(actual_return)\n",
        "volatility=np.std(actual_return)*np.sqrt(252)\n",
        "yearly_return=(np.prod(actual_return)**(1/len(actual_return)))**252-1\n",
        "sharpe_ratio=yearly_return/volatility\n",
        "\n",
        "# Print results\n",
        "print(\"Total return:\",total_return)\n",
        "print(\"Annual return:\",yearly_return)\n",
        "print(\"Volatility:\", volatility)\n",
        "print(\"Sharpe ratio:\",sharpe_ratio)"
      ],
      "metadata": {
        "colab": {
          "base_uri": "https://localhost:8080/"
        },
        "id": "cRKGqNNTKuqK",
        "outputId": "78e87689-bcf9-4bb7-e0aa-2a381e8b159c"
      },
      "execution_count": null,
      "outputs": [
        {
          "output_type": "stream",
          "name": "stdout",
          "text": [
            "Total return: 0.8198787654382332\n",
            "Annual return: -0.5425019982020194\n",
            "Volatility: 0.2029403295966093\n",
            "Sharpe ratio: -2.673209407318729\n"
          ]
        }
      ]
    },
    {
      "cell_type": "code",
      "source": [
        "# Plot the daily returns of benchmark\n",
        "fig, ax = plt.subplots(figsize=(10, 5))\n",
        "plt.plot(drawdown_2018_return['Date'][1:],actual_return-1,label=\"Return\")\n",
        "mean_value = (actual_return-1).mean()\n",
        "plt.axhline(mean_value, color='red', linestyle='--', label='Mean of Return')\n",
        "ax.xaxis.set_major_locator(DayLocator(interval=21))\n",
        "plt.legend()"
      ],
      "metadata": {
        "colab": {
          "base_uri": "https://localhost:8080/",
          "height": 462
        },
        "id": "Q5jLDldYPlx5",
        "outputId": "ec61f43a-cc4e-437a-eefe-9cedfed4a6f9"
      },
      "execution_count": null,
      "outputs": [
        {
          "output_type": "execute_result",
          "data": {
            "text/plain": [
              "<matplotlib.legend.Legend at 0x7c5ccd4c7a00>"
            ]
          },
          "metadata": {},
          "execution_count": 150
        },
        {
          "output_type": "display_data",
          "data": {
            "text/plain": [
              "<Figure size 1000x500 with 1 Axes>"
            ],
            "image/png": "[encoded data removed]"
          },
          "metadata": {}
        }
      ]
    },
    {
      "cell_type": "markdown",
      "source": [
        "**Drawdown Risk - 2020**\n",
        "\n",
        "The return and volatility during the 2020 drawdown were tested to evaluate the performance of the trading strategy. The results indicate that this strategy effectively minimized losses and even generated gains during this period. The average daily return was above zero, outperforming the benchmark, which had negative returns during the same period. Additionally, the strategy exhibited significantly reduced volatility, making it potentially more attractive to risk-averse investors."
      ],
      "metadata": {
        "id": "cILGyKCkMEX4"
      }
    },
    {
      "cell_type": "code",
      "source": [
        "# Select period\n",
        "drawdown_2020_df = df[(df['Date'] >= '2020-01-01') & (df['Date'] <= '2020-06-30')]\n",
        "\n",
        "# Find the low and peak piont\n",
        "low_point_index = drawdown_2020_df['Close price'].argmin()\n",
        "peak_point_index = drawdown_2020_df['Close price'].argmax()\n",
        "\n",
        "# Narrow the data based on the low and peak point\n",
        "drawdown_2020_return=drawdown_2020_df.iloc[peak_point_index:low_point_index]"
      ],
      "metadata": {
        "id": "5ijYyZ4lLLW6"
      },
      "execution_count": null,
      "outputs": []
    },
    {
      "cell_type": "code",
      "source": [
        "# Plot the trend of close price\n",
        "fig, ax = plt.subplots(figsize=(10, 5))\n",
        "plt.plot(drawdown_2020_return['Date'],drawdown_2020_return['Close price'],label=\"Close price\")\n",
        "ax.xaxis.set_major_locator(DayLocator(interval=5))\n",
        "plt.legend()"
      ],
      "metadata": {
        "colab": {
          "base_uri": "https://localhost:8080/",
          "height": 462
        },
        "id": "DZB0ma9rMcz8",
        "outputId": "4684da33-3a62-4e43-9418-5c334a7961d7"
      },
      "execution_count": null,
      "outputs": [
        {
          "output_type": "execute_result",
          "data": {
            "text/plain": [
              "<matplotlib.legend.Legend at 0x7c5ccd33edd0>"
            ]
          },
          "metadata": {},
          "execution_count": 152
        },
        {
          "output_type": "display_data",
          "data": {
            "text/plain": [
              "<Figure size 1000x500 with 1 Axes>"
            ],
            "image/png": "[encoded data removed]"
          },
          "metadata": {}
        }
      ]
    },
    {
      "cell_type": "code",
      "source": [
        "# Calculate return, volatility and Sharpe ratio\n",
        "returns=drawdown_2020_return['Return']+1\n",
        "total_return=np.prod(returns)\n",
        "volatility=np.std(returns)*np.sqrt(252)\n",
        "yearly_return=(np.prod(returns)**(1/len(returns)))**252-1\n",
        "sharpe_ratio=yearly_return/volatility\n",
        "\n",
        "# Print results\n",
        "print(\"Total return:\",total_return)\n",
        "print(\"Annual return:\",yearly_return)\n",
        "print(\"Volatility:\", volatility)\n",
        "print(\"Sharpe ratio:\",sharpe_ratio)"
      ],
      "metadata": {
        "colab": {
          "base_uri": "https://localhost:8080/"
        },
        "id": "hsqSl3G1N8it",
        "outputId": "37150014-db35-49c6-e98f-cd2382657ba4"
      },
      "execution_count": null,
      "outputs": [
        {
          "output_type": "stream",
          "name": "stdout",
          "text": [
            "Total return: 1.0507301056896863\n",
            "Annual return: 0.7197627427369093\n",
            "Volatility: 0.2957736975108201\n",
            "Sharpe ratio: 2.433491378017407\n"
          ]
        }
      ]
    },
    {
      "cell_type": "code",
      "source": [
        "# Plot the daily returns of the strategy\n",
        "fig, ax = plt.subplots(figsize=(10, 5))\n",
        "plt.plot(drawdown_2020_return['Date'],returns-1,label=\"Return\")\n",
        "mean_value = (returns-1).mean()\n",
        "plt.axhline(mean_value, color='red', linestyle='--', label='Mean of Return')\n",
        "ax.xaxis.set_major_locator(DayLocator(interval=5))\n",
        "plt.legend()"
      ],
      "metadata": {
        "colab": {
          "base_uri": "https://localhost:8080/",
          "height": 462
        },
        "id": "kvOkwWxyRTfm",
        "outputId": "b1c55870-6749-4d0f-b3df-0051a63904e3"
      },
      "execution_count": null,
      "outputs": [
        {
          "output_type": "execute_result",
          "data": {
            "text/plain": [
              "<matplotlib.legend.Legend at 0x7c5ccd137640>"
            ]
          },
          "metadata": {},
          "execution_count": 154
        },
        {
          "output_type": "display_data",
          "data": {
            "text/plain": [
              "<Figure size 1000x500 with 1 Axes>"
            ],
            "image/png": "[encoded data removed]"
          },
          "metadata": {}
        }
      ]
    },
    {
      "cell_type": "code",
      "source": [
        "# Calculate return, volatility and Sharpe ratio\n",
        "actual_return=np.diff(drawdown_2020_return['Close price']) / drawdown_2020_return['Close price'][:-1]+1\n",
        "total_return=np.prod(actual_return)\n",
        "volatility=np.std(actual_return)*np.sqrt(252)\n",
        "yearly_return=(np.prod(actual_return)**(1/len(actual_return)))**252-1\n",
        "sharpe_ratio=yearly_return/volatility\n",
        "\n",
        "# Print results\n",
        "print(\"Total return:\",total_return)\n",
        "print(\"Annual return:\",yearly_return)\n",
        "print(\"Volatility:\", volatility)\n",
        "print(\"Sharpe ratio:\",sharpe_ratio)"
      ],
      "metadata": {
        "colab": {
          "base_uri": "https://localhost:8080/"
        },
        "id": "VK_ymYr9OXaQ",
        "outputId": "d1a057bb-0b75-4fa4-c0d4-0e4fcff78750"
      },
      "execution_count": null,
      "outputs": [
        {
          "output_type": "stream",
          "name": "stdout",
          "text": [
            "Total return: 0.6762428489928272\n",
            "Annual return: -0.9886785125340942\n",
            "Volatility: 0.768255733778153\n",
            "Sharpe ratio: -1.2869132881988903\n"
          ]
        }
      ]
    },
    {
      "cell_type": "code",
      "source": [
        "# Plot the daily returns of benchmark\n",
        "fig, ax = plt.subplots(figsize=(10, 5))\n",
        "plt.plot(drawdown_2020_return['Date'][1:],actual_return-1,label=\"Return\")\n",
        "mean_value = (actual_return-1).mean()\n",
        "plt.axhline(mean_value, color='red', linestyle='--', label='Mean of Return')\n",
        "ax.xaxis.set_major_locator(DayLocator(interval=5))\n",
        "plt.legend()"
      ],
      "metadata": {
        "colab": {
          "base_uri": "https://localhost:8080/",
          "height": 462
        },
        "id": "GC-vo6gBRNtz",
        "outputId": "c608521e-0fd1-4217-c1e2-478ec621ce89"
      },
      "execution_count": null,
      "outputs": [
        {
          "output_type": "execute_result",
          "data": {
            "text/plain": [
              "<matplotlib.legend.Legend at 0x7c5ccd24feb0>"
            ]
          },
          "metadata": {},
          "execution_count": 156
        },
        {
          "output_type": "display_data",
          "data": {
            "text/plain": [
              "<Figure size 1000x500 with 1 Axes>"
            ],
            "image/png": "[encoded data removed]"
          },
          "metadata": {}
        }
      ]
    },
    {
      "cell_type": "markdown",
      "source": [
        "**Summary**\n",
        "\n",
        "During the backtesting phase, our model demonstrated lower returns and reduced volatility compared to the benchmark strategy. Notably, during drawdown periods, the trading strategy experienced significantly smaller losses and, in some cases, even gains. These characteristics make it appealing to risk-averse investors.\n",
        "\n",
        "However, compared to the benchmark trading strategy, the process of this trading strategy is much more complicated since it requires daily trades, whereas the benchmark strategy only involves buying and selling once, resulting in larger returns with a similar Sharpe ratio. Despite the increased trading frequency of the trading strategy, the benchmark strategy achieves larger returns than this trading strategy with a comparable Sharpe ratio. Consequently, this trading strategy does not provide a significant advantage in this context.\n"
      ],
      "metadata": {
        "id": "h-51yqs14rcz"
      }
    },
    {
      "cell_type": "markdown",
      "source": [
        "# Conclusion\n",
        "In this project, the goal was to predict the closing price of the SPY ETF using machine learning methods, specifically random forest regression and linear regression. The analysis revealed that volume is not a significant feature variable, whereas SPY itself and the risk-free rate are effective predictors. The random forest regressor proved ineffective due to its high MSE and inaccuracies, while the linear regression model performed better and was comparable to the simple prediction model. Thus, the linear regression model was chosen for the trading strategy. During backtesting, the trading strategy demonstrated lower returns but reduced volatility. Additionally, it outperformed during drawdown periods, which may appeal to risk-averse investors. However, the model's complexity and requirement for daily trades, compared to the benchmark strategy's single buy-and-hold approach with higher returns and a similar Sharpe ratio, indicate that the trading strategy does not provide a significant advantage."
      ],
      "metadata": {
        "id": "AXMH3uEU9Jw1"
      }
    },
    {
      "cell_type": "markdown",
      "source": [
        "# Extension"
      ],
      "metadata": {
        "id": "dgTycDZwK0Xt"
      }
    },
    {
      "cell_type": "markdown",
      "source": [
        "**Concept**\n",
        "\n",
        "The best model (linear regression) was applied to a bond ETF, considering that the Bond ETF might be highly correlated with the selected data. Bond ETFs are connected to bond yield rates and the broader equity market. Thus, the extended work involves applying the model to AGG, a widely traded Intermediate Core Bond ETF."
      ],
      "metadata": {
        "id": "RlkB7mgI4dYP"
      }
    },
    {
      "cell_type": "code",
      "source": [
        "# Download the daily price data for SPY\n",
        "spy_data = yf.download('AGG', start='1900-01-01', end='2024-12-31', interval='1d')\n",
        "risk_free_data=yf.download(\"^TNX\", start='1900-01-01', end='2024-12-31', interval='1d')\n",
        "SP500_data=yf.download(\"^GSPC\", start='1900-01-01', end='2024-12-31', interval='1d')\n",
        "\n",
        "# Meaure time as index\n",
        "spy_data.index = pd.to_datetime(spy_data.index)\n",
        "risk_free_data.index = pd.to_datetime(risk_free_data.index)\n",
        "SP500_data.index = pd.to_datetime(SP500_data.index)\n",
        "\n",
        "# Select the 'Close' column from risk_free_data and rename it\n",
        "risk_free_data_close = risk_free_data[['Close']].rename(columns={'Close': 'Risk_Free_Close'})\n",
        "SP500_data_close = SP500_data[['Close']].rename(columns={'Close': 'SP500_Close'})\n",
        "\n",
        "# Merge the dataframes on the index (Date)\n",
        "combined_df = pd.merge(spy_data, risk_free_data_close/100, left_index=True, right_index=True, how='left')\n",
        "combined_df = pd.merge(combined_df , SP500_data_close, left_index=True, right_index=True, how='left')\n",
        "\n",
        "# Fill NaN value in risk free rate data set\n",
        "def fill_na_with_avg(series):\n",
        "    for i in range(1, len(series) - 1):\n",
        "        if pd.isna(series[i]):\n",
        "            series[i] = (series[i - 1] + series[i + 1]) / 2\n",
        "    return series\n",
        "\n",
        "combined_df['Risk_Free_Close'] = fill_na_with_avg(combined_df['Risk_Free_Close'].values)\n",
        "\n",
        "# Display the combined dataframe\n",
        "combined_df"
      ],
      "metadata": {
        "colab": {
          "base_uri": "https://localhost:8080/",
          "height": 507
        },
        "id": "65jZDtWf4kcf",
        "outputId": "72fe0504-1b43-40fc-8ac6-7bb08e1d32ae"
      },
      "execution_count": null,
      "outputs": [
        {
          "output_type": "stream",
          "name": "stderr",
          "text": [
            "[*********************100%%**********************]  1 of 1 completed\n",
            "[*********************100%%**********************]  1 of 1 completed\n",
            "[*********************100%%**********************]  1 of 1 completed\n"
          ]
        },
        {
          "output_type": "execute_result",
          "data": {
            "text/plain": [
              "                  Open        High         Low       Close  Adj Close  \\\n",
              "Date                                                                    \n",
              "2003-09-29  102.290001  102.300003  102.099998  102.169998  53.728966   \n",
              "2003-09-30  102.300003  102.739998  102.290001  102.699997  54.007694   \n",
              "2003-10-01  102.639999  102.750000  102.599998  102.650002  53.981365   \n",
              "2003-10-02  102.199997  102.650002  102.010002  102.489998  53.897240   \n",
              "2003-10-03  102.050003  102.050003  101.699997  101.750000  53.508095   \n",
              "...                ...         ...         ...         ...        ...   \n",
              "2024-05-20   96.709999   96.760002   96.669998   96.680000  96.680000   \n",
              "2024-05-21   96.919998   96.949997   96.830002   96.860001  96.860001   \n",
              "2024-05-22   96.660004   96.889999   96.650002   96.739998  96.739998   \n",
              "2024-05-23   96.830002   96.830002   96.370003   96.470001  96.470001   \n",
              "2024-05-24   96.430000   96.620003   96.389999   96.580002  96.580002   \n",
              "\n",
              "             Volume  Risk_Free_Close  SP500_Close  \n",
              "Date                                               \n",
              "2003-09-29    13600          0.04077  1006.580017  \n",
              "2003-09-30    62600          0.03937   995.969971  \n",
              "2003-10-01    66300          0.03932  1018.219971  \n",
              "2003-10-02    68900          0.04009  1020.239990  \n",
              "2003-10-03    64500          0.04195  1029.849976  \n",
              "...             ...              ...          ...  \n",
              "2024-05-20  5263000          0.04437  5308.129883  \n",
              "2024-05-21  5227900          0.04414  5321.410156  \n",
              "2024-05-22  3823600          0.04434  5307.009766  \n",
              "2024-05-23  5094900          0.04475  5267.839844  \n",
              "2024-05-24  3072100          0.04467  5304.720215  \n",
              "\n",
              "[5200 rows x 8 columns]"
            ],
            "text/html": [
              "\n",
              "  <div id=\"df-053ff042-9163-452b-9d86-327e0661a642\" class=\"colab-df-container\">\n",
              "    <div>\n",
              "<style scoped>\n",
              "    .dataframe tbody tr th:only-of-type {\n",
              "        vertical-align: middle;\n",
              "    }\n",
              "\n",
              "    .dataframe tbody tr th {\n",
              "        vertical-align: top;\n",
              "    }\n",
              "\n",
              "    .dataframe thead th {\n",
              "        text-align: right;\n",
              "    }\n",
              "</style>\n",
              "<table border=\"1\" class=\"dataframe\">\n",
              "  <thead>\n",
              "    <tr style=\"text-align: right;\">\n",
              "      <th></th>\n",
              "      <th>Open</th>\n",
              "      <th>High</th>\n",
              "      <th>Low</th>\n",
              "      <th>Close</th>\n",
              "      <th>Adj Close</th>\n",
              "      <th>Volume</th>\n",
              "      <th>Risk_Free_Close</th>\n",
              "      <th>SP500_Close</th>\n",
              "    </tr>\n",
              "    <tr>\n",
              "      <th>Date</th>\n",
              "      <th></th>\n",
              "      <th></th>\n",
              "      <th></th>\n",
              "      <th></th>\n",
              "      <th></th>\n",
              "      <th></th>\n",
              "      <th></th>\n",
              "      <th></th>\n",
              "    </tr>\n",
              "  </thead>\n",
              "  <tbody>\n",
              "    <tr>\n",
              "      <th>2003-09-29</th>\n",
              "      <td>102.290001</td>\n",
              "      <td>102.300003</td>\n",
              "      <td>102.099998</td>\n",
              "      <td>102.169998</td>\n",
              "      <td>53.728966</td>\n",
              "      <td>13600</td>\n",
              "      <td>0.04077</td>\n",
              "      <td>1006.580017</td>\n",
              "    </tr>\n",
              "    <tr>\n",
              "      <th>2003-09-30</th>\n",
              "      <td>102.300003</td>\n",
              "      <td>102.739998</td>\n",
              "      <td>102.290001</td>\n",
              "      <td>102.699997</td>\n",
              "      <td>54.007694</td>\n",
              "      <td>62600</td>\n",
              "      <td>0.03937</td>\n",
              "      <td>995.969971</td>\n",
              "    </tr>\n",
              "    <tr>\n",
              "      <th>2003-10-01</th>\n",
              "      <td>102.639999</td>\n",
              "      <td>102.750000</td>\n",
              "      <td>102.599998</td>\n",
              "      <td>102.650002</td>\n",
              "      <td>53.981365</td>\n",
              "      <td>66300</td>\n",
              "      <td>0.03932</td>\n",
              "      <td>1018.219971</td>\n",
              "    </tr>\n",
              "    <tr>\n",
              "      <th>2003-10-02</th>\n",
              "      <td>102.199997</td>\n",
              "      <td>102.650002</td>\n",
              "      <td>102.010002</td>\n",
              "      <td>102.489998</td>\n",
              "      <td>53.897240</td>\n",
              "      <td>68900</td>\n",
              "      <td>0.04009</td>\n",
              "      <td>1020.239990</td>\n",
              "    </tr>\n",
              "    <tr>\n",
              "      <th>2003-10-03</th>\n",
              "      <td>102.050003</td>\n",
              "      <td>102.050003</td>\n",
              "      <td>101.699997</td>\n",
              "      <td>101.750000</td>\n",
              "      <td>53.508095</td>\n",
              "      <td>64500</td>\n",
              "      <td>0.04195</td>\n",
              "      <td>1029.849976</td>\n",
              "    </tr>\n",
              "    <tr>\n",
              "      <th>...</th>\n",
              "      <td>...</td>\n",
              "      <td>...</td>\n",
              "      <td>...</td>\n",
              "      <td>...</td>\n",
              "      <td>...</td>\n",
              "      <td>...</td>\n",
              "      <td>...</td>\n",
              "      <td>...</td>\n",
              "    </tr>\n",
              "    <tr>\n",
              "      <th>2024-05-20</th>\n",
              "      <td>96.709999</td>\n",
              "      <td>96.760002</td>\n",
              "      <td>96.669998</td>\n",
              "      <td>96.680000</td>\n",
              "      <td>96.680000</td>\n",
              "      <td>5263000</td>\n",
              "      <td>0.04437</td>\n",
              "      <td>5308.129883</td>\n",
              "    </tr>\n",
              "    <tr>\n",
              "      <th>2024-05-21</th>\n",
              "      <td>96.919998</td>\n",
              "      <td>96.949997</td>\n",
              "      <td>96.830002</td>\n",
              "      <td>96.860001</td>\n",
              "      <td>96.860001</td>\n",
              "      <td>5227900</td>\n",
              "      <td>0.04414</td>\n",
              "      <td>5321.410156</td>\n",
              "    </tr>\n",
              "    <tr>\n",
              "      <th>2024-05-22</th>\n",
              "      <td>96.660004</td>\n",
              "      <td>96.889999</td>\n",
              "      <td>96.650002</td>\n",
              "      <td>96.739998</td>\n",
              "      <td>96.739998</td>\n",
              "      <td>3823600</td>\n",
              "      <td>0.04434</td>\n",
              "      <td>5307.009766</td>\n",
              "    </tr>\n",
              "    <tr>\n",
              "      <th>2024-05-23</th>\n",
              "      <td>96.830002</td>\n",
              "      <td>96.830002</td>\n",
              "      <td>96.370003</td>\n",
              "      <td>96.470001</td>\n",
              "      <td>96.470001</td>\n",
              "      <td>5094900</td>\n",
              "      <td>0.04475</td>\n",
              "      <td>5267.839844</td>\n",
              "    </tr>\n",
              "    <tr>\n",
              "      <th>2024-05-24</th>\n",
              "      <td>96.430000</td>\n",
              "      <td>96.620003</td>\n",
              "      <td>96.389999</td>\n",
              "      <td>96.580002</td>\n",
              "      <td>96.580002</td>\n",
              "      <td>3072100</td>\n",
              "      <td>0.04467</td>\n",
              "      <td>5304.720215</td>\n",
              "    </tr>\n",
              "  </tbody>\n",
              "</table>\n",
              "<p>5200 rows × 8 columns</p>\n",
              "</div>\n",
              "    <div class=\"colab-df-buttons\">\n",
              "\n",
              "  <div class=\"colab-df-container\">\n",
              "    <button class=\"colab-df-convert\" onclick=\"convertToInteractive('df-053ff042-9163-452b-9d86-327e0661a642')\"\n",
              "            title=\"Convert this dataframe to an interactive table.\"\n",
              "            style=\"display:none;\">\n",
              "\n",
              "  <svg xmlns=\"http://www.w3.org/2000/svg\" height=\"24px\" viewBox=\"0 -960 960 960\">\n",
              "    <path d=\"M120-120v-720h720v720H120Zm60-500h600v-160H180v160Zm220 220h160v-160H400v160Zm0 220h160v-160H400v160ZM180-400h160v-160H180v160Zm440 0h160v-160H620v160ZM180-180h160v-160H180v160Zm440 0h160v-160H620v160Z\"/>\n",
              "  </svg>\n",
              "    </button>\n",
              "\n",
              "  <style>\n",
              "    .colab-df-container {\n",
              "      display:flex;\n",
              "      gap: 12px;\n",
              "    }\n",
              "\n",
              "    .colab-df-convert {\n",
              "      background-color: #E8F0FE;\n",
              "      border: none;\n",
              "      border-radius: 50%;\n",
              "      cursor: pointer;\n",
              "      display: none;\n",
              "      fill: #1967D2;\n",
              "      height: 32px;\n",
              "      padding: 0 0 0 0;\n",
              "      width: 32px;\n",
              "    }\n",
              "\n",
              "    .colab-df-convert:hover {\n",
              "      background-color: #E2EBFA;\n",
              "      box-shadow: 0px 1px 2px rgba(60, 64, 67, 0.3), 0px 1px 3px 1px rgba(60, 64, 67, 0.15);\n",
              "      fill: #174EA6;\n",
              "    }\n",
              "\n",
              "    .colab-df-buttons div {\n",
              "      margin-bottom: 4px;\n",
              "    }\n",
              "\n",
              "    [theme=dark] .colab-df-convert {\n",
              "      background-color: #3B4455;\n",
              "      fill: #D2E3FC;\n",
              "    }\n",
              "\n",
              "    [theme=dark] .colab-df-convert:hover {\n",
              "      background-color: #434B5C;\n",
              "      box-shadow: 0px 1px 3px 1px rgba(0, 0, 0, 0.15);\n",
              "      filter: drop-shadow(0px 1px 2px rgba(0, 0, 0, 0.3));\n",
              "      fill: #FFFFFF;\n",
              "    }\n",
              "  </style>\n",
              "\n",
              "    <script>\n",
              "      const buttonEl =\n",
              "        document.querySelector('#df-053ff042-9163-452b-9d86-327e0661a642 button.colab-df-convert');\n",
              "      buttonEl.style.display =\n",
              "        google.colab.kernel.accessAllowed ? 'block' : 'none';\n",
              "\n",
              "      async function convertToInteractive(key) {\n",
              "        const element = document.querySelector('#df-053ff042-9163-452b-9d86-327e0661a642');\n",
              "        const dataTable =\n",
              "          await google.colab.kernel.invokeFunction('convertToInteractive',\n",
              "                                                    [key], {});\n",
              "        if (!dataTable) return;\n",
              "\n",
              "        const docLinkHtml = 'Like what you see? Visit the ' +\n",
              "          '<a target=\"_blank\" href=https://colab.research.google.com/notebooks/data_table.ipynb>data table notebook</a>'\n",
              "          + ' to learn more about interactive tables.';\n",
              "        element.innerHTML = '';\n",
              "        dataTable['output_type'] = 'display_data';\n",
              "        await google.colab.output.renderOutput(dataTable, element);\n",
              "        const docLink = document.createElement('div');\n",
              "        docLink.innerHTML = docLinkHtml;\n",
              "        element.appendChild(docLink);\n",
              "      }\n",
              "    </script>\n",
              "  </div>\n",
              "\n",
              "\n",
              "<div id=\"df-c4b6de2c-b2a0-4965-9c23-26c942a58637\">\n",
              "  <button class=\"colab-df-quickchart\" onclick=\"quickchart('df-c4b6de2c-b2a0-4965-9c23-26c942a58637')\"\n",
              "            title=\"Suggest charts\"\n",
              "            style=\"display:none;\">\n",
              "\n",
              "<svg xmlns=\"http://www.w3.org/2000/svg\" height=\"24px\"viewBox=\"0 0 24 24\"\n",
              "     width=\"24px\">\n",
              "    <g>\n",
              "        <path d=\"M19 3H5c-1.1 0-2 .9-2 2v14c0 1.1.9 2 2 2h14c1.1 0 2-.9 2-2V5c0-1.1-.9-2-2-2zM9 17H7v-7h2v7zm4 0h-2V7h2v10zm4 0h-2v-4h2v4z\"/>\n",
              "    </g>\n",
              "</svg>\n",
              "  </button>\n",
              "\n",
              "<style>\n",
              "  .colab-df-quickchart {\n",
              "      --bg-color: #E8F0FE;\n",
              "      --fill-color: #1967D2;\n",
              "      --hover-bg-color: #E2EBFA;\n",
              "      --hover-fill-color: #174EA6;\n",
              "      --disabled-fill-color: #AAA;\n",
              "      --disabled-bg-color: #DDD;\n",
              "  }\n",
              "\n",
              "  [theme=dark] .colab-df-quickchart {\n",
              "      --bg-color: #3B4455;\n",
              "      --fill-color: #D2E3FC;\n",
              "      --hover-bg-color: #434B5C;\n",
              "      --hover-fill-color: #FFFFFF;\n",
              "      --disabled-bg-color: #3B4455;\n",
              "      --disabled-fill-color: #666;\n",
              "  }\n",
              "\n",
              "  .colab-df-quickchart {\n",
              "    background-color: var(--bg-color);\n",
              "    border: none;\n",
              "    border-radius: 50%;\n",
              "    cursor: pointer;\n",
              "    display: none;\n",
              "    fill: var(--fill-color);\n",
              "    height: 32px;\n",
              "    padding: 0;\n",
              "    width: 32px;\n",
              "  }\n",
              "\n",
              "  .colab-df-quickchart:hover {\n",
              "    background-color: var(--hover-bg-color);\n",
              "    box-shadow: 0 1px 2px rgba(60, 64, 67, 0.3), 0 1px 3px 1px rgba(60, 64, 67, 0.15);\n",
              "    fill: var(--button-hover-fill-color);\n",
              "  }\n",
              "\n",
              "  .colab-df-quickchart-complete:disabled,\n",
              "  .colab-df-quickchart-complete:disabled:hover {\n",
              "    background-color: var(--disabled-bg-color);\n",
              "    fill: var(--disabled-fill-color);\n",
              "    box-shadow: none;\n",
              "  }\n",
              "\n",
              "  .colab-df-spinner {\n",
              "    border: 2px solid var(--fill-color);\n",
              "    border-color: transparent;\n",
              "    border-bottom-color: var(--fill-color);\n",
              "    animation:\n",
              "      spin 1s steps(1) infinite;\n",
              "  }\n",
              "\n",
              "  @keyframes spin {\n",
              "    0% {\n",
              "      border-color: transparent;\n",
              "      border-bottom-color: var(--fill-color);\n",
              "      border-left-color: var(--fill-color);\n",
              "    }\n",
              "    20% {\n",
              "      border-color: transparent;\n",
              "      border-left-color: var(--fill-color);\n",
              "      border-top-color: var(--fill-color);\n",
              "    }\n",
              "    30% {\n",
              "      border-color: transparent;\n",
              "      border-left-color: var(--fill-color);\n",
              "      border-top-color: var(--fill-color);\n",
              "      border-right-color: var(--fill-color);\n",
              "    }\n",
              "    40% {\n",
              "      border-color: transparent;\n",
              "      border-right-color: var(--fill-color);\n",
              "      border-top-color: var(--fill-color);\n",
              "    }\n",
              "    60% {\n",
              "      border-color: transparent;\n",
              "      border-right-color: var(--fill-color);\n",
              "    }\n",
              "    80% {\n",
              "      border-color: transparent;\n",
              "      border-right-color: var(--fill-color);\n",
              "      border-bottom-color: var(--fill-color);\n",
              "    }\n",
              "    90% {\n",
              "      border-color: transparent;\n",
              "      border-bottom-color: var(--fill-color);\n",
              "    }\n",
              "  }\n",
              "</style>\n",
              "\n",
              "  <script>\n",
              "    async function quickchart(key) {\n",
              "      const quickchartButtonEl =\n",
              "        document.querySelector('#' + key + ' button');\n",
              "      quickchartButtonEl.disabled = true;  // To prevent multiple clicks.\n",
              "      quickchartButtonEl.classList.add('colab-df-spinner');\n",
              "      try {\n",
              "        const charts = await google.colab.kernel.invokeFunction(\n",
              "            'suggestCharts', [key], {});\n",
              "      } catch (error) {\n",
              "        console.error('Error during call to suggestCharts:', error);\n",
              "      }\n",
              "      quickchartButtonEl.classList.remove('colab-df-spinner');\n",
              "      quickchartButtonEl.classList.add('colab-df-quickchart-complete');\n",
              "    }\n",
              "    (() => {\n",
              "      let quickchartButtonEl =\n",
              "        document.querySelector('#df-c4b6de2c-b2a0-4965-9c23-26c942a58637 button');\n",
              "      quickchartButtonEl.style.display =\n",
              "        google.colab.kernel.accessAllowed ? 'block' : 'none';\n",
              "    })();\n",
              "  </script>\n",
              "</div>\n",
              "\n",
              "  <div id=\"id_8038630c-18de-411a-b109-21b75d16003f\">\n",
              "    <style>\n",
              "      .colab-df-generate {\n",
              "        background-color: #E8F0FE;\n",
              "        border: none;\n",
              "        border-radius: 50%;\n",
              "        cursor: pointer;\n",
              "        display: none;\n",
              "        fill: #1967D2;\n",
              "        height: 32px;\n",
              "        padding: 0 0 0 0;\n",
              "        width: 32px;\n",
              "      }\n",
              "\n",
              "      .colab-df-generate:hover {\n",
              "        background-color: #E2EBFA;\n",
              "        box-shadow: 0px 1px 2px rgba(60, 64, 67, 0.3), 0px 1px 3px 1px rgba(60, 64, 67, 0.15);\n",
              "        fill: #174EA6;\n",
              "      }\n",
              "\n",
              "      [theme=dark] .colab-df-generate {\n",
              "        background-color: #3B4455;\n",
              "        fill: #D2E3FC;\n",
              "      }\n",
              "\n",
              "      [theme=dark] .colab-df-generate:hover {\n",
              "        background-color: #434B5C;\n",
              "        box-shadow: 0px 1px 3px 1px rgba(0, 0, 0, 0.15);\n",
              "        filter: drop-shadow(0px 1px 2px rgba(0, 0, 0, 0.3));\n",
              "        fill: #FFFFFF;\n",
              "      }\n",
              "    </style>\n",
              "    <button class=\"colab-df-generate\" onclick=\"generateWithVariable('combined_df')\"\n",
              "            title=\"Generate code using this dataframe.\"\n",
              "            style=\"display:none;\">\n",
              "\n",
              "  <svg xmlns=\"http://www.w3.org/2000/svg\" height=\"24px\"viewBox=\"0 0 24 24\"\n",
              "       width=\"24px\">\n",
              "    <path d=\"M7,19H8.4L18.45,9,17,7.55,7,17.6ZM5,21V16.75L18.45,3.32a2,2,0,0,1,2.83,0l1.4,1.43a1.91,1.91,0,0,1,.58,1.4,1.91,1.91,0,0,1-.58,1.4L9.25,21ZM18.45,9,17,7.55Zm-12,3A5.31,5.31,0,0,0,4.9,8.1,5.31,5.31,0,0,0,1,6.5,5.31,5.31,0,0,0,4.9,4.9,5.31,5.31,0,0,0,6.5,1,5.31,5.31,0,0,0,8.1,4.9,5.31,5.31,0,0,0,12,6.5,5.46,5.46,0,0,0,6.5,12Z\"/>\n",
              "  </svg>\n",
              "    </button>\n",
              "    <script>\n",
              "      (() => {\n",
              "      const buttonEl =\n",
              "        document.querySelector('#id_8038630c-18de-411a-b109-21b75d16003f button.colab-df-generate');\n",
              "      buttonEl.style.display =\n",
              "        google.colab.kernel.accessAllowed ? 'block' : 'none';\n",
              "\n",
              "      buttonEl.onclick = () => {\n",
              "        google.colab.notebook.generateWithVariable('combined_df');\n",
              "      }\n",
              "      })();\n",
              "    </script>\n",
              "  </div>\n",
              "\n",
              "    </div>\n",
              "  </div>\n"
            ],
            "application/vnd.google.colaboratory.intrinsic+json": {
              "type": "dataframe",
              "variable_name": "combined_df",
              "summary": "{\n  \"name\": \"combined_df\",\n  \"rows\": 5200,\n  \"fields\": [\n    {\n      \"column\": \"Date\",\n      \"properties\": {\n        \"dtype\": \"date\",\n        \"min\": \"2003-09-29 00:00:00\",\n        \"max\": \"2024-05-24 00:00:00\",\n        \"num_unique_values\": 5200,\n        \"samples\": [\n          \"2008-03-20 00:00:00\",\n          \"2004-01-22 00:00:00\",\n          \"2016-09-09 00:00:00\"\n        ],\n        \"semantic_type\": \"\",\n        \"description\": \"\"\n      }\n    },\n    {\n      \"column\": \"Open\",\n      \"properties\": {\n        \"dtype\": \"number\",\n        \"std\": 5.68944119626216,\n        \"min\": 90.38999938964844,\n        \"max\": 119.66000366210938,\n        \"num_unique_values\": 1910,\n        \"samples\": [\n          108.54000091552734,\n          99.66000366210938,\n          93.68000030517578\n        ],\n        \"semantic_type\": \"\",\n        \"description\": \"\"\n      }\n    },\n    {\n      \"column\": \"High\",\n      \"properties\": {\n        \"dtype\": \"number\",\n        \"std\": 5.658814819853418,\n        \"min\": 91.98999786376953,\n        \"max\": 119.7300033569336,\n        \"num_unique_values\": 1927,\n        \"samples\": [\n          117.16999816894531,\n          115.76000213623047,\n          93.72000122070312\n        ],\n        \"semantic_type\": \"\",\n        \"description\": \"\"\n      }\n    },\n    {\n      \"column\": \"Low\",\n      \"properties\": {\n        \"dtype\": \"number\",\n        \"std\": 5.736705598548291,\n        \"min\": 86.80000305175781,\n        \"max\": 119.52999877929688,\n        \"num_unique_values\": 1959,\n        \"samples\": [\n          106.72000122070312,\n          104.77999877929688,\n          102.87999725341797\n        ],\n        \"semantic_type\": \"\",\n        \"description\": \"\"\n      }\n    },\n    {\n      \"column\": \"Close\",\n      \"properties\": {\n        \"dtype\": \"number\",\n        \"std\": 5.691792928416928,\n        \"min\": 88.4000015258789,\n        \"max\": 119.62999725341797,\n        \"num_unique_values\": 1944,\n        \"samples\": [\n          115.33999633789062,\n          113.63999938964844,\n          113.70999908447266\n        ],\n        \"semantic_type\": \"\",\n        \"description\": \"\"\n      }\n    },\n    {\n      \"column\": \"Adj Close\",\n      \"properties\": {\n        \"dtype\": \"number\",\n        \"std\": 16.299887974086285,\n        \"min\": 53.02426528930664,\n        \"max\": 109.42494201660156,\n        \"num_unique_values\": 4791,\n        \"samples\": [\n          57.430789947509766,\n          61.103759765625,\n          74.95726013183594\n        ],\n        \"semantic_type\": \"\",\n        \"description\": \"\"\n      }\n    },\n    {\n      \"column\": \"Volume\",\n      \"properties\": {\n        \"dtype\": \"number\",\n        \"std\": 3153549,\n        \"min\": 11200,\n        \"max\": 24960500,\n        \"num_unique_values\": 4884,\n        \"samples\": [\n          523800,\n          73000,\n          430700\n        ],\n        \"semantic_type\": \"\",\n        \"description\": \"\"\n      }\n    },\n    {\n      \"column\": \"Risk_Free_Close\",\n      \"properties\": {\n        \"dtype\": \"number\",\n        \"std\": 0.011354265251528505,\n        \"min\": 0.004990000128746033,\n        \"max\": 0.05248000144958496,\n        \"num_unique_values\": 2839,\n        \"samples\": [\n          0.04563000202178955,\n          0.02871000051498413,\n          0.007749999761581421\n        ],\n        \"semantic_type\": \"\",\n        \"description\": \"\"\n      }\n    },\n    {\n      \"column\": \"SP500_Close\",\n      \"properties\": {\n        \"dtype\": \"number\",\n        \"std\": 1148.9422032217392,\n        \"min\": 676.530029296875,\n        \"max\": 5321.41015625,\n        \"num_unique_values\": 5136,\n        \"samples\": [\n          2066.550048828125,\n          2873.340087890625,\n          2143.159912109375\n        ],\n        \"semantic_type\": \"\",\n        \"description\": \"\"\n      }\n    }\n  ]\n}"
            }
          },
          "metadata": {},
          "execution_count": 34
        }
      ]
    },
    {
      "cell_type": "markdown",
      "source": [
        "**Hypothesis Testing**\n",
        "\n",
        "The correlation and p-value of the feature variables were tested. The results suggest that all feature variables should be included in the prediction model."
      ],
      "metadata": {
        "id": "BtD-0fMbKLQD"
      }
    },
    {
      "cell_type": "code",
      "source": [
        "# Fit linear regression model\n",
        "model = sm.OLS(combined_df['Close'], combined_df['Risk_Free_Close']).fit()\n",
        "# View model summary\n",
        "print(model.summary())"
      ],
      "metadata": {
        "colab": {
          "base_uri": "https://localhost:8080/"
        },
        "id": "ork89TLiFG35",
        "outputId": "4e55b1ad-6784-4f87-e82d-2ea513f047bb"
      },
      "execution_count": null,
      "outputs": [
        {
          "output_type": "stream",
          "name": "stdout",
          "text": [
            "                                 OLS Regression Results                                \n",
            "=======================================================================================\n",
            "Dep. Variable:                  Close   R-squared (uncentered):                   0.835\n",
            "Model:                            OLS   Adj. R-squared (uncentered):              0.835\n",
            "Method:                 Least Squares   F-statistic:                          2.633e+04\n",
            "Date:                Sun, 26 May 2024   Prob (F-statistic):                        0.00\n",
            "Time:                        22:47:14   Log-Likelihood:                         -26954.\n",
            "No. Observations:                5200   AIC:                                  5.391e+04\n",
            "Df Residuals:                    5199   BIC:                                  5.392e+04\n",
            "Df Model:                           1                                                  \n",
            "Covariance Type:            nonrobust                                                  \n",
            "===================================================================================\n",
            "                      coef    std err          t      P>|t|      [0.025      0.975]\n",
            "-----------------------------------------------------------------------------------\n",
            "Risk_Free_Close  3074.7496     18.950    162.253      0.000    3037.599    3111.900\n",
            "==============================================================================\n",
            "Omnibus:                     1129.323   Durbin-Watson:                   0.002\n",
            "Prob(Omnibus):                  0.000   Jarque-Bera (JB):              213.359\n",
            "Skew:                          -0.013   Prob(JB):                     4.67e-47\n",
            "Kurtosis:                       2.008   Cond. No.                         1.00\n",
            "==============================================================================\n",
            "\n",
            "Notes:\n",
            "[1] R² is computed without centering (uncentered) since the model does not contain a constant.\n",
            "[2] Standard Errors assume that the covariance matrix of the errors is correctly specified.\n"
          ]
        }
      ]
    },
    {
      "cell_type": "code",
      "source": [
        "# Shift the 'Close' column by one period to use it as a feature\n",
        "combined_df['Close_Shifted'] = combined_df['Close'].shift(1)\n",
        "\n",
        "# Drop rows with NaN values created by the shift\n",
        "combined_df = combined_df.dropna()\n",
        "\n",
        "# Create x and y\n",
        "x = combined_df[['Close_Shifted', 'Risk_Free_Close', 'SP500_Close']].values\n",
        "y = combined_df['Close'].values\n",
        "\n",
        "# Ensure matching lengths\n",
        "print(f\"x shape: {x.shape}\")\n",
        "print(f\"y shape: {y.shape}\")\n",
        "\n",
        "# Fit linear regression model\n",
        "model = sm.OLS(y, x).fit()\n",
        "\n",
        "# View model summary\n",
        "print(model.summary())"
      ],
      "metadata": {
        "colab": {
          "base_uri": "https://localhost:8080/"
        },
        "id": "KZS18l_iFk4I",
        "outputId": "71f70699-49c2-4675-8736-19f2475aeea1"
      },
      "execution_count": null,
      "outputs": [
        {
          "output_type": "stream",
          "name": "stdout",
          "text": [
            "x shape: (5196, 3)\n",
            "y shape: (5196,)\n",
            "                                 OLS Regression Results                                \n",
            "=======================================================================================\n",
            "Dep. Variable:                      y   R-squared (uncentered):                   1.000\n",
            "Model:                            OLS   Adj. R-squared (uncentered):              1.000\n",
            "Method:                 Least Squares   F-statistic:                          1.650e+08\n",
            "Date:                Sun, 26 May 2024   Prob (F-statistic):                        0.00\n",
            "Time:                        22:49:22   Log-Likelihood:                         -1830.0\n",
            "No. Observations:                5196   AIC:                                      3666.\n",
            "Df Residuals:                    5193   BIC:                                      3686.\n",
            "Df Model:                           3                                                  \n",
            "Covariance Type:            nonrobust                                                  \n",
            "==============================================================================\n",
            "                 coef    std err          t      P>|t|      [0.025      0.975]\n",
            "------------------------------------------------------------------------------\n",
            "x1             1.0003      0.000   6499.822      0.000       1.000       1.001\n",
            "x2            -0.4647      0.379     -1.227      0.220      -1.207       0.278\n",
            "x3         -7.359e-06   4.28e-06     -1.720      0.085   -1.57e-05    1.03e-06\n",
            "==============================================================================\n",
            "Omnibus:                     3073.141   Durbin-Watson:                   2.118\n",
            "Prob(Omnibus):                  0.000   Jarque-Bera (JB):           372255.198\n",
            "Skew:                          -1.871   Prob(JB):                         0.00\n",
            "Kurtosis:                      44.297   Cond. No.                     1.96e+05\n",
            "==============================================================================\n",
            "\n",
            "Notes:\n",
            "[1] R² is computed without centering (uncentered) since the model does not contain a constant.\n",
            "[2] Standard Errors assume that the covariance matrix of the errors is correctly specified.\n",
            "[3] The condition number is large, 1.96e+05. This might indicate that there are\n",
            "strong multicollinearity or other numerical problems.\n"
          ]
        }
      ]
    },
    {
      "cell_type": "markdown",
      "source": [
        "**Optimization of Parameters**\n",
        "\n",
        "The results show that a 1-day observation period has the best MSE, as it has the smallest negative difference, indicating that the model performs worse than the simple prediction but is at least close in the validation set."
      ],
      "metadata": {
        "id": "T1ECCsJ0K1E1"
      }
    },
    {
      "cell_type": "code",
      "source": [
        "# Find the best number of feature\n",
        "data=combined_df\n",
        "improvement_list=[]\n",
        "for j in range(1,22):\n",
        "  number_of_feature=j\n",
        "  n=len(data['Close'])\n",
        "  x=[]\n",
        "  y=[]\n",
        "  for i in range(n-number_of_feature):\n",
        "    x.append(list(data['Close'].iloc[i:i+number_of_feature])+\n",
        "             list(data['Risk_Free_Close'].iloc[i:i+number_of_feature])+\n",
        "             list(data['SP500_Close'].iloc[i:i+number_of_feature]))\n",
        "    y.append(data['Close'].iloc[i+number_of_feature])\n",
        "  X=np.array(x)\n",
        "  y=np.array(y)\n",
        "\n",
        "  # Split data into different sets\n",
        "  X_train, X_valid, X_test=X[:int(6*n/12)], X[int(6*n/12):int(9*n/12)], X[int(9*n/12):]\n",
        "  y_train, y_valid, y_test=y[:int(6*n/12)], y[int(6*n/12):int(9*n/12)], y[int(9*n/12):]\n",
        "\n",
        "  # Run linear Regression\n",
        "  reg = LinearRegression().fit(X_train, y_train)\n",
        "  pred=reg.predict(X_valid)\n",
        "\n",
        "  #Calculate difference\n",
        "  mse_improvement=mean_squared_error(y[int(6*n/12)-1:int(9*n/12)-1], y_valid)-mean_squared_error(pred, y_valid)\n",
        "  improvement_list.append([j,mse_improvement])\n",
        "\n",
        "# Show the difference of MSE in different choice of period\n",
        "improvement_list"
      ],
      "metadata": {
        "colab": {
          "base_uri": "https://localhost:8080/"
        },
        "id": "h-VPYg2pGJ0q",
        "outputId": "ad8abe2c-9371-4b2a-bda5-4dba177113cc"
      },
      "execution_count": null,
      "outputs": [
        {
          "output_type": "execute_result",
          "data": {
            "text/plain": [
              "[[1, -0.0006496673476637793],\n",
              " [2, -0.008193268167364945],\n",
              " [3, -0.010640311996346213],\n",
              " [4, -0.011362403334546495],\n",
              " [5, -0.011434869154637678],\n",
              " [6, -0.011335491463138156],\n",
              " [7, -0.013044221949045712],\n",
              " [8, -0.013458780653933931],\n",
              " [9, -0.013816277837156977],\n",
              " [10, -0.014635962930874338],\n",
              " [11, -0.014520917920884717],\n",
              " [12, -0.01436609423687344],\n",
              " [13, -0.013981129493564948],\n",
              " [14, -0.014424398413392374],\n",
              " [15, -0.01506467833949389],\n",
              " [16, -0.015068914230096236],\n",
              " [17, -0.015114297022244247],\n",
              " [18, -0.015464788533669921],\n",
              " [19, -0.015545721000195474],\n",
              " [20, -0.015808114724759292],\n",
              " [21, -0.016041016397950622]]"
            ]
          },
          "metadata": {},
          "execution_count": 43
        }
      ]
    },
    {
      "cell_type": "markdown",
      "source": [
        "**Training model**\n",
        "\n",
        "The prediction is close to the actual future values, suggesting that if the prediction is accurate, the model could potentially generate profits even if the trend is downward."
      ],
      "metadata": {
        "id": "hSXXlPVeLagL"
      }
    },
    {
      "cell_type": "code",
      "source": [
        "#Choose 1 as the best number of feature\n",
        "data=combined_df\n",
        "number_of_feature=1\n",
        "n=len(data['Close'])\n",
        "x=[]\n",
        "y=[]\n",
        "for i in range(n-number_of_feature):\n",
        "  x.append(list(data['Close'].iloc[i:i+number_of_feature])+\n",
        "             list(data['Risk_Free_Close'].iloc[i:i+number_of_feature]))\n",
        "  y.append(data['Close'].iloc[i+number_of_feature])\n",
        "X=np.array(x)\n",
        "y=np.array(y)\n",
        "\n",
        "# Split data into different sets\n",
        "X_train, X_valid, X_test=X[:int(6*n/12)], X[int(6*n/12):int(9*n/12)], X[int(9*n/12):]\n",
        "y_train, y_valid, y_test=y[:int(6*n/12)], y[int(6*n/12):int(9*n/12)], y[int(9*n/12):]\n",
        "\n",
        "# Run linear Regression\n",
        "reg = LinearRegression().fit(X_train, y_train)\n",
        "pred=reg.predict(X_test)\n",
        "\n",
        "# Plot\n",
        "plt.figure(figsize=(10, 5))\n",
        "plt.plot(y_test, label=\"Actual Close Price\")\n",
        "plt.plot(pred, \"r--\", label=\"Predicted Close Price\")\n",
        "plt.legend()"
      ],
      "metadata": {
        "colab": {
          "base_uri": "https://localhost:8080/",
          "height": 462
        },
        "id": "S_MOZiIUGhtQ",
        "outputId": "13792e6a-ce9e-4761-8c18-2cc940e4efdd"
      },
      "execution_count": null,
      "outputs": [
        {
          "output_type": "execute_result",
          "data": {
            "text/plain": [
              "<matplotlib.legend.Legend at 0x7e57c44eff70>"
            ]
          },
          "metadata": {},
          "execution_count": 44
        },
        {
          "output_type": "display_data",
          "data": {
            "text/plain": [
              "<Figure size 1000x500 with 1 Axes>"
            ],
            "image/png": "[encoded data removed]"
          },
          "metadata": {}
        }
      ]
    },
    {
      "cell_type": "markdown",
      "source": [
        "**Backtesting**\n",
        "\n",
        "Backtesting is conducted to evaluate if the trading strategy performs better even when the trend is downward."
      ],
      "metadata": {
        "id": "uLaM1Eo_MJtF"
      }
    },
    {
      "cell_type": "code",
      "source": [
        "# Update data\n",
        "test_length=len(y_test)\n",
        "open_prices=np.array(list(data['Open'].iloc[-test_length:]))\n",
        "high_prices=np.array(list(data['High'].iloc[-test_length:]))\n",
        "low_prices=np.array(list(data['Low'].iloc[-test_length:]))\n",
        "action_series=[]\n",
        "returns=[]\n",
        "\n",
        "# Run through everyday trading data\n",
        "for i in range(len(open_prices)):\n",
        "  close_price=y_test[i]\n",
        "  predict_price=pred[i]\n",
        "  open_price=open_prices[i]\n",
        "  high_price=high_prices[i]\n",
        "  low_price=low_prices[i]\n",
        "\n",
        "  # Condition of taking long position\n",
        "  if predict_price>open_price:\n",
        "    final_price=close_price\n",
        "    # Set constraints of reaching the predicted price\n",
        "    if predict_price<high_price:\n",
        "      final_price=predict_price\n",
        "    # Record dailly data: Open price, close price, Deal price, Predicted action, Return\n",
        "    action_series.append([open_price,close_price,final_price,\"Long\",final_price/open_price-1])\n",
        "    # Record returns individually (easier to calculate)\n",
        "    returns.append(final_price/open_price)\n",
        "\n",
        "  # Condition of taking long position\n",
        "  elif predict_price<open_price:\n",
        "    final_price=close_price\n",
        "    # Set constraints of reaching the predicted price\n",
        "    if predict_price>low_price:\n",
        "      final_price=predict_price\n",
        "    # Record dailly data: Open price, close price, Deal price, Predicted action, Return\n",
        "    action_series.append([open_price,close_price,final_price,\"Short\",open_price/final_price-1])\n",
        "    # Record returns individually (easier to calculate)\n",
        "    returns.append(open_price/final_price)\n",
        "\n",
        "  # Condition of taking hold position when open price is equal to predict price\n",
        "  else:\n",
        "    action_series.append([open_price,close_price,final_price,\"Hold\",0])\n",
        "    returns.append(1)"
      ],
      "metadata": {
        "id": "ySwY-qH8G0P0"
      },
      "execution_count": null,
      "outputs": []
    },
    {
      "cell_type": "code",
      "source": [
        "# Display the trading strategy dataframe\n",
        "df=pd.DataFrame(action_series)\n",
        "df.columns=['Open price', 'Close price', 'Final price', 'Action', 'Return']\n",
        "df.insert(0, \"Date\", data.index[-test_length:], True)\n",
        "df"
      ],
      "metadata": {
        "colab": {
          "base_uri": "https://localhost:8080/",
          "height": 424
        },
        "id": "hYmdLAtMHDA4",
        "outputId": "2874310e-23e9-4484-ac84-a7fc7c75e36d"
      },
      "execution_count": null,
      "outputs": [
        {
          "output_type": "execute_result",
          "data": {
            "text/plain": [
              "           Date  Open price  Close price  Final price Action    Return\n",
              "0    2019-04-01  108.620003   108.309998   108.309998   Long -0.002854\n",
              "1    2019-04-02  108.389999   108.430000   108.430000  Short -0.000369\n",
              "2    2019-04-03  108.239998   108.230003   108.230003   Long -0.000092\n",
              "3    2019-04-04  108.250000   108.309998   108.219298  Short  0.000284\n",
              "4    2019-04-05  108.269997   108.389999   108.298526   Long  0.000264\n",
              "...         ...         ...          ...          ...    ...       ...\n",
              "1293 2024-05-20   96.709999    96.680000    96.680000   Long -0.000310\n",
              "1294 2024-05-21   96.919998    96.860001    96.860001  Short  0.000619\n",
              "1295 2024-05-22   96.660004    96.739998    96.739998   Long  0.000828\n",
              "1296 2024-05-23   96.830002    96.470001    96.791981  Short  0.000393\n",
              "1297 2024-05-24   96.430000    96.580002    96.523617   Long  0.000971\n",
              "\n",
              "[1298 rows x 6 columns]"
            ],
            "text/html": [
              "\n",
              "  <div id=\"df-5f4f99ac-e2dd-4558-8986-fa90ea38dda4\" class=\"colab-df-container\">\n",
              "    <div>\n",
              "<style scoped>\n",
              "    .dataframe tbody tr th:only-of-type {\n",
              "        vertical-align: middle;\n",
              "    }\n",
              "\n",
              "    .dataframe tbody tr th {\n",
              "        vertical-align: top;\n",
              "    }\n",
              "\n",
              "    .dataframe thead th {\n",
              "        text-align: right;\n",
              "    }\n",
              "</style>\n",
              "<table border=\"1\" class=\"dataframe\">\n",
              "  <thead>\n",
              "    <tr style=\"text-align: right;\">\n",
              "      <th></th>\n",
              "      <th>Date</th>\n",
              "      <th>Open price</th>\n",
              "      <th>Close price</th>\n",
              "      <th>Final price</th>\n",
              "      <th>Action</th>\n",
              "      <th>Return</th>\n",
              "    </tr>\n",
              "  </thead>\n",
              "  <tbody>\n",
              "    <tr>\n",
              "      <th>0</th>\n",
              "      <td>2019-04-01</td>\n",
              "      <td>108.620003</td>\n",
              "      <td>108.309998</td>\n",
              "      <td>108.309998</td>\n",
              "      <td>Long</td>\n",
              "      <td>-0.002854</td>\n",
              "    </tr>\n",
              "    <tr>\n",
              "      <th>1</th>\n",
              "      <td>2019-04-02</td>\n",
              "      <td>108.389999</td>\n",
              "      <td>108.430000</td>\n",
              "      <td>108.430000</td>\n",
              "      <td>Short</td>\n",
              "      <td>-0.000369</td>\n",
              "    </tr>\n",
              "    <tr>\n",
              "      <th>2</th>\n",
              "      <td>2019-04-03</td>\n",
              "      <td>108.239998</td>\n",
              "      <td>108.230003</td>\n",
              "      <td>108.230003</td>\n",
              "      <td>Long</td>\n",
              "      <td>-0.000092</td>\n",
              "    </tr>\n",
              "    <tr>\n",
              "      <th>3</th>\n",
              "      <td>2019-04-04</td>\n",
              "      <td>108.250000</td>\n",
              "      <td>108.309998</td>\n",
              "      <td>108.219298</td>\n",
              "      <td>Short</td>\n",
              "      <td>0.000284</td>\n",
              "    </tr>\n",
              "    <tr>\n",
              "      <th>4</th>\n",
              "      <td>2019-04-05</td>\n",
              "      <td>108.269997</td>\n",
              "      <td>108.389999</td>\n",
              "      <td>108.298526</td>\n",
              "      <td>Long</td>\n",
              "      <td>0.000264</td>\n",
              "    </tr>\n",
              "    <tr>\n",
              "      <th>...</th>\n",
              "      <td>...</td>\n",
              "      <td>...</td>\n",
              "      <td>...</td>\n",
              "      <td>...</td>\n",
              "      <td>...</td>\n",
              "      <td>...</td>\n",
              "    </tr>\n",
              "    <tr>\n",
              "      <th>1293</th>\n",
              "      <td>2024-05-20</td>\n",
              "      <td>96.709999</td>\n",
              "      <td>96.680000</td>\n",
              "      <td>96.680000</td>\n",
              "      <td>Long</td>\n",
              "      <td>-0.000310</td>\n",
              "    </tr>\n",
              "    <tr>\n",
              "      <th>1294</th>\n",
              "      <td>2024-05-21</td>\n",
              "      <td>96.919998</td>\n",
              "      <td>96.860001</td>\n",
              "      <td>96.860001</td>\n",
              "      <td>Short</td>\n",
              "      <td>0.000619</td>\n",
              "    </tr>\n",
              "    <tr>\n",
              "      <th>1295</th>\n",
              "      <td>2024-05-22</td>\n",
              "      <td>96.660004</td>\n",
              "      <td>96.739998</td>\n",
              "      <td>96.739998</td>\n",
              "      <td>Long</td>\n",
              "      <td>0.000828</td>\n",
              "    </tr>\n",
              "    <tr>\n",
              "      <th>1296</th>\n",
              "      <td>2024-05-23</td>\n",
              "      <td>96.830002</td>\n",
              "      <td>96.470001</td>\n",
              "      <td>96.791981</td>\n",
              "      <td>Short</td>\n",
              "      <td>0.000393</td>\n",
              "    </tr>\n",
              "    <tr>\n",
              "      <th>1297</th>\n",
              "      <td>2024-05-24</td>\n",
              "      <td>96.430000</td>\n",
              "      <td>96.580002</td>\n",
              "      <td>96.523617</td>\n",
              "      <td>Long</td>\n",
              "      <td>0.000971</td>\n",
              "    </tr>\n",
              "  </tbody>\n",
              "</table>\n",
              "<p>1298 rows × 6 columns</p>\n",
              "</div>\n",
              "    <div class=\"colab-df-buttons\">\n",
              "\n",
              "  <div class=\"colab-df-container\">\n",
              "    <button class=\"colab-df-convert\" onclick=\"convertToInteractive('df-5f4f99ac-e2dd-4558-8986-fa90ea38dda4')\"\n",
              "            title=\"Convert this dataframe to an interactive table.\"\n",
              "            style=\"display:none;\">\n",
              "\n",
              "  <svg xmlns=\"http://www.w3.org/2000/svg\" height=\"24px\" viewBox=\"0 -960 960 960\">\n",
              "    <path d=\"M120-120v-720h720v720H120Zm60-500h600v-160H180v160Zm220 220h160v-160H400v160Zm0 220h160v-160H400v160ZM180-400h160v-160H180v160Zm440 0h160v-160H620v160ZM180-180h160v-160H180v160Zm440 0h160v-160H620v160Z\"/>\n",
              "  </svg>\n",
              "    </button>\n",
              "\n",
              "  <style>\n",
              "    .colab-df-container {\n",
              "      display:flex;\n",
              "      gap: 12px;\n",
              "    }\n",
              "\n",
              "    .colab-df-convert {\n",
              "      background-color: #E8F0FE;\n",
              "      border: none;\n",
              "      border-radius: 50%;\n",
              "      cursor: pointer;\n",
              "      display: none;\n",
              "      fill: #1967D2;\n",
              "      height: 32px;\n",
              "      padding: 0 0 0 0;\n",
              "      width: 32px;\n",
              "    }\n",
              "\n",
              "    .colab-df-convert:hover {\n",
              "      background-color: #E2EBFA;\n",
              "      box-shadow: 0px 1px 2px rgba(60, 64, 67, 0.3), 0px 1px 3px 1px rgba(60, 64, 67, 0.15);\n",
              "      fill: #174EA6;\n",
              "    }\n",
              "\n",
              "    .colab-df-buttons div {\n",
              "      margin-bottom: 4px;\n",
              "    }\n",
              "\n",
              "    [theme=dark] .colab-df-convert {\n",
              "      background-color: #3B4455;\n",
              "      fill: #D2E3FC;\n",
              "    }\n",
              "\n",
              "    [theme=dark] .colab-df-convert:hover {\n",
              "      background-color: #434B5C;\n",
              "      box-shadow: 0px 1px 3px 1px rgba(0, 0, 0, 0.15);\n",
              "      filter: drop-shadow(0px 1px 2px rgba(0, 0, 0, 0.3));\n",
              "      fill: #FFFFFF;\n",
              "    }\n",
              "  </style>\n",
              "\n",
              "    <script>\n",
              "      const buttonEl =\n",
              "        document.querySelector('#df-5f4f99ac-e2dd-4558-8986-fa90ea38dda4 button.colab-df-convert');\n",
              "      buttonEl.style.display =\n",
              "        google.colab.kernel.accessAllowed ? 'block' : 'none';\n",
              "\n",
              "      async function convertToInteractive(key) {\n",
              "        const element = document.querySelector('#df-5f4f99ac-e2dd-4558-8986-fa90ea38dda4');\n",
              "        const dataTable =\n",
              "          await google.colab.kernel.invokeFunction('convertToInteractive',\n",
              "                                                    [key], {});\n",
              "        if (!dataTable) return;\n",
              "\n",
              "        const docLinkHtml = 'Like what you see? Visit the ' +\n",
              "          '<a target=\"_blank\" href=https://colab.research.google.com/notebooks/data_table.ipynb>data table notebook</a>'\n",
              "          + ' to learn more about interactive tables.';\n",
              "        element.innerHTML = '';\n",
              "        dataTable['output_type'] = 'display_data';\n",
              "        await google.colab.output.renderOutput(dataTable, element);\n",
              "        const docLink = document.createElement('div');\n",
              "        docLink.innerHTML = docLinkHtml;\n",
              "        element.appendChild(docLink);\n",
              "      }\n",
              "    </script>\n",
              "  </div>\n",
              "\n",
              "\n",
              "<div id=\"df-a5ba30bf-afee-40fc-9546-bd2f77569b61\">\n",
              "  <button class=\"colab-df-quickchart\" onclick=\"quickchart('df-a5ba30bf-afee-40fc-9546-bd2f77569b61')\"\n",
              "            title=\"Suggest charts\"\n",
              "            style=\"display:none;\">\n",
              "\n",
              "<svg xmlns=\"http://www.w3.org/2000/svg\" height=\"24px\"viewBox=\"0 0 24 24\"\n",
              "     width=\"24px\">\n",
              "    <g>\n",
              "        <path d=\"M19 3H5c-1.1 0-2 .9-2 2v14c0 1.1.9 2 2 2h14c1.1 0 2-.9 2-2V5c0-1.1-.9-2-2-2zM9 17H7v-7h2v7zm4 0h-2V7h2v10zm4 0h-2v-4h2v4z\"/>\n",
              "    </g>\n",
              "</svg>\n",
              "  </button>\n",
              "\n",
              "<style>\n",
              "  .colab-df-quickchart {\n",
              "      --bg-color: #E8F0FE;\n",
              "      --fill-color: #1967D2;\n",
              "      --hover-bg-color: #E2EBFA;\n",
              "      --hover-fill-color: #174EA6;\n",
              "      --disabled-fill-color: #AAA;\n",
              "      --disabled-bg-color: #DDD;\n",
              "  }\n",
              "\n",
              "  [theme=dark] .colab-df-quickchart {\n",
              "      --bg-color: #3B4455;\n",
              "      --fill-color: #D2E3FC;\n",
              "      --hover-bg-color: #434B5C;\n",
              "      --hover-fill-color: #FFFFFF;\n",
              "      --disabled-bg-color: #3B4455;\n",
              "      --disabled-fill-color: #666;\n",
              "  }\n",
              "\n",
              "  .colab-df-quickchart {\n",
              "    background-color: var(--bg-color);\n",
              "    border: none;\n",
              "    border-radius: 50%;\n",
              "    cursor: pointer;\n",
              "    display: none;\n",
              "    fill: var(--fill-color);\n",
              "    height: 32px;\n",
              "    padding: 0;\n",
              "    width: 32px;\n",
              "  }\n",
              "\n",
              "  .colab-df-quickchart:hover {\n",
              "    background-color: var(--hover-bg-color);\n",
              "    box-shadow: 0 1px 2px rgba(60, 64, 67, 0.3), 0 1px 3px 1px rgba(60, 64, 67, 0.15);\n",
              "    fill: var(--button-hover-fill-color);\n",
              "  }\n",
              "\n",
              "  .colab-df-quickchart-complete:disabled,\n",
              "  .colab-df-quickchart-complete:disabled:hover {\n",
              "    background-color: var(--disabled-bg-color);\n",
              "    fill: var(--disabled-fill-color);\n",
              "    box-shadow: none;\n",
              "  }\n",
              "\n",
              "  .colab-df-spinner {\n",
              "    border: 2px solid var(--fill-color);\n",
              "    border-color: transparent;\n",
              "    border-bottom-color: var(--fill-color);\n",
              "    animation:\n",
              "      spin 1s steps(1) infinite;\n",
              "  }\n",
              "\n",
              "  @keyframes spin {\n",
              "    0% {\n",
              "      border-color: transparent;\n",
              "      border-bottom-color: var(--fill-color);\n",
              "      border-left-color: var(--fill-color);\n",
              "    }\n",
              "    20% {\n",
              "      border-color: transparent;\n",
              "      border-left-color: var(--fill-color);\n",
              "      border-top-color: var(--fill-color);\n",
              "    }\n",
              "    30% {\n",
              "      border-color: transparent;\n",
              "      border-left-color: var(--fill-color);\n",
              "      border-top-color: var(--fill-color);\n",
              "      border-right-color: var(--fill-color);\n",
              "    }\n",
              "    40% {\n",
              "      border-color: transparent;\n",
              "      border-right-color: var(--fill-color);\n",
              "      border-top-color: var(--fill-color);\n",
              "    }\n",
              "    60% {\n",
              "      border-color: transparent;\n",
              "      border-right-color: var(--fill-color);\n",
              "    }\n",
              "    80% {\n",
              "      border-color: transparent;\n",
              "      border-right-color: var(--fill-color);\n",
              "      border-bottom-color: var(--fill-color);\n",
              "    }\n",
              "    90% {\n",
              "      border-color: transparent;\n",
              "      border-bottom-color: var(--fill-color);\n",
              "    }\n",
              "  }\n",
              "</style>\n",
              "\n",
              "  <script>\n",
              "    async function quickchart(key) {\n",
              "      const quickchartButtonEl =\n",
              "        document.querySelector('#' + key + ' button');\n",
              "      quickchartButtonEl.disabled = true;  // To prevent multiple clicks.\n",
              "      quickchartButtonEl.classList.add('colab-df-spinner');\n",
              "      try {\n",
              "        const charts = await google.colab.kernel.invokeFunction(\n",
              "            'suggestCharts', [key], {});\n",
              "      } catch (error) {\n",
              "        console.error('Error during call to suggestCharts:', error);\n",
              "      }\n",
              "      quickchartButtonEl.classList.remove('colab-df-spinner');\n",
              "      quickchartButtonEl.classList.add('colab-df-quickchart-complete');\n",
              "    }\n",
              "    (() => {\n",
              "      let quickchartButtonEl =\n",
              "        document.querySelector('#df-a5ba30bf-afee-40fc-9546-bd2f77569b61 button');\n",
              "      quickchartButtonEl.style.display =\n",
              "        google.colab.kernel.accessAllowed ? 'block' : 'none';\n",
              "    })();\n",
              "  </script>\n",
              "</div>\n",
              "\n",
              "  <div id=\"id_b223b78c-c635-447a-992d-8644f5d8c57e\">\n",
              "    <style>\n",
              "      .colab-df-generate {\n",
              "        background-color: #E8F0FE;\n",
              "        border: none;\n",
              "        border-radius: 50%;\n",
              "        cursor: pointer;\n",
              "        display: none;\n",
              "        fill: #1967D2;\n",
              "        height: 32px;\n",
              "        padding: 0 0 0 0;\n",
              "        width: 32px;\n",
              "      }\n",
              "\n",
              "      .colab-df-generate:hover {\n",
              "        background-color: #E2EBFA;\n",
              "        box-shadow: 0px 1px 2px rgba(60, 64, 67, 0.3), 0px 1px 3px 1px rgba(60, 64, 67, 0.15);\n",
              "        fill: #174EA6;\n",
              "      }\n",
              "\n",
              "      [theme=dark] .colab-df-generate {\n",
              "        background-color: #3B4455;\n",
              "        fill: #D2E3FC;\n",
              "      }\n",
              "\n",
              "      [theme=dark] .colab-df-generate:hover {\n",
              "        background-color: #434B5C;\n",
              "        box-shadow: 0px 1px 3px 1px rgba(0, 0, 0, 0.15);\n",
              "        filter: drop-shadow(0px 1px 2px rgba(0, 0, 0, 0.3));\n",
              "        fill: #FFFFFF;\n",
              "      }\n",
              "    </style>\n",
              "    <button class=\"colab-df-generate\" onclick=\"generateWithVariable('df')\"\n",
              "            title=\"Generate code using this dataframe.\"\n",
              "            style=\"display:none;\">\n",
              "\n",
              "  <svg xmlns=\"http://www.w3.org/2000/svg\" height=\"24px\"viewBox=\"0 0 24 24\"\n",
              "       width=\"24px\">\n",
              "    <path d=\"M7,19H8.4L18.45,9,17,7.55,7,17.6ZM5,21V16.75L18.45,3.32a2,2,0,0,1,2.83,0l1.4,1.43a1.91,1.91,0,0,1,.58,1.4,1.91,1.91,0,0,1-.58,1.4L9.25,21ZM18.45,9,17,7.55Zm-12,3A5.31,5.31,0,0,0,4.9,8.1,5.31,5.31,0,0,0,1,6.5,5.31,5.31,0,0,0,4.9,4.9,5.31,5.31,0,0,0,6.5,1,5.31,5.31,0,0,0,8.1,4.9,5.31,5.31,0,0,0,12,6.5,5.46,5.46,0,0,0,6.5,12Z\"/>\n",
              "  </svg>\n",
              "    </button>\n",
              "    <script>\n",
              "      (() => {\n",
              "      const buttonEl =\n",
              "        document.querySelector('#id_b223b78c-c635-447a-992d-8644f5d8c57e button.colab-df-generate');\n",
              "      buttonEl.style.display =\n",
              "        google.colab.kernel.accessAllowed ? 'block' : 'none';\n",
              "\n",
              "      buttonEl.onclick = () => {\n",
              "        google.colab.notebook.generateWithVariable('df');\n",
              "      }\n",
              "      })();\n",
              "    </script>\n",
              "  </div>\n",
              "\n",
              "    </div>\n",
              "  </div>\n"
            ],
            "application/vnd.google.colaboratory.intrinsic+json": {
              "type": "dataframe",
              "variable_name": "df",
              "summary": "{\n  \"name\": \"df\",\n  \"rows\": 1298,\n  \"fields\": [\n    {\n      \"column\": \"Date\",\n      \"properties\": {\n        \"dtype\": \"date\",\n        \"min\": \"2019-04-01 00:00:00\",\n        \"max\": \"2024-05-24 00:00:00\",\n        \"num_unique_values\": 1298,\n        \"samples\": [\n          \"2023-03-13 00:00:00\",\n          \"2021-07-16 00:00:00\",\n          \"2023-11-10 00:00:00\"\n        ],\n        \"semantic_type\": \"\",\n        \"description\": \"\"\n      }\n    },\n    {\n      \"column\": \"Open price\",\n      \"properties\": {\n        \"dtype\": \"number\",\n        \"std\": 8.465435889146931,\n        \"min\": 91.69999694824219,\n        \"max\": 119.66000366210938,\n        \"num_unique_values\": 919,\n        \"samples\": [\n          112.47000122070312,\n          112.4800033569336,\n          118.02999877929688\n        ],\n        \"semantic_type\": \"\",\n        \"description\": \"\"\n      }\n    },\n    {\n      \"column\": \"Close price\",\n      \"properties\": {\n        \"dtype\": \"number\",\n        \"std\": 8.461765075406149,\n        \"min\": 91.66999816894531,\n        \"max\": 119.62999725341797,\n        \"num_unique_values\": 937,\n        \"samples\": [\n          117.12999725341797,\n          111.25,\n          116.76000213623047\n        ],\n        \"semantic_type\": \"\",\n        \"description\": \"\"\n      }\n    },\n    {\n      \"column\": \"Final price\",\n      \"properties\": {\n        \"dtype\": \"number\",\n        \"std\": 8.466813741054102,\n        \"min\": 92.0,\n        \"max\": 119.62999725341797,\n        \"num_unique_values\": 1165,\n        \"samples\": [\n          97.40182632273196,\n          112.5999984741211,\n          116.09425160270644\n        ],\n        \"semantic_type\": \"\",\n        \"description\": \"\"\n      }\n    },\n    {\n      \"column\": \"Action\",\n      \"properties\": {\n        \"dtype\": \"category\",\n        \"num_unique_values\": 2,\n        \"samples\": [\n          \"Short\",\n          \"Long\"\n        ],\n        \"semantic_type\": \"\",\n        \"description\": \"\"\n      }\n    },\n    {\n      \"column\": \"Return\",\n      \"properties\": {\n        \"dtype\": \"number\",\n        \"std\": 0.0021264485107821704,\n        \"min\": -0.02551207845607173,\n        \"max\": 0.012437184086658837,\n        \"num_unique_values\": 1283,\n        \"samples\": [\n          -0.0039046162619149616,\n          0.0035529686760440438\n        ],\n        \"semantic_type\": \"\",\n        \"description\": \"\"\n      }\n    }\n  ]\n}"
            }
          },
          "metadata": {},
          "execution_count": 47
        }
      ]
    },
    {
      "cell_type": "markdown",
      "source": [
        "**Evaluation**\n",
        "\n",
        "Although this model's accuracy is not as high as the model applied to SPY, which might result in greater losses, the trading strategy incurs fewer losses than the benchmark trading strategy and exhibits lower volatility."
      ],
      "metadata": {
        "id": "21X6qRtXMgSG"
      }
    },
    {
      "cell_type": "code",
      "source": [
        "# Calculate and print the accuracy of the model in guessing the correct action\n",
        "right_decision = len([x for x in returns if x >= 1])/len(returns)\n",
        "\n",
        "# Count the number of positive returns\n",
        "positive_returns = df[df['Return'] > 0]\n",
        "negative_returns = df[df['Return'] < 0]\n",
        "\n",
        "# Print results\n",
        "print(\"Average return:\", np.mean(df['Return']))\n",
        "print(\"Direction Accuracy:\",right_decision)\n",
        "print(\"Average positive return\",np.mean(positive_returns['Return']))\n",
        "print(\"Average negative return\",np.mean(negative_returns['Return']))"
      ],
      "metadata": {
        "colab": {
          "base_uri": "https://localhost:8080/"
        },
        "id": "Q3NPR3OmHHiw",
        "outputId": "c6a9cdc9-db7d-4da6-bf0c-92ec68883b1a"
      },
      "execution_count": null,
      "outputs": [
        {
          "output_type": "stream",
          "name": "stdout",
          "text": [
            "Average return: -3.2895970058218226e-06\n",
            "Direction Accuracy: 0.6055469953775039\n",
            "Average positive return 0.0011776911869978413\n",
            "Average negative return -0.0017817769572048678\n"
          ]
        }
      ]
    },
    {
      "cell_type": "code",
      "source": [
        "# Calculate return, volatility and Sharpe ratio\n",
        "total_return=np.prod(returns)\n",
        "volatility=np.std(returns)*np.sqrt(252)\n",
        "yearly_return=(np.prod(returns)**(1/len(returns)))**252-1\n",
        "sharpe_ratio=yearly_return/volatility\n",
        "\n",
        "# Print results\n",
        "print(\"Total return:\",total_return)\n",
        "print(\"Annual return:\",yearly_return)\n",
        "print(\"Volatility:\", volatility)\n",
        "print(\"Sharpe ratio:\",sharpe_ratio)"
      ],
      "metadata": {
        "colab": {
          "base_uri": "https://localhost:8080/"
        },
        "id": "IQAOgJFeHfX5",
        "outputId": "e7c8e29e-0e62-4a30-ef3a-2b0591de87c9"
      },
      "execution_count": null,
      "outputs": [
        {
          "output_type": "stream",
          "name": "stdout",
          "text": [
            "Total return: 0.9928173917815163\n",
            "Annual return: -0.0013985195319790034\n",
            "Volatility: 0.03374331790012282\n",
            "Sharpe ratio: -0.04144582154364592\n"
          ]
        }
      ]
    },
    {
      "cell_type": "code",
      "source": [
        "# Calculate return, volatility and Sharpe ratio\n",
        "actual_return=np.diff(y_test) / y_test[:-1]+1\n",
        "total_return=np.prod(actual_return)\n",
        "volatility=np.std(actual_return)*np.sqrt(252)\n",
        "yearly_return=(np.prod(actual_return)**(1/len(actual_return)))**252-1\n",
        "sharpe_ratio=yearly_return/volatility\n",
        "\n",
        "# Print results\n",
        "print(\"Total return:\",total_return)\n",
        "print(\"Annual return:\",yearly_return)\n",
        "print(\"Volatility:\", volatility)\n",
        "print(\"Sharpe ratio:\",sharpe_ratio)"
      ],
      "metadata": {
        "colab": {
          "base_uri": "https://localhost:8080/"
        },
        "id": "dS7hiNlAHkE-",
        "outputId": "d2c232b1-0361-42e7-9775-7415a43b6bcb"
      },
      "execution_count": null,
      "outputs": [
        {
          "output_type": "stream",
          "name": "stdout",
          "text": [
            "Total return: 0.8916997877209507\n",
            "Annual return: -0.022024987089710346\n",
            "Volatility: 0.06602665216849894\n",
            "Sharpe ratio: -0.33357722020348596\n"
          ]
        }
      ]
    },
    {
      "cell_type": "markdown",
      "source": [
        "**Summary**\n",
        "\n",
        "Using the Bond ETF provides more insight into the trading strategy, allowing us to examine its performance across different asset classes. This shows that while the trading strategy provides very low volatility, it also results in lower returns compared to the benchmark. The accuracy of this extended model is only 60%, indicating that accuracy plays a crucial role in the effectiveness of this linear trading model."
      ],
      "metadata": {
        "id": "NmJi_JM8NOkS"
      }
    },
    {
      "cell_type": "markdown",
      "source": [
        "# Literature Review\n",
        "The paper \"Stock Market Prices Prediction using Random Forest and Extra Tree Regression\" explores the application of machine learning algorithms, specifically Random Forest and Extra Tree Regressors, to predict stock market prices. The results indicate that Decision Tree and Random Forest Regressors outperform other models in terms of prediction accuracy. The study highlights the potential of using machine learning techniques for stock price prediction and suggests that these methods can handle large datasets efficiently, providing a robust tool for financial forecasting. It provides a view of using Random Forest in machine learning to predict closing price.\n",
        "\n",
        "The paper \"Stock Closing Price Prediction using Machine Learning Techniques\" investigates the application of Artificial Neural Network (ANN) and Random Forest (RF) models to predict the closing prices of stocks. By utilizing financial data such as Open, High, Low, and Close prices, the researchers created new variables to enhance the predictive power of their models. Evaluated using Root Mean Square Error (RMSE) and Mean Absolute Percentage Error (MAPE), the results indicated that ANN outperformed RF in terms of prediction accuracy. The paper concludes that incorporating additional data sources, such as financial news, could further improve prediction accuracy, paving the way for more robust financial forecasting tools.\n",
        "\n",
        "The paper \"A Machine Learning Approach for Stock Price Prediction\" by Carson Kai-Sang Leung, Richard Kyle MacKinnon, and Yang Wang explores the use of structural support vector machines (SSVMs) to predict stock price movements. By representing companies in the information technology sector as nodes in a graph structure and using an SSVM to classify these nodes, the study aims to determine whether stock prices will move up or down. Experimental results demonstrate the practicality and effectiveness of this machine learning method, achieving an accuracy rate higher than 78% on training data. It provides insight into the expected accuracy of the model.\n",
        "\n",
        "\"Hands-On Machine Learning with Scikit-Learn, Keras, and TensorFlow\" by Aurélien Géron is a comprehensive guide designed to introduce readers to machine learning and deep learning using popular Python frameworks. The book is divided into two main parts: the fundamentals of machine learning and neural networks, and deep learning. It covers a wide range of topics including data preprocessing, model selection, training, and evaluation. Through hands-on examples and practical exercises, the book helps readers to own the knowledge and tools to implement and deploy machine learning models effectively, which will be used in the project.\n",
        "\n"
      ],
      "metadata": {
        "id": "n5AblWcvPGrR"
      }
    },
    {
      "cell_type": "markdown",
      "source": [
        "# Reference\n",
        "Vijh, M., Chandola, D., Tikkiwal, V. A., & Kumar, A. (2020). Stock Closing Price Prediction using Machine Learning Techniques. Procedia Computer Science, 167, 599-606. https://doi.org/10.1016/j.procs.2020.03.326\n",
        "\n",
        "Leung, C. K.-S., MacKinnon, R. K., & Wang, Y. (2014). A Machine Learning Approach for Stock Price Prediction. In Proceedings of the 18th International Database Engineering & Applications Symposium (IDEAS '14) (pp. 274-277). ACM. https://doi.org/10.1145/2628194.2628211\n",
        "\n",
        "Polamuri, S. R., Srinivas, K., & Mohan, A. K. (2019). Stock Market Prices Prediction using Random Forest and Extra Tree Regression. International Journal of Recent Technology and Engineering (IJRTE), 8(3), 1224-1228. https://doi.org/10.35940/ijrte.C4314.098319\n",
        "\n",
        "Géron, A. (2023). Hands-On Machine Learning with Scikit-Learn, Keras, and TensorFlow (3rd ed.). O'Reilly Media."
      ],
      "metadata": {
        "id": "sLe3yQEgOduB"
      }
    }
  ]
}